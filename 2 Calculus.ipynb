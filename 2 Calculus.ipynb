{
 "cells": [
  {
   "cell_type": "markdown",
   "metadata": {
    "deletable": false,
    "editable": false
   },
   "source": [
    "# Analytical Computing — Inleveropdrachten Calculus\n",
    "\n",
    "De inleveropdracht bestaat uit vier onderdelen, waarvan de laatste twee in deze Jupyter Notebook zitten. Per week lever je een deel in, waarop je vervolgens feedback krijgt. Je kan deze feedback gebruiken om je werk te verbeteren, aan het einde van het blok wordt deze Notebook als portfolio beoordeeld voor je uiteindelijke cijfer.\n",
    "\n",
    "Iedere weekopdracht is verdeeld in een aantal deelopdrachten, waarbij je doorgaans iets moet programmeren om de geleerde wiskunde toe te passen. Daarnaast zijn er formatieve oefen-opdrachten waarbij je iets met de hand uit werkt, deze zijn in een ander notebook te vinden en kijken zichzelf na. Bij de code-opdrachten zal in de meeste gevallen aan het einde een test staan waarmee je kan zien of je code doet wat het moet doen. Iedere weekopdracht wordt afgesloten met een checkpoint, waar alle testen nog een keer herhaald worden. Als dit allemaal goed gaat kun je je werk op Canvas inleveren door een link naar je repository bij de juiste weekopdracht in te leveren. \n",
    "\n",
    "Voor je begint: voer het eerste code-blok uit voor alle imports.\n",
    "\n",
    "## Gebruik\n",
    "In Jupyter kan je code per cel uitvoeren. Deze cel is een tekstcel, als je deze uitvoert gebeurt er in principe niets. Je kunt wel dubbelklikken op de cell om de tekst aan te kunnen passen (dit zul je moeten doen bij de opdrachten waarbij je geen code maar tekst/formules moet schrijven). Als je de cel vervolgens uitvoert komt deze er weer als opgemaakte tekst uit te zien.\n",
    "\n",
    "Als je een code-cell uitvoert krijg je de uitvoer eronder te zien. Soms kan het zijn dat code niet uit wil voeren, zelfs code die al gegeven is. De meest gebruikelijke oorzaak is dat je een eerder code blok niet hebt uitgevoerd, waardoor Python functies of variabelen niet kan vinden. Loop de Notebook altijd van boven naar beneden door en voer in principe alles uit. Als je Jupyter afsluit en later verder gaat zal de uitvoer nog zichtbaar zijn, maar het effect van de code is niet bewaard gebleven. Je zal dan dus alle codeblokken tot waar je gebleven was opnieuw uit moeten voeren, van boven naar beneden. Gebruik de Run-knop in de toolbar of shift+enter om een blok uit te voeren.\n",
    "\n",
    "## Good Practice (AKA voorkomen dat je werk het ineens niet meer doet)\n",
    "Uitgevoerde code in een andere cel blijft in het geheugen, dus als je deze code verwijdert zie je niet meteen of je hele Notebook nog werkt. Let er daarom op als je Notebook op wilt schonen, de code soms blijft werken tot een herstart. **Als je docent de code nakijkt, start deze ook zonder alle verwijderde maar wel uitgevoerde code!** Om veilig code te verwijderen, kopieer het naar een ander document, verwijder het uit de Notebook en doe een *Restart en Run All*. Als alles nog werkt was de code niet nodig, zo niet moet je nog even goed kijken wat je weg aan het halen bent! Hanteer de volgende workflow:\n",
    "- Doe regelmatig een save, en een *Kernel/Restart en Run All*.\n",
    "- Ruim oude code op, en test met een *Kernel/Restart en Run All* dat alles blijft werken.\n",
    "- Als alles hierna nog werkt is het mogelijk tijd voor een Git commit.\n",
    "\n",
    "\n",
    "## FAQ\n",
    "**Q:** Het werkt niet! Jupyter is stom! (en ik heb de sectie \"Gebruik\" niet gelezen)\n",
    "\n",
    "**A:** Lees de sectie gebruik hierboven. \n",
    "\n",
    "**Q:** Functies / variabelen worden niet gevonden, en/of oude tests geven in een keer lange gecompliceerde errors.\n",
    "\n",
    "**A:** Herstart je kernel en voer je code van boven naar beneden uit (*Restart en Run All* kan hierbij helpen). Waarschijnlijk heb je in de tussentijd Jupyter Notebook (of zelfs alleen je Kernel, het ding dat de code uitvoert) herstart, waardoor oude code niet meer geladen is. \n",
    "\n",
    "**Q:** Ik krijg errors dat een functie niet de verwachte parameters heeft, of iets van die strekking.\n",
    "\n",
    "**A:** Mogelijk heb je een geïmporteerde functie overschreven. Herstart de kernel en voer de eerste cel opnieuw uit voor de imports. Mogelijk moet je andere cellen ook opnieuw uitvoeren, als je code functies of variabelen uit de andere cel gebruikt.\n",
    "\n",
    "**Q:** Hoe lever ik mijn werk in?\n",
    "\n",
    "**A:** Zie de uitleg bij Checkpoint Alfa in de eerste Notebook.\n",
    "\n",
    "**Q:** Wanneer moet ik inleveren?\n",
    "\n",
    "**A:** Zie [Canvas](https://canvas.hu.nl/courses/7473/assignments).\n",
    "\n",
    "## Checkpoints\n",
    "- [Charlie](#Unit-Charlie) ([checkpoint](#Checkpoint-Charlie))\n",
    "- [Delta](#Unit-Delta) ([checkpoint](#Checkpoint-Delta))"
   ]
  },
  {
   "cell_type": "code",
   "execution_count": 5,
   "metadata": {},
   "outputs": [],
   "source": [
    "import numpy as np\n",
    "from typing import Callable, Tuple, List\n",
    "from ac import Polynomial, polynomial\n",
    "from ac_formula import Negative, Sec, Cot, Csc\n",
    "import ac_tests\n",
    "import ac_formula"
   ]
  },
  {
   "cell_type": "markdown",
   "metadata": {
    "deletable": false,
    "editable": false
   },
   "source": [
    "# Unit Charlie"
   ]
  },
  {
   "cell_type": "markdown",
   "metadata": {
    "deletable": false,
    "editable": false
   },
   "source": [
    "## Opdracht 0 (30p)\n",
    "Schrijf de onderstaande functies voor het berekenen van limieten. De functie `limit_left` berekent de limiet vanaf de linkerkant, en de functie `limit_right` vanaf de rechterkant. Beide geven `None` terug als de gevraagde limiet niet bestaat. In de functie wordt een variabele `delta` ($\\delta$) bijgehouden, die aangeeft hoe ver we van de opgegeven $x$ waarde de functie proberen te benaderen. Deze variabele wordt herhaaldelijk verlaagt (door te delen door 10) totdat het verschil tussen de huidige aanroep en de vorige lager is dan de parameter `epsilon` ($\\epsilon$). Als de functie er niet in slaagt om de gevraagde waarde te benaderen (het resultaat van de functie-aanroep op $x \\pm\\delta$ is `None`) dan mag de functie `None` teruggeven.\n",
    "\n",
    "De functie `limit` combineert beide functies. Beiden worden geprobeerd, en als de resultaten minder dan $2\\epsilon$ uit elkaar liggen dan wordt het gemiddelde als benadering genomen. Anders geeft de functie `None`.\n",
    "\n",
    "Het test-blok bevat naast de gebruikelijke test ook wat functies die je kan gebruiken om je oplossing te testen en te zien wat er gebeurt. Dit zijn dezelfde functies die ook in de test gebruikt zullen worden. Je kan natuurlijk ook je eigen functies schrijven om als input te gebruiken."
   ]
  },
  {
   "cell_type": "code",
   "execution_count": 62,
   "metadata": {},
   "outputs": [],
   "source": [
    "def limit_left(func: Callable[[float], float], x: float, epsilon: float = 0.0001) -> Tuple[float, float]: # TODO\n",
    "    delta = 1 # Hoeveel zitten we links van de gevraagde waarde?\n",
    "    \n",
    "    \n",
    "    delta_x = func(x-delta)\n",
    "    \n",
    "    while(abs(delta_x - func(x-delta/10)) > epsilon):\n",
    "        delta /= 10\n",
    "        delta_x = func(x-delta)\n",
    "    return func(x-delta/10)\n",
    "\n",
    "        \n",
    "        \n",
    "def limit_right(func: Callable[[float], float], x: float, epsilon: float = 0.0001) -> Tuple[float, float]: # TODO\n",
    "    delta = 1 # Hoeveel zitten we links van de gevraagde waarde?\n",
    "    \n",
    "    delta_x = func(x+delta)\n",
    "\n",
    "    while(abs(delta_x - func(x+delta/10)) > epsilon):\n",
    "        \n",
    "        delta /= 10\n",
    "        delta_x = func(x+delta)\n",
    "\n",
    "    return func(x+delta/10)\n",
    "\n",
    "\n",
    "def limit(func: Callable[[float], float], x: float, epsilon: float = 0.0001) -> Tuple[float, float]: # TODO\n",
    "    \n",
    "    if((limit_left(func,x,epsilon)-limit_right(func,x,epsilon))> 2*epsilon):\n",
    "        return None\n",
    "    else:\n",
    "        return int(limit_left(func,x,epsilon)+limit_right(func,x,epsilon))/2"
   ]
  },
  {
   "cell_type": "code",
   "execution_count": 63,
   "metadata": {
    "deletable": false,
    "editable": false
   },
   "outputs": [
    {
     "data": {
      "text/markdown": [
       "### Tests\n",
       "| **Test** | **Betekenis** |\n",
       "|---:|:---|\n",
       "| `test_holes` | Zoekt de limiet van een functie die op een enkel punt undefined is |\n",
       "| `test_single_discontinuity` | Zoekt de limiet van een functie met een enkel discontinu punt |\n",
       "| `test_left_undefined_above` | Zoekt de limiet van een functie op het punt waar deze ophoudt te bestaan (rechts) |\n",
       "| `test_left_undefined_below` | Zoekt de limiet van een functie op het punt waar deze begint te bestaan (links) |\n",
       "| `test_jump` | Zoekt een niet-bestaande limiet in een piecewise functie |\n",
       "| `test_jump_left` | Zoekt de limiet van links in de piecewise functie |\n",
       "| `test_jump_right` | Zoekt de limiet van rechts in de piecewise functie |"
      ],
      "text/plain": [
       "<IPython.core.display.Markdown object>"
      ]
     },
     "metadata": {},
     "output_type": "display_data"
    },
    {
     "name": "stderr",
     "output_type": "stream",
     "text": [
      "test_holes (ac_tests.test_limit.<locals>.TestLimit) ... ok\n",
      "test_jump (ac_tests.test_limit.<locals>.TestLimit) ... ok\n",
      "test_jump_left (ac_tests.test_limit.<locals>.TestLimit) ... ok\n",
      "test_jump_right (ac_tests.test_limit.<locals>.TestLimit) ... ok\n",
      "test_left_undefined_above (ac_tests.test_limit.<locals>.TestLimit) ... ok\n",
      "test_left_undefined_below (ac_tests.test_limit.<locals>.TestLimit) ... ok\n",
      "test_single_discontinuity (ac_tests.test_limit.<locals>.TestLimit) ... ok\n",
      "\n",
      "----------------------------------------------------------------------\n",
      "Ran 7 tests in 0.003s\n",
      "\n",
      "OK\n"
     ]
    }
   ],
   "source": [
    "def discontinuous_function(x: float) -> float:\n",
    "    if x == 72:\n",
    "        return -10\n",
    "    elif x % 13 == 0:\n",
    "        return None\n",
    "    else:\n",
    "        return 2.5 * x\n",
    "\n",
    "def holes_function(x: float) -> float:\n",
    "    if x % 13 == 0:\n",
    "        return None\n",
    "    else:\n",
    "        return 2.5 * x\n",
    "    \n",
    "def single_discontinuity_function(x: float) -> float:\n",
    "    if x == 72:\n",
    "        return -10\n",
    "    else:\n",
    "        return 2.5 * x\n",
    "    \n",
    "def right_undefined_function(x: float) -> float:\n",
    "    if x >= 10:\n",
    "        return None\n",
    "    else:\n",
    "        return x+3\n",
    "\n",
    "def left_undefined_function(x: float) -> float:\n",
    "    if x <= 10:\n",
    "        return None\n",
    "    else:\n",
    "        return x+3\n",
    "\n",
    "def piecewise_function(x: float) -> float:\n",
    "    if x < -2:\n",
    "        return -1.5*x -2\n",
    "    elif x >= -2 and x <= 1:\n",
    "        return -1/3 * (x-1) + 2\n",
    "    else:\n",
    "        return x-2\n",
    "    \n",
    "ac_tests.test_limit(limit_left, limit_right, limit)"
   ]
  },
  {
   "cell_type": "markdown",
   "metadata": {
    "deletable": false,
    "editable": false
   },
   "source": [
    "## Opdracht 1 (30p)\n",
    "Schrijf een functie die een functie numeriek differentieert. De meegegeven functie wordt twee keer aangeroepen, eenmaal op punt `x` en een keer op `x+delta`; het verschil in `y` wordt gedeeld door het verschil in `x`."
   ]
  },
  {
   "cell_type": "code",
   "execution_count": 56,
   "metadata": {},
   "outputs": [],
   "source": [
    "def get_derivative_at(func: Callable[[float], float], x: float, delta: float = 0.0001) -> float: # TODO\n",
    "  \n",
    "    return((func(x+delta)-func(x))/delta)\n",
    "    "
   ]
  },
  {
   "cell_type": "code",
   "execution_count": 57,
   "metadata": {
    "deletable": false,
    "editable": false
   },
   "outputs": [
    {
     "data": {
      "text/markdown": [
       "### Tests\n",
       "| **Test** | **Betekenis** |\n",
       "|---:|:---|\n",
       "| `test_square` | Zoekt de afgeleide van `square` op $x=2$ |\n",
       "| `test_double` | Zoekt de afgeleide van `double` op $x=2$ |\n",
       "| `test_succ` | Zoekt de afgeleide van `succ` op $x=2$ |"
      ],
      "text/plain": [
       "<IPython.core.display.Markdown object>"
      ]
     },
     "metadata": {},
     "output_type": "display_data"
    },
    {
     "name": "stderr",
     "output_type": "stream",
     "text": [
      "test_double (ac_tests.test_numeric_derivative.<locals>.TestNumericDerivative) ... ok\n",
      "test_square (ac_tests.test_numeric_derivative.<locals>.TestNumericDerivative) ... ok\n",
      "test_succ (ac_tests.test_numeric_derivative.<locals>.TestNumericDerivative) ... ok\n",
      "\n",
      "----------------------------------------------------------------------\n",
      "Ran 3 tests in 0.002s\n",
      "\n",
      "OK\n"
     ]
    }
   ],
   "source": [
    "def square(x: float) -> float:\n",
    "    return x**2\n",
    "\n",
    "def double(x: float) -> float:\n",
    "    return x*2\n",
    "\n",
    "def succ(x: float) -> float:\n",
    "    return x+1\n",
    "    \n",
    "ac_tests.test_numeric_derivative(get_derivative_at)"
   ]
  },
  {
   "cell_type": "markdown",
   "metadata": {
    "deletable": false,
    "editable": false
   },
   "source": [
    "## Opdracht 2 (90p)\n",
    "Het idee van een afgeleide wordt vooral gebruikt waneer we een functie met een formule hebben. Verderop zullen we zien hoe we van een formule de formule voor de afgeleide van een functie op elk punt kunnen berekenen. Zelfs als we geen formule maar een Python functie hebben kunnen we deze gebruiken voor het berekenen van de afgeleide: we roepen de functie aan op $x$ en $x+\\delta$ en kijken wat het verschil is.\n",
    "\n",
    "We kunnen het idee van differentiatie ook gebruiken als we helemaal geen formule hebben, maar enkel data. Als we een tabel hebben van de $x$-waarde van een functie en de bijbehorende $y$ waarde, kunnen we nog steeds zien hoeveel $y$ toeneemt (of afneemt) voor een bepaalde toename in $x$. \n",
    "\n",
    "Het bestand `verkeerssimulatie-rechteweg-posities.csv` bevat een voorbeeld van dit soort data. In het CSV bestand is elke kolom gescheiden door `;` en is de decimal-separator `.` en geeft de eerste rij de huidige positie van een aantal voertuigen. De rijen daarna geven in de eerste kolom de tijd, en in de volgende kolommen de snelheid van de voertuigen. Jullie doel is om de volgende gegevens te bepalen:\n",
    " - Voor elk voertuig de maximum en minimum snelheid en\n",
    " - een grafiek (in python code met matplotlib) van de snelheden van alle voertuigen over de gegeven tijdsperiode (van minimum tijdstip tot maximum tijdstip in het bestand).\n",
    "\n",
    "Daarnaast dient er een uitleg met onderbouwing van de techniek/methode (de achterliggende wiskundige techniek) te zijn hoe je dit doet."
   ]
  },
  {
   "cell_type": "code",
   "execution_count": 90,
   "metadata": {},
   "outputs": [],
   "source": [
    "import csv\n",
    "import matplotlib.pyplot as plot\n",
    "\n",
    "\n",
    "def get_data() -> Tuple[np.ndarray, np.ndarray, np.ndarray]:\n",
    "    \n",
    "    data = open(\"verkeerssimulatie-rechteweg-posities.csv\", \"r\")\n",
    "    \n",
    "    times = []\n",
    "    car_1 = []\n",
    "    car_2 = []\n",
    "    \n",
    "    for row in data:\n",
    "        split_row = row.split(';')\n",
    "        times.append(split_row[0])\n",
    "        car_1.append(split_row[1])\n",
    "        car_2.append(split_row[2])\n",
    "        \n",
    "    return times,car_1,car_2\n",
    "        \n",
    "        \n",
    "def plot_data(ys: np.ndarray, xss: List[np.ndarray]):\n",
    "    \n",
    "    plot.plot(xss,ys)\n",
    "    plot.show()\n",
    "\n",
    "def bereken_deltas(times: np.ndarray, positions: np.ndarray) -> np.ndarray:\n",
    "    print(times,positions)"
   ]
  },
  {
   "cell_type": "code",
   "execution_count": 91,
   "metadata": {
    "deletable": false,
    "editable": false
   },
   "outputs": [
    {
     "data": {
      "text/markdown": [
       "### Tests\n",
       "| **Test** | **Betekenis** |\n",
       "|---:|:---|\n",
       "| `test_min_1` | De minimale waarde van de berekende snelheden klopt voor voertuig 1 |\n",
       "| `test_max_1` | De maximale waarde van de berekende snelheden klopt voor voertuig 1 |\n",
       "| `test_min_1` | De minimale waarde van de berekende snelheden klopt voor voertuig 2 |\n",
       "| `test_max_1` | De maximale waarde van de berekende snelheden klopt voor voertuig 2 |"
      ],
      "text/plain": [
       "<IPython.core.display.Markdown object>"
      ]
     },
     "metadata": {},
     "output_type": "display_data"
    },
    {
     "name": "stderr",
     "output_type": "stream",
     "text": [
      "test_max_1 (ac_tests.test_verkeer_snelheden.<locals>.TestVerkeerSnelheden) ... ERROR\n",
      "test_max_2 (ac_tests.test_verkeer_snelheden.<locals>.TestVerkeerSnelheden) ... ERROR\n",
      "test_min_1 (ac_tests.test_verkeer_snelheden.<locals>.TestVerkeerSnelheden) ... ERROR\n",
      "test_min_2 (ac_tests.test_verkeer_snelheden.<locals>.TestVerkeerSnelheden) ... "
     ]
    },
    {
     "name": "stdout",
     "output_type": "stream",
     "text": [
      "['0', '0.1', '0.2', '0.3', '0.4', '0.5', '0.6', '0.7', '0.8', '0.9', '1', '1.1', '1.2', '1.3', '1.4', '1.5', '1.6', '1.7', '1.8', '1.9', '2', '2.1', '2.2', '2.3', '2.4', '2.5', '2.6', '2.7', '2.8', '2.9', '3', '3.1', '3.2', '3.3', '3.4', '3.5', '3.6', '3.7', '3.8', '3.9', '4', '4.1', '4.2', '4.3', '4.4', '4.5', '4.6', '4.7', '4.8', '4.9', '5', '5.1', '5.2', '5.3', '5.4', '5.5', '5.6', '5.7', '5.8', '5.9', '6', '6.1', '6.2', '6.3', '6.4', '6.5', '6.6', '6.7', '6.8', '6.9', '7', '7.1', '7.2', '7.3', '7.4', '7.5', '7.6', '7.7', '7.8', '7.9', '8', '8.1', '8.2', '8.3', '8.4', '8.5', '8.6', '8.7', '8.8', '8.9', '9', '9.1', '9.2', '9.3', '9.4', '9.5', '9.6', '9.7', '9.8', '9.9', '10', '10.1', '10.2', '10.3', '10.4', '10.5', '10.6', '10.7', '10.8', '10.9', '11', '11.1', '11.2', '11.3', '11.4', '11.5', '11.6', '11.7', '11.8', '11.9', '12', '12.1', '12.2', '12.3', '12.4', '12.5', '12.6', '12.7', '12.8', '12.9', '13', '13.1', '13.2', '13.3', '13.4', '13.5', '13.6', '13.7', '13.8', '13.9', '14', '14.1', '14.2', '14.3', '14.4', '14.5', '14.6', '14.7', '14.8', '14.9', '15', '15.1', '15.2', '15.3', '15.4', '15.5', '15.6', '15.7', '15.8', '15.9', '16', '16.1', '16.2', '16.3', '16.4', '16.5', '16.6', '16.7', '16.8', '16.9', '17', '17.1', '17.2', '17.3', '17.4', '17.5', '17.6', '17.7', '17.8', '17.9', '18', '18.1', '18.2', '18.3', '18.4', '18.5', '18.6', '18.7', '18.8', '18.9', '19', '19.1', '19.2', '19.3', '19.4', '19.5', '19.6', '19.7', '19.8', '19.9', '20', '20.1', '20.2', '20.3', '20.4', '20.5', '20.6', '20.7', '20.8', '20.9', '21', '21.1', '21.2', '21.3', '21.4', '21.5', '21.6', '21.7', '21.8', '21.9', '22', '22.1', '22.2', '22.3', '22.4', '22.5', '22.6', '22.7', '22.8', '22.9', '23', '23.1', '23.2', '23.3', '23.4', '23.5', '23.6', '23.7', '23.8', '23.9', '24', '24.1', '24.2', '24.3', '24.4', '24.5', '24.6', '24.7', '24.8', '24.9', '25', '25.1', '25.2', '25.3', '25.4', '25.5', '25.6', '25.7', '25.8', '25.9', '26', '26.1', '26.2', '26.3', '26.4', '26.5', '26.6', '26.7', '26.8', '26.9', '27', '27.1', '27.2', '27.3', '27.4', '27.5', '27.6', '27.7', '27.8', '27.9', '28', '28.1', '28.2', '28.3', '28.4', '28.5', '28.6', '28.7', '28.8', '28.9', '29', '29.1', '29.2', '29.3', '29.4', '29.5', '29.6', '29.7', '29.8', '29.9', '30', '30.1', '30.2', '30.3', '30.4', '30.5', '30.6', '30.7', '30.8', '30.9', '31', '31.1', '31.2', '31.3', '31.4', '31.5', '31.6', '31.7', '31.8', '31.9', '32', '32.1', '32.2', '32.3', '32.4', '32.5', '32.6', '32.7', '32.8', '32.9', '33', '33.1', '33.2', '33.3', '33.4', '33.5', '33.6', '33.7', '33.8', '33.9', '34', '34.1', '34.2', '34.3', '34.4', '34.5', '34.6', '34.7', '34.8', '34.9', '35', '35.1', '35.2', '35.3', '35.4', '35.5', '35.6', '35.7', '35.8', '35.9', '36', '36.1', '36.2', '36.3', '36.4', '36.5', '36.6', '36.7', '36.8', '36.9', '37', '37.1', '37.2', '37.3', '37.4', '37.5', '37.6', '37.7', '37.8', '37.9', '38', '38.1', '38.2', '38.3', '38.4', '38.5', '38.6', '38.7', '38.8', '38.9', '39', '39.1', '39.2', '39.3', '39.4', '39.5', '39.6', '39.7', '39.8', '39.9', '40', '40.1', '40.2', '40.3', '40.4', '40.5', '40.6', '40.7', '40.8', '40.9', '41', '41.1', '41.2', '41.3', '41.4', '41.5', '41.6', '41.7', '41.8', '41.9', '42', '42.1', '42.2', '42.3', '42.4', '42.5', '42.6', '42.7', '42.8', '42.9', '43', '43.1', '43.2', '43.3', '43.4', '43.5', '43.6', '43.7', '43.8', '43.9', '44', '44.1', '44.2', '44.3', '44.4', '44.5', '44.6', '44.7', '44.8', '44.9', '45', '45.1', '45.2', '45.3', '45.4', '45.5', '45.6', '45.7', '45.8', '45.9', '46', '46.1', '46.2', '46.3', '46.4', '46.5', '46.6', '46.7', '46.8', '46.9', '47', '47.1', '47.2', '47.3', '47.4', '47.5', '47.6', '47.7', '47.8', '47.9', '48', '48.1', '48.2', '48.3', '48.4', '48.5', '48.6', '48.7', '48.8', '48.9', '49', '49.1', '49.2', '49.3', '49.4', '49.5', '49.6', '49.7', '49.8', '49.9', '50', '50.1', '50.2', '50.3', '50.4', '50.5', '50.6', '50.7', '50.8', '50.9', '51', '51.1', '51.2', '51.3', '51.4', '51.5', '51.6', '51.7', '51.8', '51.9', '52', '52.1', '52.2', '52.3', '52.4', '52.5', '52.6', '52.7', '52.8', '52.9', '53', '53.1', '53.2', '53.3', '53.4', '53.5', '53.6', '53.7', '53.8', '53.9', '54', '54.1', '54.2', '54.3', '54.4', '54.5', '54.6', '54.7', '54.8', '54.9', '55', '55.1', '55.2', '55.3', '55.4', '55.5', '55.6', '55.7', '55.8', '55.9', '56', '56.1', '56.2', '56.3', '56.4', '56.5', '56.6', '56.7', '56.8', '56.9', '57', '57.1', '57.2', '57.3', '57.4', '57.5', '57.6', '57.7', '57.8', '57.9', '58', '58.1', '58.2', '58.3', '58.4', '58.5', '58.6', '58.7', '58.8', '58.9', '59', '59.1', '59.2', '59.3', '59.4', '59.5', '59.6', '59.7', '59.8', '59.9', '60', '60.1', '60.2', '60.3', '60.4', '60.5', '60.6', '60.7', '60.8', '60.9', '61', '61.1', '61.2', '61.3', '61.4', '61.5', '61.6', '61.7', '61.8', '61.9', '62', '62.1', '62.2', '62.3', '62.4', '62.5', '62.6', '62.7', '62.8', '62.9', '63', '63.1', '63.2', '63.3', '63.4', '63.5', '63.6', '63.7', '63.8', '63.9', '64', '64.1', '64.2', '64.3', '64.4', '64.5', '64.6', '64.7', '64.8', '64.9', '65', '65.1', '65.2', '65.3', '65.4', '65.5', '65.6', '65.7', '65.8', '65.9', '66', '66.1', '66.2', '66.3', '66.4', '66.5', '66.6', '66.7', '66.8', '66.9', '67', '67.1', '67.2', '67.3', '67.4', '67.5', '67.6', '67.7', '67.8', '67.9', '68', '68.1', '68.2', '68.3', '68.4', '68.5', '68.6', '68.7', '68.8', '68.9', '69', '69.1', '69.2', '69.3', '69.4', '69.5', '69.6', '69.7', '69.8', '69.9', '70', '70.1', '70.2', '70.3', '70.4', '70.5', '70.6', '70.7', '70.8', '70.9', '71', '71.1', '71.2', '71.3', '71.4', '71.5', '71.6', '71.7', '71.8', '71.9', '72', '72.1', '72.2', '72.3', '72.4', '72.5', '72.6', '72.7', '72.8', '72.9', '73', '73.1', '73.2', '73.3', '73.4', '73.5', '73.6', '73.7', '73.8', '73.9', '74', '74.1', '74.2', '74.3', '74.4', '74.5', '74.6', '74.7', '74.8', '74.9', '75', '75.1', '75.2', '75.3', '75.4', '75.5', '75.6', '75.7', '75.8', '75.9', '76', '76.1', '76.2', '76.3', '76.4', '76.5', '76.6', '76.7', '76.8', '76.9', '77', '77.1', '77.2', '77.3', '77.4', '77.5', '77.6', '77.7', '77.8', '77.9', '78', '78.1', '78.2', '78.3', '78.4', '78.5', '78.6', '78.7', '78.8', '78.9', '79', '79.1', '79.2', '79.3', '79.4', '79.5', '79.6', '79.7', '79.8', '79.9', '80', '80.1', '80.2', '80.3', '80.4', '80.5', '80.6', '80.7', '80.8', '80.9', '81', '81.1', '81.2', '81.3', '81.4', '81.5', '81.6', '81.7', '81.8', '81.9', '82', '82.1', '82.2', '82.3', '82.4', '82.5', '82.6', '82.7', '82.8', '82.9', '83', '83.1', '83.2', '83.3', '83.4', '83.5', '83.6', '83.7', '83.8', '83.9', '84', '84.1', '84.2', '84.3', '84.4', '84.5', '84.6', '84.7', '84.8', '84.9', '85', '85.1', '85.2', '85.3', '85.4', '85.5', '85.6', '85.7', '85.8', '85.9', '86', '86.1', '86.2', '86.3', '86.4', '86.5', '86.6', '86.7', '86.8', '86.9', '87', '87.1', '87.2', '87.3', '87.4', '87.5', '87.6', '87.7', '87.8', '87.9', '88', '88.1', '88.2', '88.3', '88.4', '88.5', '88.6', '88.7', '88.8', '88.9', '89', '89.1', '89.2', '89.3', '89.4', '89.5', '89.6', '89.7', '89.8', '89.9', '90', '90.1', '90.2', '90.3', '90.4', '90.5', '90.6', '90.7', '90.8', '90.9', '91', '91.1', '91.2', '91.3', '91.4', '91.5', '91.6', '91.7', '91.8', '91.9', '92', '92.1', '92.2', '92.3', '92.4', '92.5', '92.6', '92.7', '92.8', '92.9', '93', '93.1', '93.2', '93.3', '93.4', '93.5', '93.6', '93.7', '93.8', '93.9', '94', '94.1', '94.2', '94.3', '94.4', '94.5', '94.6', '94.7', '94.8', '94.9', '95', '95.1', '95.2', '95.3', '95.4', '95.5', '95.6', '95.7', '95.8', '95.9', '96', '96.1', '96.2', '96.3', '96.4', '96.5', '96.6', '96.7', '96.8', '96.9', '97', '97.1', '97.2', '97.3', '97.4', '97.5', '97.6', '97.7', '97.8', '97.9', '98', '98.1', '98.2', '98.3', '98.4', '98.5', '98.6', '98.7', '98.8', '98.9', '99', '99.1', '99.2', '99.3', '99.4', '99.5', '99.6', '99.7', '99.8', '99.9', '100', '100.1', '100.2', '100.3', '100.4', '100.5', '100.6', '100.7', '100.8', '100.9', '101', '101.1', '101.2', '101.3', '101.4', '101.5', '101.6', '101.7', '101.8', '101.9', '102', '102.1', '102.2', '102.3', '102.4', '102.5', '102.6', '102.7', '102.8', '102.9', '103', '103.1', '103.2', '103.3', '103.4', '103.5', '103.6', '103.7', '103.8', '103.9', '104', '104.1', '104.2', '104.3', '104.4', '104.5', '104.6', '104.7', '104.8', '104.9', '105', '105.1', '105.2', '105.3', '105.4', '105.5', '105.6', '105.7', '105.8', '105.9', '106', '106.1', '106.2', '106.3', '106.4', '106.5', '106.6', '106.7', '106.8', '106.9', '107', '107.1', '107.2', '107.3', '107.4', '107.5', '107.6', '107.7', '107.8', '107.9', '108', '108.1', '108.2', '108.3', '108.4', '108.5', '108.6', '108.7', '108.8', '108.9', '109', '109.1', '109.2', '109.3', '109.4', '109.5', '109.6', '109.7', '109.8', '109.9', '110', '110.1', '110.2', '110.3', '110.4', '110.5', '110.6', '110.7', '110.8', '110.9', '111', '111.1', '111.2', '111.3', '111.4', '111.5', '111.6', '111.7', '111.8', '111.9', '112', '112.1', '112.2', '112.3', '112.4', '112.5', '112.6', '112.7', '112.8', '112.9', '113', '113.1', '113.2', '113.3', '113.4', '113.5', '113.6', '113.7', '113.8', '113.9', '114', '114.1', '114.2', '114.3', '114.4', '114.5', '114.6', '114.7', '114.8', '114.9', '115', '115.1', '115.2', '115.3', '115.4', '115.5', '115.6', '115.7', '115.8', '115.9', '116', '116.1', '116.2', '116.3', '116.4', '116.5', '116.6', '116.7', '116.8', '116.9', '117', '117.1', '117.2', '117.3', '117.4', '117.5', '117.6', '117.7', '117.8', '117.9', '118', '118.1', '118.2', '118.3', '118.4', '118.5', '118.6', '118.7', '118.8', '118.9', '119', '119.1', '119.2', '119.3', '119.4', '119.5', '119.6', '119.7', '119.8', '119.9'] ['0.03', '0.04', '0.05', '0.08', '0.12', '0.18', '0.26', '0.36', '0.48', '0.64', '0.82', '1.03', '1.26', '1.53', '1.82', '2.14', '2.48', '2.86', '3.26', '3.69', '4.15', '4.64', '5.15', '5.69', '6.26', '6.86', '7.48', '8.14', '8.82', '9.53', '10.26', '11.03', '11.82', '12.64', '13.48', '14.36', '15.26', '16.19', '17.15', '18.14', '19.15', '20.19', '21.26', '22.36', '23.48', '24.62', '25.78', '26.96', '28.17', '29.39', '30.62', '31.87', '33.14', '34.41', '35.71', '37.01', '38.32', '39.64', '40.98', '42.31', '43.66', '45.02', '46.38', '47.74', '49.12', '50.49', '51.88', '53.27', '54.66', '56.06', '57.45', '58.84', '60.24', '61.63', '63.03', '64.42', '65.82', '67.21', '68.61', '70.00', '71.39', '72.79', '74.18', '75.58', '76.97', '78.37', '79.76', '81.16', '82.55', '83.94', '85.34', '86.73', '88.13', '89.52', '90.92', '92.31', '93.71', '95.10', '96.49', '97.89', '99.28', '100.68', '102.07', '103.47', '104.86', '106.26', '107.65', '109.04', '110.44', '111.83', '113.23', '114.62', '116.02', '117.41', '118.81', '120.20', '121.59', '122.99', '124.38', '125.78', '127.17', '128.57', '129.96', '131.36', '132.75', '134.14', '135.54', '136.93', '138.33', '139.72', '141.12', '142.51', '143.91', '145.30', '146.69', '148.09', '149.48', '150.88', '152.28', '153.68', '155.09', '156.51', '157.95', '159.40', '160.87', '162.37', '163.89', '165.43', '167.01', '168.62', '170.27', '171.94', '173.66', '175.40', '177.18', '178.99', '180.83', '182.71', '184.62', '186.57', '188.54', '190.56', '192.60', '194.68', '196.79', '198.93', '201.11', '203.32', '205.57', '207.84', '210.16', '212.50', '214.88', '217.29', '219.73', '222.21', '224.72', '227.27', '229.84', '232.46', '235.09', '237.76', '240.44', '243.14', '245.86', '248.58', '251.32', '254.07', '256.82', '259.57', '262.33', '265.10', '267.87', '270.65', '273.43', '276.22', '279.02', '281.82', '284.62', '287.43', '290.23', '293.04', '295.84', '298.65', '301.46', '304.26', '307.07', '309.87', '312.68', '315.48', '318.29', '321.09', '323.90', '326.71', '329.51', '332.32', '335.12', '337.93', '340.73', '343.54', '346.34', '349.15', '351.96', '354.76', '357.57', '360.37', '363.18', '365.98', '368.79', '371.59', '374.40', '377.21', '380.01', '382.82', '385.62', '388.43', '391.23', '394.04', '396.84', '399.65', '402.46', '405.26', '408.07', '410.87', '413.68', '416.47', '419.26', '422.04', '424.80', '427.55', '430.28', '432.99', '435.69', '438.37', '441.04', '443.68', '446.31', '448.93', '451.53', '454.11', '456.67', '459.22', '461.75', '464.26', '466.76', '469.24', '471.70', '474.15', '476.58', '478.99', '481.39', '483.77', '486.14', '488.48', '490.81', '493.13', '495.44', '497.73', '500.03', '502.31', '504.60', '506.89', '509.18', '511.47', '513.76', '516.05', '518.34', '520.63', '522.91', '525.20', '527.49', '529.78', '532.07', '534.36', '536.65', '538.94', '541.23', '543.51', '545.80', '548.09', '550.38', '552.67', '554.96', '557.25', '559.54', '561.83', '564.11', '566.40', '568.69', '570.98', '573.27', '575.56', '577.85', '580.14', '582.43', '584.71', '587.00', '589.29', '591.58', '593.87', '596.16', '598.45', '600.74', '603.03', '605.31', '607.60', '609.89', '612.18', '614.47', '616.77', '619.08', '621.39', '623.72', '626.07', '628.44', '630.83', '633.24', '635.68', '638.15', '640.66', '643.20', '645.78', '648.40', '651.06', '653.76', '656.49', '659.27', '662.08', '664.93', '667.83', '670.76', '673.73', '676.74', '679.80', '682.89', '686.03', '689.21', '692.42', '695.67', '698.96', '702.29', '705.66', '709.07', '712.52', '716.01', '719.53', '723.09', '726.68', '730.28', '733.91', '737.54', '741.19', '744.83', '748.47', '752.11', '755.75', '759.39', '763.04', '766.68', '770.32', '773.96', '777.60', '781.24', '784.89', '788.53', '792.17', '795.81', '799.45', '803.09', '806.74', '810.38', '814.02', '817.66', '821.30', '824.94', '828.59', '832.23', '835.87', '839.51', '843.15', '846.79', '850.44', '854.08', '857.72', '861.36', '865.00', '868.64', '872.29', '875.93', '879.57', '883.21', '886.85', '890.49', '894.14', '897.78', '901.42', '905.06', '908.70', '912.34', '915.99', '919.63', '923.27', '926.91', '930.55', '934.19', '937.84', '941.48', '945.12', '948.76', '952.40', '956.04', '959.69', '963.33', '966.97', '970.61', '974.25', '977.89', '981.54', '985.18', '988.82', '992.46', '996.10', '999.74', '1003.39', '1007.03', '1010.67', '1014.31', '1017.95', '1021.59', '1025.24', '1028.88', '1032.52', '1036.16', '1039.80', '1043.44', '1047.09', '1050.73', '1054.37', '1058.01', '1061.65', '1065.29', '1068.94', '1072.58', '1076.23', '1079.89', '1083.55', '1087.22', '1090.89', '1094.55', '1098.22', '1101.89', '1105.55', '1109.22', '1112.89', '1116.55', '1120.22', '1123.89', '1127.55', '1131.22', '1134.89', '1138.55', '1142.22', '1145.89', '1149.55', '1153.22', '1156.89', '1160.55', '1164.22', '1167.89', '1171.55', '1175.22', '1178.89', '1182.55', '1186.22', '1189.89', '1193.55', '1197.22', '1200.89', '1204.55', '1208.22', '1211.89', '1215.55', '1219.22', '1222.89', '1226.55', '1230.22', '1233.89', '1237.55', '1241.22', '1244.89', '1248.55', '1252.22', '1255.89', '1259.55', '1263.22', '1266.89', '1270.55', '1274.22', '1277.89', '1281.55', '1285.22', '1288.89', '1292.55', '1296.22', '1299.89', '1303.55', '1307.22', '1310.89', '1314.55', '1318.22', '1321.89', '1325.55', '1329.22', '1332.89', '1336.55', '1340.22', '1343.89', '1347.55', '1351.22', '1354.89', '1358.55', '1362.22', '1365.89', '1369.55', '1373.22', '1376.89', '1380.55', '1384.22', '1387.89', '1391.55', '1395.22', '1398.89', '1402.55', '1406.22', '1409.89', '1413.55', '1417.22', '1420.89', '1424.55', '1428.22', '1431.89', '1435.55', '1439.22', '1442.89', '1446.56', '1450.23', '1453.91', '1457.61', '1461.32', '1465.04', '1468.76', '1472.50', '1476.23', '1479.97', '1483.71', '1487.44', '1491.17', '1494.89', '1498.61', '1502.32', '1506.03', '1509.73', '1513.42', '1517.11', '1520.79', '1524.47', '1528.14', '1531.81', '1535.47', '1539.13', '1542.78', '1546.44', '1550.09', '1553.75', '1557.40', '1561.06', '1564.71', '1568.37', '1572.03', '1575.68', '1579.34', '1582.99', '1586.65', '1590.30', '1593.96', '1597.61', '1601.27', '1604.93', '1608.58', '1612.24', '1615.89', '1619.55', '1623.20', '1626.86', '1630.51', '1634.17', '1637.83', '1641.48', '1645.14', '1648.79', '1652.45', '1656.10', '1659.76', '1663.41', '1667.07', '1670.73', '1674.38', '1678.04', '1681.69', '1685.35', '1689.00', '1692.66', '1696.31', '1699.97', '1703.63', '1707.28', '1710.94', '1714.59', '1718.25', '1721.90', '1725.56', '1729.21', '1732.87', '1736.53', '1740.18', '1743.84', '1747.49', '1751.15', '1754.80', '1758.46', '1762.11', '1765.77', '1769.43', '1773.08', '1776.74', '1780.39', '1784.05', '1787.70', '1791.36', '1795.01', '1798.67', '1802.33', '1805.98', '1809.64', '1813.29', '1816.95', '1820.60', '1824.26', '1827.91', '1831.57', '1835.23', '1838.88', '1842.54', '1846.19', '1849.85', '1853.50', '1857.16', '1860.81', '1864.47', '1868.13', '1871.78', '1875.44', '1879.09', '1882.75', '1886.40', '1890.06', '1893.71', '1897.37', '1901.03', '1904.68', '1908.34', '1911.99', '1915.65', '1919.30', '1922.96', '1926.61', '1930.27', '1933.93', '1937.58', '1941.24', '1944.89', '1948.55', '1952.20', '1955.86', '1959.51', '1963.17', '1966.83', '1970.48', '1974.14', '1977.79', '1981.45', '1985.10', '1988.76', '1992.41', '1996.07', '1999.73', '2003.38', '2007.04', '2010.69', '2014.35', '2018.00', '2021.66', '2025.31', '2028.97', '2032.63', '2036.28', '2039.94', '2043.59', '2047.25', '2050.90', '2054.56', '2058.21', '2061.87', '2065.53', '2069.18', '2072.84', '2076.49', '2080.15', '2083.80', '2087.46', '2091.11', '2094.77', '2098.43', '2102.08', '2105.74', '2109.39', '2113.05', '2116.70', '2120.36', '2124.01', '2127.67', '2131.33', '2134.98', '2138.64', '2142.29', '2145.95', '2149.60', '2153.26', '2156.91', '2160.57', '2164.23', '2167.88', '2171.54', '2175.19', '2178.85', '2182.50', '2186.16', '2189.81', '2193.47', '2197.13', '2200.78', '2204.44', '2208.09', '2211.75', '2215.40', '2219.05', '2222.70', '2226.34', '2229.98', '2233.62', '2237.26', '2240.89', '2244.52', '2248.14', '2251.76', '2255.37', '2258.98', '2262.58', '2266.17', '2269.76', '2273.34', '2276.91', '2280.48', '2284.03', '2287.58', '2291.12', '2294.65', '2298.17', '2301.68', '2305.19', '2308.68', '2312.17', '2315.64', '2319.10', '2322.55', '2325.99', '2329.42', '2332.83', '2336.24', '2339.63', '2343.02', '2346.39', '2349.75', '2353.10', '2356.43', '2359.75', '2363.06', '2366.35', '2369.63', '2372.89', '2376.14', '2379.38', '2382.60', '2385.81', '2389.00', '2392.18', '2395.35', '2398.50', '2401.64', '2404.76', '2407.88', '2410.97', '2414.06', '2417.13', '2420.18', '2423.22', '2426.25', '2429.26', '2432.26', '2435.25', '2438.22', '2441.18', '2444.13', '2447.06', '2449.97', '2452.88', '2455.76', '2458.64', '2461.50', '2464.35', '2467.18', '2470.00', '2472.81', '2475.60', '2478.38', '2481.14', '2483.89', '2486.63', '2489.35', '2492.06', '2494.75', '2497.43', '2500.10', '2502.75', '2505.39', '2508.01', '2510.63', '2513.22', '2515.81', '2518.38', '2520.93', '2523.47', '2526.00', '2528.51', '2531.01', '2533.50', '2535.97', '2538.43', '2540.88', '2543.31', '2545.72', '2548.13', '2550.50', '2552.85', '2555.17', '2557.46', '2559.72', '2561.96', '2564.17', '2566.35', '2568.50', '2570.63', '2572.72', '2574.79', '2576.83', '2578.85', '2580.83', '2582.79', '2584.72', '2586.63', '2588.50', '2590.35', '2592.17', '2593.96', '2595.72', '2597.46', '2599.17', '2600.85', '2602.49', '2604.10', '2605.67', '2607.19', '2608.68', '2610.15', '2611.58', '2612.99', '2614.40', '2615.81', '2617.22', '2618.63', '2620.03', '2621.44', '2622.85', '2624.26', '2625.67', '2627.08', '2628.48', '2629.89', '2631.30', '2632.71', '2634.12', '2635.53', '2636.93', '2638.34', '2639.75', '2641.16', '2642.57', '2643.98', '2645.38', '2646.79', '2648.19', '2649.57', '2650.93', '2652.29', '2653.63', '2654.95', '2656.26', '2657.56', '2658.84', '2660.11', '2661.37', '2662.61', '2663.84', '2665.05', '2666.25', '2667.44', '2668.61', '2669.77', '2670.91', '2672.04', '2673.16', '2674.26', '2675.35', '2676.43', '2677.49', '2678.53', '2679.57', '2680.59', '2681.59', '2682.58', '2683.56', '2684.53', '2685.48', '2686.41', '2687.33', '2688.26', '2689.18', '2690.10', '2691.02', '2691.94', '2692.87', '2693.79', '2694.71', '2695.63', '2696.56', '2697.48', '2698.40', '2699.32', '2700.24', '2701.17', '2702.09', '2703.01', '2703.93', '2704.86', '2705.78', '2706.70', '2707.62', '2708.54', '2709.47', '2710.39', '2711.31', '2712.23', '2713.16', '2714.08', '2715.00', '2715.92', '2716.84', '2717.77', '2718.69', '2719.61', '2720.53', '2721.46', '2722.38', '2723.30', '2724.22', '2725.13', '2726.03', '2726.91', '2727.77', '2728.63', '2729.46', '2730.29', '2731.10', '2731.90', '2732.68', '2733.45', '2734.21', '2734.95', '2735.68', '2736.39', '2737.09', '2737.78', '2738.45', '2739.11', '2739.75', '2740.38', '2741.00', '2741.60', '2742.19', '2742.76', '2743.33', '2743.87', '2744.41', '2744.93', '2745.43', '2745.92', '2746.40', '2746.86', '2747.31', '2747.75', '2748.17', '2748.58', '2748.98', '2749.36', '2749.72', '2750.08', '2750.41', '2750.74', '2751.05', '2751.35', '2751.63', '2751.90', '2752.16', '2752.40', '2752.63', '2752.84', '2753.04', '2753.23', '2753.40', '2753.56', '2753.70', '2753.83', '2753.95', '2754.05', '2754.14', '2754.21', '2754.28', '2754.32', '2754.36', '2754.38', '2754.38', '2754.37', '2754.35', '2754.33', '2754.31', '2754.28', '2754.26', '2754.23', '2754.18', '2754.13', '2754.06', '2753.98', '2753.89', '2753.79', '2753.68', '2753.56', '2753.43', '2753.28', '2753.13', '2752.96', '2752.78', '2752.59', '2752.39', '2752.18', '2751.96', '2751.73', '2751.48', '2751.24', '2750.99', '2750.75', '2750.51', '2750.26', '2750.02', '2749.77', '2749.53', '2749.28', '2749.04', '2748.80', '2748.56', '2748.33', '2748.12', '2747.91', '2747.72', '2747.53', '2747.36', '2747.20', '2747.05', '2746.91', '2746.78', '2746.67', '2746.56', '2746.47', '2746.38', '2746.31', '2746.25', '2746.20', '2746.16', '2746.13', '2746.11', '2746.09', '2746.07', '2746.04', '2746.02', '2746.00', '2745.98', '2745.96', '2745.93', '2745.91', '2745.90', '2745.89', '2745.90', '2745.92', '2745.95', '2746.00', '2746.06', '2746.14', '2746.23', '2746.33', '2746.44', '2746.58', '2746.72', '2746.88', '2747.05', '2747.24', '2747.44', '2747.65', '2747.88', '2748.12', '2748.37', '2748.63', '2748.90', '2749.17', '2749.44', '2749.71', '2749.97', '2750.22', '2750.46', '2750.69', '2750.90', '2751.10', '2751.29', '2751.46', '2751.62', '2751.76', '2751.89', '2752.01', '2752.11', '2752.20', '2752.28', '2752.34', '2752.39', '2752.44', '2752.47', '2752.49', '2752.51', '2752.52', '2752.53', '2752.53', '2752.53', '2752.53']\n",
      "['0', '0.1', '0.2', '0.3', '0.4', '0.5', '0.6', '0.7', '0.8', '0.9', '1', '1.1', '1.2', '1.3', '1.4', '1.5', '1.6', '1.7', '1.8', '1.9', '2', '2.1', '2.2', '2.3', '2.4', '2.5', '2.6', '2.7', '2.8', '2.9', '3', '3.1', '3.2', '3.3', '3.4', '3.5', '3.6', '3.7', '3.8', '3.9', '4', '4.1', '4.2', '4.3', '4.4', '4.5', '4.6', '4.7', '4.8', '4.9', '5', '5.1', '5.2', '5.3', '5.4', '5.5', '5.6', '5.7', '5.8', '5.9', '6', '6.1', '6.2', '6.3', '6.4', '6.5', '6.6', '6.7', '6.8', '6.9', '7', '7.1', '7.2', '7.3', '7.4', '7.5', '7.6', '7.7', '7.8', '7.9', '8', '8.1', '8.2', '8.3', '8.4', '8.5', '8.6', '8.7', '8.8', '8.9', '9', '9.1', '9.2', '9.3', '9.4', '9.5', '9.6', '9.7', '9.8', '9.9', '10', '10.1', '10.2', '10.3', '10.4', '10.5', '10.6', '10.7', '10.8', '10.9', '11', '11.1', '11.2', '11.3', '11.4', '11.5', '11.6', '11.7', '11.8', '11.9', '12', '12.1', '12.2', '12.3', '12.4', '12.5', '12.6', '12.7', '12.8', '12.9', '13', '13.1', '13.2', '13.3', '13.4', '13.5', '13.6', '13.7', '13.8', '13.9', '14', '14.1', '14.2', '14.3', '14.4', '14.5', '14.6', '14.7', '14.8', '14.9', '15', '15.1', '15.2', '15.3', '15.4', '15.5', '15.6', '15.7', '15.8', '15.9', '16', '16.1', '16.2', '16.3', '16.4', '16.5', '16.6', '16.7', '16.8', '16.9', '17', '17.1', '17.2', '17.3', '17.4', '17.5', '17.6', '17.7', '17.8', '17.9', '18', '18.1', '18.2', '18.3', '18.4', '18.5', '18.6', '18.7', '18.8', '18.9', '19', '19.1', '19.2', '19.3', '19.4', '19.5', '19.6', '19.7', '19.8', '19.9', '20', '20.1', '20.2', '20.3', '20.4', '20.5', '20.6', '20.7', '20.8', '20.9', '21', '21.1', '21.2', '21.3', '21.4', '21.5', '21.6', '21.7', '21.8', '21.9', '22', '22.1', '22.2', '22.3', '22.4', '22.5', '22.6', '22.7', '22.8', '22.9', '23', '23.1', '23.2', '23.3', '23.4', '23.5', '23.6', '23.7', '23.8', '23.9', '24', '24.1', '24.2', '24.3', '24.4', '24.5', '24.6', '24.7', '24.8', '24.9', '25', '25.1', '25.2', '25.3', '25.4', '25.5', '25.6', '25.7', '25.8', '25.9', '26', '26.1', '26.2', '26.3', '26.4', '26.5', '26.6', '26.7', '26.8', '26.9', '27', '27.1', '27.2', '27.3', '27.4', '27.5', '27.6', '27.7', '27.8', '27.9', '28', '28.1', '28.2', '28.3', '28.4', '28.5', '28.6', '28.7', '28.8', '28.9', '29', '29.1', '29.2', '29.3', '29.4', '29.5', '29.6', '29.7', '29.8', '29.9', '30', '30.1', '30.2', '30.3', '30.4', '30.5', '30.6', '30.7', '30.8', '30.9', '31', '31.1', '31.2', '31.3', '31.4', '31.5', '31.6', '31.7', '31.8', '31.9', '32', '32.1', '32.2', '32.3', '32.4', '32.5', '32.6', '32.7', '32.8', '32.9', '33', '33.1', '33.2', '33.3', '33.4', '33.5', '33.6', '33.7', '33.8', '33.9', '34', '34.1', '34.2', '34.3', '34.4', '34.5', '34.6', '34.7', '34.8', '34.9', '35', '35.1', '35.2', '35.3', '35.4', '35.5', '35.6', '35.7', '35.8', '35.9', '36', '36.1', '36.2', '36.3', '36.4', '36.5', '36.6', '36.7', '36.8', '36.9', '37', '37.1', '37.2', '37.3', '37.4', '37.5', '37.6', '37.7', '37.8', '37.9', '38', '38.1', '38.2', '38.3', '38.4', '38.5', '38.6', '38.7', '38.8', '38.9', '39', '39.1', '39.2', '39.3', '39.4', '39.5', '39.6', '39.7', '39.8', '39.9', '40', '40.1', '40.2', '40.3', '40.4', '40.5', '40.6', '40.7', '40.8', '40.9', '41', '41.1', '41.2', '41.3', '41.4', '41.5', '41.6', '41.7', '41.8', '41.9', '42', '42.1', '42.2', '42.3', '42.4', '42.5', '42.6', '42.7', '42.8', '42.9', '43', '43.1', '43.2', '43.3', '43.4', '43.5', '43.6', '43.7', '43.8', '43.9', '44', '44.1', '44.2', '44.3', '44.4', '44.5', '44.6', '44.7', '44.8', '44.9', '45', '45.1', '45.2', '45.3', '45.4', '45.5', '45.6', '45.7', '45.8', '45.9', '46', '46.1', '46.2', '46.3', '46.4', '46.5', '46.6', '46.7', '46.8', '46.9', '47', '47.1', '47.2', '47.3', '47.4', '47.5', '47.6', '47.7', '47.8', '47.9', '48', '48.1', '48.2', '48.3', '48.4', '48.5', '48.6', '48.7', '48.8', '48.9', '49', '49.1', '49.2', '49.3', '49.4', '49.5', '49.6', '49.7', '49.8', '49.9', '50', '50.1', '50.2', '50.3', '50.4', '50.5', '50.6', '50.7', '50.8', '50.9', '51', '51.1', '51.2', '51.3', '51.4', '51.5', '51.6', '51.7', '51.8', '51.9', '52', '52.1', '52.2', '52.3', '52.4', '52.5', '52.6', '52.7', '52.8', '52.9', '53', '53.1', '53.2', '53.3', '53.4', '53.5', '53.6', '53.7', '53.8', '53.9', '54', '54.1', '54.2', '54.3', '54.4', '54.5', '54.6', '54.7', '54.8', '54.9', '55', '55.1', '55.2', '55.3', '55.4', '55.5', '55.6', '55.7', '55.8', '55.9', '56', '56.1', '56.2', '56.3', '56.4', '56.5', '56.6', '56.7', '56.8', '56.9', '57', '57.1', '57.2', '57.3', '57.4', '57.5', '57.6', '57.7', '57.8', '57.9', '58', '58.1', '58.2', '58.3', '58.4', '58.5', '58.6', '58.7', '58.8', '58.9', '59', '59.1', '59.2', '59.3', '59.4', '59.5', '59.6', '59.7', '59.8', '59.9', '60', '60.1', '60.2', '60.3', '60.4', '60.5', '60.6', '60.7', '60.8', '60.9', '61', '61.1', '61.2', '61.3', '61.4', '61.5', '61.6', '61.7', '61.8', '61.9', '62', '62.1', '62.2', '62.3', '62.4', '62.5', '62.6', '62.7', '62.8', '62.9', '63', '63.1', '63.2', '63.3', '63.4', '63.5', '63.6', '63.7', '63.8', '63.9', '64', '64.1', '64.2', '64.3', '64.4', '64.5', '64.6', '64.7', '64.8', '64.9', '65', '65.1', '65.2', '65.3', '65.4', '65.5', '65.6', '65.7', '65.8', '65.9', '66', '66.1', '66.2', '66.3', '66.4', '66.5', '66.6', '66.7', '66.8', '66.9', '67', '67.1', '67.2', '67.3', '67.4', '67.5', '67.6', '67.7', '67.8', '67.9', '68', '68.1', '68.2', '68.3', '68.4', '68.5', '68.6', '68.7', '68.8', '68.9', '69', '69.1', '69.2', '69.3', '69.4', '69.5', '69.6', '69.7', '69.8', '69.9', '70', '70.1', '70.2', '70.3', '70.4', '70.5', '70.6', '70.7', '70.8', '70.9', '71', '71.1', '71.2', '71.3', '71.4', '71.5', '71.6', '71.7', '71.8', '71.9', '72', '72.1', '72.2', '72.3', '72.4', '72.5', '72.6', '72.7', '72.8', '72.9', '73', '73.1', '73.2', '73.3', '73.4', '73.5', '73.6', '73.7', '73.8', '73.9', '74', '74.1', '74.2', '74.3', '74.4', '74.5', '74.6', '74.7', '74.8', '74.9', '75', '75.1', '75.2', '75.3', '75.4', '75.5', '75.6', '75.7', '75.8', '75.9', '76', '76.1', '76.2', '76.3', '76.4', '76.5', '76.6', '76.7', '76.8', '76.9', '77', '77.1', '77.2', '77.3', '77.4', '77.5', '77.6', '77.7', '77.8', '77.9', '78', '78.1', '78.2', '78.3', '78.4', '78.5', '78.6', '78.7', '78.8', '78.9', '79', '79.1', '79.2', '79.3', '79.4', '79.5', '79.6', '79.7', '79.8', '79.9', '80', '80.1', '80.2', '80.3', '80.4', '80.5', '80.6', '80.7', '80.8', '80.9', '81', '81.1', '81.2', '81.3', '81.4', '81.5', '81.6', '81.7', '81.8', '81.9', '82', '82.1', '82.2', '82.3', '82.4', '82.5', '82.6', '82.7', '82.8', '82.9', '83', '83.1', '83.2', '83.3', '83.4', '83.5', '83.6', '83.7', '83.8', '83.9', '84', '84.1', '84.2', '84.3', '84.4', '84.5', '84.6', '84.7', '84.8', '84.9', '85', '85.1', '85.2', '85.3', '85.4', '85.5', '85.6', '85.7', '85.8', '85.9', '86', '86.1', '86.2', '86.3', '86.4', '86.5', '86.6', '86.7', '86.8', '86.9', '87', '87.1', '87.2', '87.3', '87.4', '87.5', '87.6', '87.7', '87.8', '87.9', '88', '88.1', '88.2', '88.3', '88.4', '88.5', '88.6', '88.7', '88.8', '88.9', '89', '89.1', '89.2', '89.3', '89.4', '89.5', '89.6', '89.7', '89.8', '89.9', '90', '90.1', '90.2', '90.3', '90.4', '90.5', '90.6', '90.7', '90.8', '90.9', '91', '91.1', '91.2', '91.3', '91.4', '91.5', '91.6', '91.7', '91.8', '91.9', '92', '92.1', '92.2', '92.3', '92.4', '92.5', '92.6', '92.7', '92.8', '92.9', '93', '93.1', '93.2', '93.3', '93.4', '93.5', '93.6', '93.7', '93.8', '93.9', '94', '94.1', '94.2', '94.3', '94.4', '94.5', '94.6', '94.7', '94.8', '94.9', '95', '95.1', '95.2', '95.3', '95.4', '95.5', '95.6', '95.7', '95.8', '95.9', '96', '96.1', '96.2', '96.3', '96.4', '96.5', '96.6', '96.7', '96.8', '96.9', '97', '97.1', '97.2', '97.3', '97.4', '97.5', '97.6', '97.7', '97.8', '97.9', '98', '98.1', '98.2', '98.3', '98.4', '98.5', '98.6', '98.7', '98.8', '98.9', '99', '99.1', '99.2', '99.3', '99.4', '99.5', '99.6', '99.7', '99.8', '99.9', '100', '100.1', '100.2', '100.3', '100.4', '100.5', '100.6', '100.7', '100.8', '100.9', '101', '101.1', '101.2', '101.3', '101.4', '101.5', '101.6', '101.7', '101.8', '101.9', '102', '102.1', '102.2', '102.3', '102.4', '102.5', '102.6', '102.7', '102.8', '102.9', '103', '103.1', '103.2', '103.3', '103.4', '103.5', '103.6', '103.7', '103.8', '103.9', '104', '104.1', '104.2', '104.3', '104.4', '104.5', '104.6', '104.7', '104.8', '104.9', '105', '105.1', '105.2', '105.3', '105.4', '105.5', '105.6', '105.7', '105.8', '105.9', '106', '106.1', '106.2', '106.3', '106.4', '106.5', '106.6', '106.7', '106.8', '106.9', '107', '107.1', '107.2', '107.3', '107.4', '107.5', '107.6', '107.7', '107.8', '107.9', '108', '108.1', '108.2', '108.3', '108.4', '108.5', '108.6', '108.7', '108.8', '108.9', '109', '109.1', '109.2', '109.3', '109.4', '109.5', '109.6', '109.7', '109.8', '109.9', '110', '110.1', '110.2', '110.3', '110.4', '110.5', '110.6', '110.7', '110.8', '110.9', '111', '111.1', '111.2', '111.3', '111.4', '111.5', '111.6', '111.7', '111.8', '111.9', '112', '112.1', '112.2', '112.3', '112.4', '112.5', '112.6', '112.7', '112.8', '112.9', '113', '113.1', '113.2', '113.3', '113.4', '113.5', '113.6', '113.7', '113.8', '113.9', '114', '114.1', '114.2', '114.3', '114.4', '114.5', '114.6', '114.7', '114.8', '114.9', '115', '115.1', '115.2', '115.3', '115.4', '115.5', '115.6', '115.7', '115.8', '115.9', '116', '116.1', '116.2', '116.3', '116.4', '116.5', '116.6', '116.7', '116.8', '116.9', '117', '117.1', '117.2', '117.3', '117.4', '117.5', '117.6', '117.7', '117.8', '117.9', '118', '118.1', '118.2', '118.3', '118.4', '118.5', '118.6', '118.7', '118.8', '118.9', '119', '119.1', '119.2', '119.3', '119.4', '119.5', '119.6', '119.7', '119.8', '119.9'] ['200.03\\n', '200.04\\n', '200.05\\n', '200.08\\n', '200.12\\n', '200.18\\n', '200.26\\n', '200.36\\n', '200.48\\n', '200.63\\n', '200.79\\n', '200.98\\n', '201.19\\n', '201.43\\n', '201.68\\n', '201.96\\n', '202.26\\n', '202.58\\n', '202.93\\n', '203.29\\n', '203.68\\n', '204.09\\n', '204.53\\n', '204.98\\n', '205.46\\n', '205.96\\n', '206.48\\n', '207.03\\n', '207.59\\n', '208.18\\n', '208.79\\n', '209.43\\n', '210.08\\n', '210.76\\n', '211.46\\n', '212.18\\n', '212.93\\n', '213.69\\n', '214.48\\n', '215.29\\n', '216.13\\n', '216.98\\n', '217.86\\n', '218.76\\n', '219.68\\n', '220.63\\n', '221.59\\n', '222.58\\n', '223.58\\n', '224.61\\n', '225.64\\n', '226.70\\n', '227.76\\n', '228.84\\n', '229.94\\n', '231.04\\n', '232.16\\n', '233.29\\n', '234.42\\n', '235.56\\n', '236.71\\n', '237.87\\n', '239.03\\n', '240.20\\n', '241.38\\n', '242.56\\n', '243.74\\n', '244.94\\n', '246.13\\n', '247.33\\n', '248.53\\n', '249.73\\n', '250.92\\n', '252.12\\n', '253.32\\n', '254.51\\n', '255.71\\n', '256.91\\n', '258.11\\n', '259.30\\n', '260.50\\n', '261.70\\n', '262.89\\n', '264.09\\n', '265.29\\n', '266.49\\n', '267.68\\n', '268.88\\n', '270.08\\n', '271.28\\n', '272.47\\n', '273.67\\n', '274.87\\n', '276.06\\n', '277.26\\n', '278.46\\n', '279.66\\n', '280.85\\n', '282.05\\n', '283.25\\n', '284.44\\n', '285.64\\n', '286.84\\n', '288.04\\n', '289.23\\n', '290.43\\n', '291.63\\n', '292.82\\n', '294.02\\n', '295.22\\n', '296.42\\n', '297.61\\n', '298.81\\n', '300.01\\n', '301.21\\n', '302.40\\n', '303.60\\n', '304.80\\n', '305.99\\n', '307.19\\n', '308.39\\n', '309.59\\n', '310.78\\n', '311.98\\n', '313.18\\n', '314.37\\n', '315.57\\n', '316.77\\n', '317.97\\n', '319.16\\n', '320.36\\n', '321.56\\n', '322.76\\n', '323.95\\n', '325.15\\n', '326.35\\n', '327.54\\n', '328.74\\n', '329.94\\n', '331.15\\n', '332.36\\n', '333.59\\n', '334.82\\n', '336.08\\n', '337.36\\n', '338.65\\n', '339.97\\n', '341.32\\n', '342.71\\n', '344.12\\n', '345.57\\n', '347.05\\n', '348.56\\n', '350.11\\n', '351.69\\n', '353.30\\n', '354.95\\n', '356.63\\n', '358.34\\n', '360.09\\n', '361.87\\n', '363.69\\n', '365.53\\n', '367.41\\n', '369.33\\n', '371.27\\n', '373.26\\n', '375.27\\n', '377.32\\n', '379.40\\n', '381.51\\n', '383.66\\n', '385.84\\n', '388.05\\n', '390.30\\n', '392.58\\n', '394.89\\n', '397.24\\n', '399.62\\n', '402.04\\n', '404.48\\n', '406.94\\n', '409.43\\n', '411.93\\n', '414.45\\n', '416.98\\n', '419.52\\n', '422.07\\n', '424.62\\n', '427.18\\n', '429.74\\n', '432.31\\n', '434.89\\n', '437.47\\n', '440.06\\n', '442.65\\n', '445.24\\n', '447.85\\n', '450.46\\n', '453.06\\n', '455.67\\n', '458.28\\n', '460.89\\n', '463.50\\n', '466.11\\n', '468.71\\n', '471.32\\n', '473.93\\n', '476.54\\n', '479.15\\n', '481.76\\n', '484.36\\n', '486.97\\n', '489.58\\n', '492.19\\n', '494.80\\n', '497.41\\n', '500.01\\n', '502.62\\n', '505.23\\n', '507.84\\n', '510.45\\n', '513.06\\n', '515.66\\n', '518.27\\n', '520.88\\n', '523.49\\n', '526.10\\n', '528.71\\n', '531.31\\n', '533.92\\n', '536.53\\n', '539.14\\n', '541.75\\n', '544.36\\n', '546.96\\n', '549.57\\n', '552.18\\n', '554.79\\n', '557.40\\n', '560.01\\n', '562.61\\n', '565.22\\n', '567.83\\n', '570.44\\n', '573.04\\n', '575.63\\n', '578.21\\n', '580.77\\n', '583.32\\n', '585.86\\n', '588.37\\n', '590.87\\n', '593.36\\n', '595.82\\n', '598.27\\n', '600.71\\n', '603.12\\n', '605.52\\n', '607.91\\n', '610.27\\n', '612.62\\n', '614.96\\n', '617.27\\n', '619.57\\n', '621.86\\n', '624.12\\n', '626.37\\n', '628.61\\n', '630.82\\n', '633.02\\n', '635.21\\n', '637.37\\n', '639.52\\n', '641.66\\n', '643.78\\n', '645.89\\n', '647.99\\n', '650.08\\n', '652.17\\n', '654.26\\n', '656.36\\n', '658.45\\n', '660.54\\n', '662.63\\n', '664.72\\n', '666.81\\n', '668.91\\n', '671.00\\n', '673.09\\n', '675.18\\n', '677.27\\n', '679.36\\n', '681.46\\n', '683.55\\n', '685.64\\n', '687.73\\n', '689.82\\n', '691.91\\n', '694.01\\n', '696.10\\n', '698.19\\n', '700.28\\n', '702.37\\n', '704.46\\n', '706.56\\n', '708.65\\n', '710.74\\n', '712.83\\n', '714.92\\n', '717.01\\n', '719.11\\n', '721.20\\n', '723.29\\n', '725.38\\n', '727.47\\n', '729.56\\n', '731.66\\n', '733.75\\n', '735.84\\n', '737.93\\n', '740.02\\n', '742.11\\n', '744.21\\n', '746.30\\n', '748.39\\n', '750.48\\n', '752.57\\n', '754.67\\n', '756.77\\n', '758.88\\n', '760.99\\n', '763.13\\n', '765.28\\n', '767.45\\n', '769.64\\n', '771.85\\n', '774.09\\n', '776.35\\n', '778.63\\n', '780.93\\n', '783.26\\n', '785.60\\n', '787.97\\n', '790.36\\n', '792.78\\n', '795.21\\n', '797.67\\n', '800.16\\n', '802.66\\n', '805.20\\n', '807.76\\n', '810.35\\n', '812.96\\n', '815.59\\n', '818.24\\n', '820.91\\n', '823.61\\n', '826.33\\n', '829.07\\n', '831.84\\n', '834.62\\n', '837.43\\n', '840.26\\n', '843.11\\n', '845.99\\n', '848.89\\n', '851.81\\n', '854.75\\n', '857.71\\n', '860.68\\n', '863.65\\n', '866.63\\n', '869.60\\n', '872.58\\n', '875.55\\n', '878.53\\n', '881.50\\n', '884.48\\n', '887.45\\n', '890.43\\n', '893.40\\n', '896.38\\n', '899.35\\n', '902.33\\n', '905.30\\n', '908.28\\n', '911.25\\n', '914.23\\n', '917.20\\n', '920.18\\n', '923.15\\n', '926.13\\n', '929.10\\n', '932.08\\n', '935.05\\n', '938.03\\n', '941.00\\n', '943.98\\n', '946.95\\n', '949.93\\n', '952.90\\n', '955.88\\n', '958.85\\n', '961.83\\n', '964.80\\n', '967.78\\n', '970.75\\n', '973.73\\n', '976.70\\n', '979.68\\n', '982.65\\n', '985.63\\n', '988.60\\n', '991.58\\n', '994.55\\n', '997.53\\n', '1000.50\\n', '1003.48\\n', '1006.45\\n', '1009.43\\n', '1012.40\\n', '1015.38\\n', '1018.35\\n', '1021.33\\n', '1024.30\\n', '1027.28\\n', '1030.25\\n', '1033.23\\n', '1036.20\\n', '1039.18\\n', '1042.15\\n', '1045.13\\n', '1048.10\\n', '1051.08\\n', '1054.05\\n', '1057.03\\n', '1060.00\\n', '1062.98\\n', '1065.95\\n', '1068.93\\n', '1071.90\\n', '1074.88\\n', '1077.85\\n', '1080.83\\n', '1083.80\\n', '1086.78\\n', '1089.75\\n', '1092.73\\n', '1095.70\\n', '1098.68\\n', '1101.65\\n', '1104.63\\n', '1107.60\\n', '1110.58\\n', '1113.55\\n', '1116.53\\n', '1119.50\\n', '1122.48\\n', '1125.45\\n', '1128.43\\n', '1131.40\\n', '1134.38\\n', '1137.36\\n', '1140.35\\n', '1143.35\\n', '1146.35\\n', '1149.35\\n', '1152.35\\n', '1155.35\\n', '1158.35\\n', '1161.35\\n', '1164.35\\n', '1167.35\\n', '1170.35\\n', '1173.35\\n', '1176.35\\n', '1179.35\\n', '1182.35\\n', '1185.35\\n', '1188.35\\n', '1191.35\\n', '1194.35\\n', '1197.35\\n', '1200.35\\n', '1203.35\\n', '1206.35\\n', '1209.35\\n', '1212.35\\n', '1215.35\\n', '1218.35\\n', '1221.35\\n', '1224.35\\n', '1227.35\\n', '1230.35\\n', '1233.35\\n', '1236.35\\n', '1239.35\\n', '1242.35\\n', '1245.35\\n', '1248.35\\n', '1251.35\\n', '1254.35\\n', '1257.35\\n', '1260.35\\n', '1263.35\\n', '1266.35\\n', '1269.35\\n', '1272.35\\n', '1275.35\\n', '1278.35\\n', '1281.35\\n', '1284.35\\n', '1287.35\\n', '1290.35\\n', '1293.35\\n', '1296.35\\n', '1299.35\\n', '1302.35\\n', '1305.35\\n', '1308.35\\n', '1311.35\\n', '1314.35\\n', '1317.35\\n', '1320.35\\n', '1323.35\\n', '1326.35\\n', '1329.35\\n', '1332.35\\n', '1335.35\\n', '1338.35\\n', '1341.35\\n', '1344.35\\n', '1347.35\\n', '1350.35\\n', '1353.35\\n', '1356.35\\n', '1359.35\\n', '1362.35\\n', '1365.35\\n', '1368.35\\n', '1371.35\\n', '1374.35\\n', '1377.35\\n', '1380.35\\n', '1383.35\\n', '1386.35\\n', '1389.35\\n', '1392.35\\n', '1395.35\\n', '1398.35\\n', '1401.35\\n', '1404.35\\n', '1407.35\\n', '1410.35\\n', '1413.35\\n', '1416.35\\n', '1419.35\\n', '1422.35\\n', '1425.35\\n', '1428.35\\n', '1431.35\\n', '1434.35\\n', '1437.35\\n', '1440.35\\n', '1443.36\\n', '1446.38\\n', '1449.41\\n', '1452.45\\n', '1455.50\\n', '1458.56\\n', '1461.63\\n', '1464.70\\n', '1467.77\\n', '1470.84\\n', '1473.91\\n', '1476.97\\n', '1480.02\\n', '1483.07\\n', '1486.12\\n', '1489.16\\n', '1492.19\\n', '1495.22\\n', '1498.24\\n', '1501.26\\n', '1504.27\\n', '1507.27\\n', '1510.27\\n', '1513.27\\n', '1516.26\\n', '1519.24\\n', '1522.23\\n', '1525.22\\n', '1528.21\\n', '1531.20\\n', '1534.19\\n', '1537.18\\n', '1540.17\\n', '1543.16\\n', '1546.14\\n', '1549.13\\n', '1552.12\\n', '1555.11\\n', '1558.10\\n', '1561.09\\n', '1564.08\\n', '1567.07\\n', '1570.06\\n', '1573.04\\n', '1576.03\\n', '1579.02\\n', '1582.01\\n', '1585.00\\n', '1587.99\\n', '1590.98\\n', '1593.97\\n', '1596.96\\n', '1599.94\\n', '1602.93\\n', '1605.92\\n', '1608.91\\n', '1611.90\\n', '1614.89\\n', '1617.88\\n', '1620.87\\n', '1623.86\\n', '1626.84\\n', '1629.83\\n', '1632.82\\n', '1635.81\\n', '1638.80\\n', '1641.79\\n', '1644.78\\n', '1647.77\\n', '1650.76\\n', '1653.74\\n', '1656.73\\n', '1659.72\\n', '1662.71\\n', '1665.70\\n', '1668.69\\n', '1671.68\\n', '1674.67\\n', '1677.66\\n', '1680.64\\n', '1683.63\\n', '1686.62\\n', '1689.61\\n', '1692.60\\n', '1695.59\\n', '1698.58\\n', '1701.57\\n', '1704.56\\n', '1707.54\\n', '1710.53\\n', '1713.52\\n', '1716.51\\n', '1719.50\\n', '1722.49\\n', '1725.48\\n', '1728.47\\n', '1731.46\\n', '1734.44\\n', '1737.43\\n', '1740.42\\n', '1743.41\\n', '1746.40\\n', '1749.39\\n', '1752.38\\n', '1755.37\\n', '1758.36\\n', '1761.34\\n', '1764.33\\n', '1767.32\\n', '1770.31\\n', '1773.30\\n', '1776.29\\n', '1779.28\\n', '1782.27\\n', '1785.26\\n', '1788.24\\n', '1791.23\\n', '1794.22\\n', '1797.21\\n', '1800.20\\n', '1803.19\\n', '1806.18\\n', '1809.17\\n', '1812.16\\n', '1815.14\\n', '1818.13\\n', '1821.12\\n', '1824.11\\n', '1827.10\\n', '1830.09\\n', '1833.08\\n', '1836.07\\n', '1839.06\\n', '1842.04\\n', '1845.03\\n', '1848.02\\n', '1851.01\\n', '1854.00\\n', '1856.99\\n', '1859.98\\n', '1862.97\\n', '1865.96\\n', '1868.94\\n', '1871.93\\n', '1874.92\\n', '1877.91\\n', '1880.90\\n', '1883.89\\n', '1886.88\\n', '1889.87\\n', '1892.86\\n', '1895.84\\n', '1898.83\\n', '1901.82\\n', '1904.81\\n', '1907.80\\n', '1910.79\\n', '1913.78\\n', '1916.77\\n', '1919.76\\n', '1922.74\\n', '1925.73\\n', '1928.72\\n', '1931.71\\n', '1934.70\\n', '1937.69\\n', '1940.68\\n', '1943.67\\n', '1946.66\\n', '1949.64\\n', '1952.63\\n', '1955.62\\n', '1958.61\\n', '1961.60\\n', '1964.59\\n', '1967.58\\n', '1970.57\\n', '1973.56\\n', '1976.54\\n', '1979.53\\n', '1982.52\\n', '1985.51\\n', '1988.50\\n', '1991.49\\n', '1994.48\\n', '1997.47\\n', '2000.46\\n', '2003.44\\n', '2006.43\\n', '2009.42\\n', '2012.41\\n', '2015.40\\n', '2018.39\\n', '2021.38\\n', '2024.37\\n', '2027.36\\n', '2030.34\\n', '2033.33\\n', '2036.32\\n', '2039.31\\n', '2042.30\\n', '2045.29\\n', '2048.28\\n', '2051.27\\n', '2054.26\\n', '2057.24\\n', '2060.23\\n', '2063.22\\n', '2066.21\\n', '2069.20\\n', '2072.18\\n', '2075.16\\n', '2078.14\\n', '2081.11\\n', '2084.09\\n', '2087.06\\n', '2090.02\\n', '2092.98\\n', '2095.94\\n', '2098.89\\n', '2101.83\\n', '2104.77\\n', '2107.71\\n', '2110.63\\n', '2113.56\\n', '2116.47\\n', '2119.37\\n', '2122.27\\n', '2125.16\\n', '2128.04\\n', '2130.91\\n', '2133.78\\n', '2136.63\\n', '2139.48\\n', '2142.32\\n', '2145.15\\n', '2147.96\\n', '2150.77\\n', '2153.56\\n', '2156.35\\n', '2159.12\\n', '2161.88\\n', '2164.63\\n', '2167.37\\n', '2170.10\\n', '2172.81\\n', '2175.52\\n', '2178.21\\n', '2180.89\\n', '2183.56\\n', '2186.21\\n', '2188.85\\n', '2191.48\\n', '2194.09\\n', '2196.69\\n', '2199.27\\n', '2201.84\\n', '2204.39\\n', '2206.94\\n', '2209.46\\n', '2211.98\\n', '2214.48\\n', '2216.96\\n', '2219.44\\n', '2221.89\\n', '2224.34\\n', '2226.77\\n', '2229.19\\n', '2231.59\\n', '2233.98\\n', '2236.35\\n', '2238.71\\n', '2241.06\\n', '2243.39\\n', '2245.71\\n', '2248.02\\n', '2250.31\\n', '2252.59\\n', '2254.85\\n', '2257.10\\n', '2259.34\\n', '2261.56\\n', '2263.77\\n', '2265.96\\n', '2268.14\\n', '2270.31\\n', '2272.46\\n', '2274.60\\n', '2276.73\\n', '2278.84\\n', '2280.94\\n', '2283.02\\n', '2285.09\\n', '2287.14\\n', '2289.19\\n', '2291.21\\n', '2293.23\\n', '2295.23\\n', '2297.21\\n', '2299.19\\n', '2301.14\\n', '2303.09\\n', '2305.02\\n', '2306.94\\n', '2308.84\\n', '2310.73\\n', '2312.60\\n', '2314.46\\n', '2316.31\\n', '2318.14\\n', '2319.96\\n', '2321.77\\n', '2323.56\\n', '2325.34\\n', '2327.10\\n', '2328.85\\n', '2330.59\\n', '2332.30\\n', '2333.98\\n', '2335.63\\n', '2337.26\\n', '2338.85\\n', '2340.42\\n', '2341.96\\n', '2343.48\\n', '2344.96\\n', '2346.42\\n', '2347.85\\n', '2349.26\\n', '2350.63\\n', '2351.98\\n', '2353.30\\n', '2354.59\\n', '2355.85\\n', '2357.09\\n', '2358.30\\n', '2359.48\\n', '2360.63\\n', '2361.76\\n', '2362.85\\n', '2363.92\\n', '2364.96\\n', '2365.98\\n', '2366.96\\n', '2367.90\\n', '2368.80\\n', '2369.66\\n', '2370.48\\n', '2371.28\\n', '2372.05\\n', '2372.79\\n', '2373.53\\n', '2374.27\\n', '2375.01\\n', '2375.76\\n', '2376.50\\n', '2377.24\\n', '2377.98\\n', '2378.72\\n', '2379.46\\n', '2380.21\\n', '2380.95\\n', '2381.69\\n', '2382.43\\n', '2383.17\\n', '2383.91\\n', '2384.66\\n', '2385.40\\n', '2386.14\\n', '2386.88\\n', '2387.62\\n', '2388.36\\n', '2389.11\\n', '2389.85\\n', '2390.59\\n', '2391.32\\n', '2392.03\\n', '2392.73\\n', '2393.42\\n', '2394.09\\n', '2394.75\\n', '2395.39\\n', '2396.02\\n', '2396.64\\n', '2397.24\\n', '2397.83\\n', '2398.41\\n', '2398.97\\n', '2399.51\\n', '2400.05\\n', '2400.57\\n', '2401.07\\n', '2401.56\\n', '2402.04\\n', '2402.51\\n', '2402.96\\n', '2403.39\\n', '2403.81\\n', '2404.22\\n', '2404.62\\n', '2405.00\\n', '2405.36\\n', '2405.72\\n', '2406.06\\n', '2406.38\\n', '2406.69\\n', '2406.99\\n', '2407.27\\n', '2407.54\\n', '2407.80\\n', '2408.05\\n', '2408.31\\n', '2408.56\\n', '2408.82\\n', '2409.07\\n', '2409.33\\n', '2409.59\\n', '2409.84\\n', '2410.10\\n', '2410.35\\n', '2410.61\\n', '2410.86\\n', '2411.12\\n', '2411.37\\n', '2411.63\\n', '2411.89\\n', '2412.14\\n', '2412.40\\n', '2412.65\\n', '2412.91\\n', '2413.16\\n', '2413.42\\n', '2413.67\\n', '2413.93\\n', '2414.19\\n', '2414.44\\n', '2414.70\\n', '2414.95\\n', '2415.21\\n', '2415.46\\n', '2415.72\\n', '2415.97\\n', '2416.23\\n', '2416.49\\n', '2416.74\\n', '2417.00\\n', '2417.25\\n', '2417.51\\n', '2417.76\\n', '2418.02\\n', '2418.26\\n', '2418.49\\n', '2418.70\\n', '2418.90\\n', '2419.09\\n', '2419.26\\n', '2419.42\\n', '2419.56\\n', '2419.69\\n', '2419.81\\n', '2419.91\\n', '2420.00\\n', '2420.08\\n', '2420.14\\n', '2420.19\\n', '2420.22\\n', '2420.24\\n', '2420.24\\n', '2420.25\\n', '2420.26\\n', '2420.26\\n', '2420.26\\n', '2420.26\\n', '2420.26\\n', '2420.26\\n', '2420.26\\n', '2420.26\\n', '2420.26\\n', '2420.26\\n', '2420.26\\n', '2420.26\\n', '2420.26\\n', '2420.26\\n', '2420.26\\n', '2420.26\\n', '2420.26\\n', '2420.26\\n', '2420.26\\n', '2420.26\\n', '2420.26\\n', '2420.26\\n', '2420.26\\n', '2420.26\\n', '2420.26\\n', '2420.26\\n', '2420.26\\n', '2420.26\\n', '2420.26\\n', '2420.26\\n', '2420.26\\n', '2420.26\\n', '2420.26\\n', '2420.26\\n', '2420.26\\n', '2420.26\\n', '2420.26\\n', '2420.26\\n', '2420.26\\n', '2420.26\\n', '2420.26\\n', '2420.26\\n', '2420.26\\n', '2420.26\\n', '2420.26\\n', '2420.26\\n', '2420.26\\n', '2420.26\\n', '2420.26\\n', '2420.26\\n', '2420.26\\n', '2420.26\\n', '2420.26\\n', '2420.26\\n', '2420.26\\n', '2420.26\\n', '2420.26\\n', '2420.26\\n', '2420.26\\n', '2420.26\\n', '2420.26\\n', '2420.26\\n', '2420.26\\n', '2420.26\\n', '2420.26\\n', '2420.26\\n', '2420.26\\n', '2420.26\\n', '2420.26\\n', '2420.26\\n', '2420.26\\n', '2420.26\\n', '2420.26\\n', '2420.26\\n', '2420.26\\n', '2420.26\\n', '2420.26\\n', '2420.26\\n', '2420.26\\n', '2420.26\\n', '2420.26\\n', '2420.26\\n', '2420.26\\n', '2420.26\\n', '2420.27\\n', '2420.29\\n', '2420.31\\n', '2420.35\\n', '2420.40\\n', '2420.46\\n', '2420.54\\n', '2420.62\\n', '2420.71\\n', '2420.82\\n', '2420.94\\n', '2421.06\\n', '2421.20\\n', '2421.35\\n', '2421.51\\n', '2421.69\\n', '2421.87\\n', '2422.06\\n', '2422.27\\n', '2422.49\\n', '2422.71\\n', '2422.93\\n', '2423.15\\n', '2423.37\\n', '2423.60\\n', '2423.82\\n', '2424.04\\n', '2424.26\\n', '2424.49\\n', '2424.71\\n', '2424.94\\n', '2425.18\\n', '2425.43\\n', '2425.69\\n', '2425.97\\n', '2426.26\\n', '2426.57\\n', '2426.89\\n', '2427.22\\n', '2427.57\\n', '2427.93\\n', '2428.31\\n', '2428.69\\n', '2429.10\\n', '2429.51\\n', '2429.94\\n', '2430.39\\n', '2430.85\\n', '2431.32\\n', '2431.81\\n', '2432.30\\n', '2432.81\\n', '2433.32\\n', '2433.83\\n', '2434.35\\n', '2434.86\\n', '2435.36\\n', '2435.86\\n', '2436.35\\n', '2436.82\\n', '2437.28\\n', '2437.72\\n', '2438.15\\n', '2438.57\\n', '2438.97\\n', '2439.36\\n', '2439.74\\n', '2440.10\\n', '2440.44\\n', '2440.78\\n', '2441.11\\n', '2441.42\\n', '2441.72\\n', '2442.02\\n', '2442.31\\n', '2442.59\\n', '2442.86\\n', '2443.13\\n', '2443.39\\n', '2443.65\\n', '2443.90\\n', '2444.16\\n']\n",
      "['0', '0.1', '0.2', '0.3', '0.4', '0.5', '0.6', '0.7', '0.8', '0.9', '1', '1.1', '1.2', '1.3', '1.4', '1.5', '1.6', '1.7', '1.8', '1.9', '2', '2.1', '2.2', '2.3', '2.4', '2.5', '2.6', '2.7', '2.8', '2.9', '3', '3.1', '3.2', '3.3', '3.4', '3.5', '3.6', '3.7', '3.8', '3.9', '4', '4.1', '4.2', '4.3', '4.4', '4.5', '4.6', '4.7', '4.8', '4.9', '5', '5.1', '5.2', '5.3', '5.4', '5.5', '5.6', '5.7', '5.8', '5.9', '6', '6.1', '6.2', '6.3', '6.4', '6.5', '6.6', '6.7', '6.8', '6.9', '7', '7.1', '7.2', '7.3', '7.4', '7.5', '7.6', '7.7', '7.8', '7.9', '8', '8.1', '8.2', '8.3', '8.4', '8.5', '8.6', '8.7', '8.8', '8.9', '9', '9.1', '9.2', '9.3', '9.4', '9.5', '9.6', '9.7', '9.8', '9.9', '10', '10.1', '10.2', '10.3', '10.4', '10.5', '10.6', '10.7', '10.8', '10.9', '11', '11.1', '11.2', '11.3', '11.4', '11.5', '11.6', '11.7', '11.8', '11.9', '12', '12.1', '12.2', '12.3', '12.4', '12.5', '12.6', '12.7', '12.8', '12.9', '13', '13.1', '13.2', '13.3', '13.4', '13.5', '13.6', '13.7', '13.8', '13.9', '14', '14.1', '14.2', '14.3', '14.4', '14.5', '14.6', '14.7', '14.8', '14.9', '15', '15.1', '15.2', '15.3', '15.4', '15.5', '15.6', '15.7', '15.8', '15.9', '16', '16.1', '16.2', '16.3', '16.4', '16.5', '16.6', '16.7', '16.8', '16.9', '17', '17.1', '17.2', '17.3', '17.4', '17.5', '17.6', '17.7', '17.8', '17.9', '18', '18.1', '18.2', '18.3', '18.4', '18.5', '18.6', '18.7', '18.8', '18.9', '19', '19.1', '19.2', '19.3', '19.4', '19.5', '19.6', '19.7', '19.8', '19.9', '20', '20.1', '20.2', '20.3', '20.4', '20.5', '20.6', '20.7', '20.8', '20.9', '21', '21.1', '21.2', '21.3', '21.4', '21.5', '21.6', '21.7', '21.8', '21.9', '22', '22.1', '22.2', '22.3', '22.4', '22.5', '22.6', '22.7', '22.8', '22.9', '23', '23.1', '23.2', '23.3', '23.4', '23.5', '23.6', '23.7', '23.8', '23.9', '24', '24.1', '24.2', '24.3', '24.4', '24.5', '24.6', '24.7', '24.8', '24.9', '25', '25.1', '25.2', '25.3', '25.4', '25.5', '25.6', '25.7', '25.8', '25.9', '26', '26.1', '26.2', '26.3', '26.4', '26.5', '26.6', '26.7', '26.8', '26.9', '27', '27.1', '27.2', '27.3', '27.4', '27.5', '27.6', '27.7', '27.8', '27.9', '28', '28.1', '28.2', '28.3', '28.4', '28.5', '28.6', '28.7', '28.8', '28.9', '29', '29.1', '29.2', '29.3', '29.4', '29.5', '29.6', '29.7', '29.8', '29.9', '30', '30.1', '30.2', '30.3', '30.4', '30.5', '30.6', '30.7', '30.8', '30.9', '31', '31.1', '31.2', '31.3', '31.4', '31.5', '31.6', '31.7', '31.8', '31.9', '32', '32.1', '32.2', '32.3', '32.4', '32.5', '32.6', '32.7', '32.8', '32.9', '33', '33.1', '33.2', '33.3', '33.4', '33.5', '33.6', '33.7', '33.8', '33.9', '34', '34.1', '34.2', '34.3', '34.4', '34.5', '34.6', '34.7', '34.8', '34.9', '35', '35.1', '35.2', '35.3', '35.4', '35.5', '35.6', '35.7', '35.8', '35.9', '36', '36.1', '36.2', '36.3', '36.4', '36.5', '36.6', '36.7', '36.8', '36.9', '37', '37.1', '37.2', '37.3', '37.4', '37.5', '37.6', '37.7', '37.8', '37.9', '38', '38.1', '38.2', '38.3', '38.4', '38.5', '38.6', '38.7', '38.8', '38.9', '39', '39.1', '39.2', '39.3', '39.4', '39.5', '39.6', '39.7', '39.8', '39.9', '40', '40.1', '40.2', '40.3', '40.4', '40.5', '40.6', '40.7', '40.8', '40.9', '41', '41.1', '41.2', '41.3', '41.4', '41.5', '41.6', '41.7', '41.8', '41.9', '42', '42.1', '42.2', '42.3', '42.4', '42.5', '42.6', '42.7', '42.8', '42.9', '43', '43.1', '43.2', '43.3', '43.4', '43.5', '43.6', '43.7', '43.8', '43.9', '44', '44.1', '44.2', '44.3', '44.4', '44.5', '44.6', '44.7', '44.8', '44.9', '45', '45.1', '45.2', '45.3', '45.4', '45.5', '45.6', '45.7', '45.8', '45.9', '46', '46.1', '46.2', '46.3', '46.4', '46.5', '46.6', '46.7', '46.8', '46.9', '47', '47.1', '47.2', '47.3', '47.4', '47.5', '47.6', '47.7', '47.8', '47.9', '48', '48.1', '48.2', '48.3', '48.4', '48.5', '48.6', '48.7', '48.8', '48.9', '49', '49.1', '49.2', '49.3', '49.4', '49.5', '49.6', '49.7', '49.8', '49.9', '50', '50.1', '50.2', '50.3', '50.4', '50.5', '50.6', '50.7', '50.8', '50.9', '51', '51.1', '51.2', '51.3', '51.4', '51.5', '51.6', '51.7', '51.8', '51.9', '52', '52.1', '52.2', '52.3', '52.4', '52.5', '52.6', '52.7', '52.8', '52.9', '53', '53.1', '53.2', '53.3', '53.4', '53.5', '53.6', '53.7', '53.8', '53.9', '54', '54.1', '54.2', '54.3', '54.4', '54.5', '54.6', '54.7', '54.8', '54.9', '55', '55.1', '55.2', '55.3', '55.4', '55.5', '55.6', '55.7', '55.8', '55.9', '56', '56.1', '56.2', '56.3', '56.4', '56.5', '56.6', '56.7', '56.8', '56.9', '57', '57.1', '57.2', '57.3', '57.4', '57.5', '57.6', '57.7', '57.8', '57.9', '58', '58.1', '58.2', '58.3', '58.4', '58.5', '58.6', '58.7', '58.8', '58.9', '59', '59.1', '59.2', '59.3', '59.4', '59.5', '59.6', '59.7', '59.8', '59.9', '60', '60.1', '60.2', '60.3', '60.4', '60.5', '60.6', '60.7', '60.8', '60.9', '61', '61.1', '61.2', '61.3', '61.4', '61.5', '61.6', '61.7', '61.8', '61.9', '62', '62.1', '62.2', '62.3', '62.4', '62.5', '62.6', '62.7', '62.8', '62.9', '63', '63.1', '63.2', '63.3', '63.4', '63.5', '63.6', '63.7', '63.8', '63.9', '64', '64.1', '64.2', '64.3', '64.4', '64.5', '64.6', '64.7', '64.8', '64.9', '65', '65.1', '65.2', '65.3', '65.4', '65.5', '65.6', '65.7', '65.8', '65.9', '66', '66.1', '66.2', '66.3', '66.4', '66.5', '66.6', '66.7', '66.8', '66.9', '67', '67.1', '67.2', '67.3', '67.4', '67.5', '67.6', '67.7', '67.8', '67.9', '68', '68.1', '68.2', '68.3', '68.4', '68.5', '68.6', '68.7', '68.8', '68.9', '69', '69.1', '69.2', '69.3', '69.4', '69.5', '69.6', '69.7', '69.8', '69.9', '70', '70.1', '70.2', '70.3', '70.4', '70.5', '70.6', '70.7', '70.8', '70.9', '71', '71.1', '71.2', '71.3', '71.4', '71.5', '71.6', '71.7', '71.8', '71.9', '72', '72.1', '72.2', '72.3', '72.4', '72.5', '72.6', '72.7', '72.8', '72.9', '73', '73.1', '73.2', '73.3', '73.4', '73.5', '73.6', '73.7', '73.8', '73.9', '74', '74.1', '74.2', '74.3', '74.4', '74.5', '74.6', '74.7', '74.8', '74.9', '75', '75.1', '75.2', '75.3', '75.4', '75.5', '75.6', '75.7', '75.8', '75.9', '76', '76.1', '76.2', '76.3', '76.4', '76.5', '76.6', '76.7', '76.8', '76.9', '77', '77.1', '77.2', '77.3', '77.4', '77.5', '77.6', '77.7', '77.8', '77.9', '78', '78.1', '78.2', '78.3', '78.4', '78.5', '78.6', '78.7', '78.8', '78.9', '79', '79.1', '79.2', '79.3', '79.4', '79.5', '79.6', '79.7', '79.8', '79.9', '80', '80.1', '80.2', '80.3', '80.4', '80.5', '80.6', '80.7', '80.8', '80.9', '81', '81.1', '81.2', '81.3', '81.4', '81.5', '81.6', '81.7', '81.8', '81.9', '82', '82.1', '82.2', '82.3', '82.4', '82.5', '82.6', '82.7', '82.8', '82.9', '83', '83.1', '83.2', '83.3', '83.4', '83.5', '83.6', '83.7', '83.8', '83.9', '84', '84.1', '84.2', '84.3', '84.4', '84.5', '84.6', '84.7', '84.8', '84.9', '85', '85.1', '85.2', '85.3', '85.4', '85.5', '85.6', '85.7', '85.8', '85.9', '86', '86.1', '86.2', '86.3', '86.4', '86.5', '86.6', '86.7', '86.8', '86.9', '87', '87.1', '87.2', '87.3', '87.4', '87.5', '87.6', '87.7', '87.8', '87.9', '88', '88.1', '88.2', '88.3', '88.4', '88.5', '88.6', '88.7', '88.8', '88.9', '89', '89.1', '89.2', '89.3', '89.4', '89.5', '89.6', '89.7', '89.8', '89.9', '90', '90.1', '90.2', '90.3', '90.4', '90.5', '90.6', '90.7', '90.8', '90.9', '91', '91.1', '91.2', '91.3', '91.4', '91.5', '91.6', '91.7', '91.8', '91.9', '92', '92.1', '92.2', '92.3', '92.4', '92.5', '92.6', '92.7', '92.8', '92.9', '93', '93.1', '93.2', '93.3', '93.4', '93.5', '93.6', '93.7', '93.8', '93.9', '94', '94.1', '94.2', '94.3', '94.4', '94.5', '94.6', '94.7', '94.8', '94.9', '95', '95.1', '95.2', '95.3', '95.4', '95.5', '95.6', '95.7', '95.8', '95.9', '96', '96.1', '96.2', '96.3', '96.4', '96.5', '96.6', '96.7', '96.8', '96.9', '97', '97.1', '97.2', '97.3', '97.4', '97.5', '97.6', '97.7', '97.8', '97.9', '98', '98.1', '98.2', '98.3', '98.4', '98.5', '98.6', '98.7', '98.8', '98.9', '99', '99.1', '99.2', '99.3', '99.4', '99.5', '99.6', '99.7', '99.8', '99.9', '100', '100.1', '100.2', '100.3', '100.4', '100.5', '100.6', '100.7', '100.8', '100.9', '101', '101.1', '101.2', '101.3', '101.4', '101.5', '101.6', '101.7', '101.8', '101.9', '102', '102.1', '102.2', '102.3', '102.4', '102.5', '102.6', '102.7', '102.8', '102.9', '103', '103.1', '103.2', '103.3', '103.4', '103.5', '103.6', '103.7', '103.8', '103.9', '104', '104.1', '104.2', '104.3', '104.4', '104.5', '104.6', '104.7', '104.8', '104.9', '105', '105.1', '105.2', '105.3', '105.4', '105.5', '105.6', '105.7', '105.8', '105.9', '106', '106.1', '106.2', '106.3', '106.4', '106.5', '106.6', '106.7', '106.8', '106.9', '107', '107.1', '107.2', '107.3', '107.4', '107.5', '107.6', '107.7', '107.8', '107.9', '108', '108.1', '108.2', '108.3', '108.4', '108.5', '108.6', '108.7', '108.8', '108.9', '109', '109.1', '109.2', '109.3', '109.4', '109.5', '109.6', '109.7', '109.8', '109.9', '110', '110.1', '110.2', '110.3', '110.4', '110.5', '110.6', '110.7', '110.8', '110.9', '111', '111.1', '111.2', '111.3', '111.4', '111.5', '111.6', '111.7', '111.8', '111.9', '112', '112.1', '112.2', '112.3', '112.4', '112.5', '112.6', '112.7', '112.8', '112.9', '113', '113.1', '113.2', '113.3', '113.4', '113.5', '113.6', '113.7', '113.8', '113.9', '114', '114.1', '114.2', '114.3', '114.4', '114.5', '114.6', '114.7', '114.8', '114.9', '115', '115.1', '115.2', '115.3', '115.4', '115.5', '115.6', '115.7', '115.8', '115.9', '116', '116.1', '116.2', '116.3', '116.4', '116.5', '116.6', '116.7', '116.8', '116.9', '117', '117.1', '117.2', '117.3', '117.4', '117.5', '117.6', '117.7', '117.8', '117.9', '118', '118.1', '118.2', '118.3', '118.4', '118.5', '118.6', '118.7', '118.8', '118.9', '119', '119.1', '119.2', '119.3', '119.4', '119.5', '119.6', '119.7', '119.8', '119.9'] ['0.03', '0.04', '0.05', '0.08', '0.12', '0.18', '0.26', '0.36', '0.48', '0.64', '0.82', '1.03', '1.26', '1.53', '1.82', '2.14', '2.48', '2.86', '3.26', '3.69', '4.15', '4.64', '5.15', '5.69', '6.26', '6.86', '7.48', '8.14', '8.82', '9.53', '10.26', '11.03', '11.82', '12.64', '13.48', '14.36', '15.26', '16.19', '17.15', '18.14', '19.15', '20.19', '21.26', '22.36', '23.48', '24.62', '25.78', '26.96', '28.17', '29.39', '30.62', '31.87', '33.14', '34.41', '35.71', '37.01', '38.32', '39.64', '40.98', '42.31', '43.66', '45.02', '46.38', '47.74', '49.12', '50.49', '51.88', '53.27', '54.66', '56.06', '57.45', '58.84', '60.24', '61.63', '63.03', '64.42', '65.82', '67.21', '68.61', '70.00', '71.39', '72.79', '74.18', '75.58', '76.97', '78.37', '79.76', '81.16', '82.55', '83.94', '85.34', '86.73', '88.13', '89.52', '90.92', '92.31', '93.71', '95.10', '96.49', '97.89', '99.28', '100.68', '102.07', '103.47', '104.86', '106.26', '107.65', '109.04', '110.44', '111.83', '113.23', '114.62', '116.02', '117.41', '118.81', '120.20', '121.59', '122.99', '124.38', '125.78', '127.17', '128.57', '129.96', '131.36', '132.75', '134.14', '135.54', '136.93', '138.33', '139.72', '141.12', '142.51', '143.91', '145.30', '146.69', '148.09', '149.48', '150.88', '152.28', '153.68', '155.09', '156.51', '157.95', '159.40', '160.87', '162.37', '163.89', '165.43', '167.01', '168.62', '170.27', '171.94', '173.66', '175.40', '177.18', '178.99', '180.83', '182.71', '184.62', '186.57', '188.54', '190.56', '192.60', '194.68', '196.79', '198.93', '201.11', '203.32', '205.57', '207.84', '210.16', '212.50', '214.88', '217.29', '219.73', '222.21', '224.72', '227.27', '229.84', '232.46', '235.09', '237.76', '240.44', '243.14', '245.86', '248.58', '251.32', '254.07', '256.82', '259.57', '262.33', '265.10', '267.87', '270.65', '273.43', '276.22', '279.02', '281.82', '284.62', '287.43', '290.23', '293.04', '295.84', '298.65', '301.46', '304.26', '307.07', '309.87', '312.68', '315.48', '318.29', '321.09', '323.90', '326.71', '329.51', '332.32', '335.12', '337.93', '340.73', '343.54', '346.34', '349.15', '351.96', '354.76', '357.57', '360.37', '363.18', '365.98', '368.79', '371.59', '374.40', '377.21', '380.01', '382.82', '385.62', '388.43', '391.23', '394.04', '396.84', '399.65', '402.46', '405.26', '408.07', '410.87', '413.68', '416.47', '419.26', '422.04', '424.80', '427.55', '430.28', '432.99', '435.69', '438.37', '441.04', '443.68', '446.31', '448.93', '451.53', '454.11', '456.67', '459.22', '461.75', '464.26', '466.76', '469.24', '471.70', '474.15', '476.58', '478.99', '481.39', '483.77', '486.14', '488.48', '490.81', '493.13', '495.44', '497.73', '500.03', '502.31', '504.60', '506.89', '509.18', '511.47', '513.76', '516.05', '518.34', '520.63', '522.91', '525.20', '527.49', '529.78', '532.07', '534.36', '536.65', '538.94', '541.23', '543.51', '545.80', '548.09', '550.38', '552.67', '554.96', '557.25', '559.54', '561.83', '564.11', '566.40', '568.69', '570.98', '573.27', '575.56', '577.85', '580.14', '582.43', '584.71', '587.00', '589.29', '591.58', '593.87', '596.16', '598.45', '600.74', '603.03', '605.31', '607.60', '609.89', '612.18', '614.47', '616.77', '619.08', '621.39', '623.72', '626.07', '628.44', '630.83', '633.24', '635.68', '638.15', '640.66', '643.20', '645.78', '648.40', '651.06', '653.76', '656.49', '659.27', '662.08', '664.93', '667.83', '670.76', '673.73', '676.74', '679.80', '682.89', '686.03', '689.21', '692.42', '695.67', '698.96', '702.29', '705.66', '709.07', '712.52', '716.01', '719.53', '723.09', '726.68', '730.28', '733.91', '737.54', '741.19', '744.83', '748.47', '752.11', '755.75', '759.39', '763.04', '766.68', '770.32', '773.96', '777.60', '781.24', '784.89', '788.53', '792.17', '795.81', '799.45', '803.09', '806.74', '810.38', '814.02', '817.66', '821.30', '824.94', '828.59', '832.23', '835.87', '839.51', '843.15', '846.79', '850.44', '854.08', '857.72', '861.36', '865.00', '868.64', '872.29', '875.93', '879.57', '883.21', '886.85', '890.49', '894.14', '897.78', '901.42', '905.06', '908.70', '912.34', '915.99', '919.63', '923.27', '926.91', '930.55', '934.19', '937.84', '941.48', '945.12', '948.76', '952.40', '956.04', '959.69', '963.33', '966.97', '970.61', '974.25', '977.89', '981.54', '985.18', '988.82', '992.46', '996.10', '999.74', '1003.39', '1007.03', '1010.67', '1014.31', '1017.95', '1021.59', '1025.24', '1028.88', '1032.52', '1036.16', '1039.80', '1043.44', '1047.09', '1050.73', '1054.37', '1058.01', '1061.65', '1065.29', '1068.94', '1072.58', '1076.23', '1079.89', '1083.55', '1087.22', '1090.89', '1094.55', '1098.22', '1101.89', '1105.55', '1109.22', '1112.89', '1116.55', '1120.22', '1123.89', '1127.55', '1131.22', '1134.89', '1138.55', '1142.22', '1145.89', '1149.55', '1153.22', '1156.89', '1160.55', '1164.22', '1167.89', '1171.55', '1175.22', '1178.89', '1182.55', '1186.22', '1189.89', '1193.55', '1197.22', '1200.89', '1204.55', '1208.22', '1211.89', '1215.55', '1219.22', '1222.89', '1226.55', '1230.22', '1233.89', '1237.55', '1241.22', '1244.89', '1248.55', '1252.22', '1255.89', '1259.55', '1263.22', '1266.89', '1270.55', '1274.22', '1277.89', '1281.55', '1285.22', '1288.89', '1292.55', '1296.22', '1299.89', '1303.55', '1307.22', '1310.89', '1314.55', '1318.22', '1321.89', '1325.55', '1329.22', '1332.89', '1336.55', '1340.22', '1343.89', '1347.55', '1351.22', '1354.89', '1358.55', '1362.22', '1365.89', '1369.55', '1373.22', '1376.89', '1380.55', '1384.22', '1387.89', '1391.55', '1395.22', '1398.89', '1402.55', '1406.22', '1409.89', '1413.55', '1417.22', '1420.89', '1424.55', '1428.22', '1431.89', '1435.55', '1439.22', '1442.89', '1446.56', '1450.23', '1453.91', '1457.61', '1461.32', '1465.04', '1468.76', '1472.50', '1476.23', '1479.97', '1483.71', '1487.44', '1491.17', '1494.89', '1498.61', '1502.32', '1506.03', '1509.73', '1513.42', '1517.11', '1520.79', '1524.47', '1528.14', '1531.81', '1535.47', '1539.13', '1542.78', '1546.44', '1550.09', '1553.75', '1557.40', '1561.06', '1564.71', '1568.37', '1572.03', '1575.68', '1579.34', '1582.99', '1586.65', '1590.30', '1593.96', '1597.61', '1601.27', '1604.93', '1608.58', '1612.24', '1615.89', '1619.55', '1623.20', '1626.86', '1630.51', '1634.17', '1637.83', '1641.48', '1645.14', '1648.79', '1652.45', '1656.10', '1659.76', '1663.41', '1667.07', '1670.73', '1674.38', '1678.04', '1681.69', '1685.35', '1689.00', '1692.66', '1696.31', '1699.97', '1703.63', '1707.28', '1710.94', '1714.59', '1718.25', '1721.90', '1725.56', '1729.21', '1732.87', '1736.53', '1740.18', '1743.84', '1747.49', '1751.15', '1754.80', '1758.46', '1762.11', '1765.77', '1769.43', '1773.08', '1776.74', '1780.39', '1784.05', '1787.70', '1791.36', '1795.01', '1798.67', '1802.33', '1805.98', '1809.64', '1813.29', '1816.95', '1820.60', '1824.26', '1827.91', '1831.57', '1835.23', '1838.88', '1842.54', '1846.19', '1849.85', '1853.50', '1857.16', '1860.81', '1864.47', '1868.13', '1871.78', '1875.44', '1879.09', '1882.75', '1886.40', '1890.06', '1893.71', '1897.37', '1901.03', '1904.68', '1908.34', '1911.99', '1915.65', '1919.30', '1922.96', '1926.61', '1930.27', '1933.93', '1937.58', '1941.24', '1944.89', '1948.55', '1952.20', '1955.86', '1959.51', '1963.17', '1966.83', '1970.48', '1974.14', '1977.79', '1981.45', '1985.10', '1988.76', '1992.41', '1996.07', '1999.73', '2003.38', '2007.04', '2010.69', '2014.35', '2018.00', '2021.66', '2025.31', '2028.97', '2032.63', '2036.28', '2039.94', '2043.59', '2047.25', '2050.90', '2054.56', '2058.21', '2061.87', '2065.53', '2069.18', '2072.84', '2076.49', '2080.15', '2083.80', '2087.46', '2091.11', '2094.77', '2098.43', '2102.08', '2105.74', '2109.39', '2113.05', '2116.70', '2120.36', '2124.01', '2127.67', '2131.33', '2134.98', '2138.64', '2142.29', '2145.95', '2149.60', '2153.26', '2156.91', '2160.57', '2164.23', '2167.88', '2171.54', '2175.19', '2178.85', '2182.50', '2186.16', '2189.81', '2193.47', '2197.13', '2200.78', '2204.44', '2208.09', '2211.75', '2215.40', '2219.05', '2222.70', '2226.34', '2229.98', '2233.62', '2237.26', '2240.89', '2244.52', '2248.14', '2251.76', '2255.37', '2258.98', '2262.58', '2266.17', '2269.76', '2273.34', '2276.91', '2280.48', '2284.03', '2287.58', '2291.12', '2294.65', '2298.17', '2301.68', '2305.19', '2308.68', '2312.17', '2315.64', '2319.10', '2322.55', '2325.99', '2329.42', '2332.83', '2336.24', '2339.63', '2343.02', '2346.39', '2349.75', '2353.10', '2356.43', '2359.75', '2363.06', '2366.35', '2369.63', '2372.89', '2376.14', '2379.38', '2382.60', '2385.81', '2389.00', '2392.18', '2395.35', '2398.50', '2401.64', '2404.76', '2407.88', '2410.97', '2414.06', '2417.13', '2420.18', '2423.22', '2426.25', '2429.26', '2432.26', '2435.25', '2438.22', '2441.18', '2444.13', '2447.06', '2449.97', '2452.88', '2455.76', '2458.64', '2461.50', '2464.35', '2467.18', '2470.00', '2472.81', '2475.60', '2478.38', '2481.14', '2483.89', '2486.63', '2489.35', '2492.06', '2494.75', '2497.43', '2500.10', '2502.75', '2505.39', '2508.01', '2510.63', '2513.22', '2515.81', '2518.38', '2520.93', '2523.47', '2526.00', '2528.51', '2531.01', '2533.50', '2535.97', '2538.43', '2540.88', '2543.31', '2545.72', '2548.13', '2550.50', '2552.85', '2555.17', '2557.46', '2559.72', '2561.96', '2564.17', '2566.35', '2568.50', '2570.63', '2572.72', '2574.79', '2576.83', '2578.85', '2580.83', '2582.79', '2584.72', '2586.63', '2588.50', '2590.35', '2592.17', '2593.96', '2595.72', '2597.46', '2599.17', '2600.85', '2602.49', '2604.10', '2605.67', '2607.19', '2608.68', '2610.15', '2611.58', '2612.99', '2614.40', '2615.81', '2617.22', '2618.63', '2620.03', '2621.44', '2622.85', '2624.26', '2625.67', '2627.08', '2628.48', '2629.89', '2631.30', '2632.71', '2634.12', '2635.53', '2636.93', '2638.34', '2639.75', '2641.16', '2642.57', '2643.98', '2645.38', '2646.79', '2648.19', '2649.57', '2650.93', '2652.29', '2653.63', '2654.95', '2656.26', '2657.56', '2658.84', '2660.11', '2661.37', '2662.61', '2663.84', '2665.05', '2666.25', '2667.44', '2668.61', '2669.77', '2670.91', '2672.04', '2673.16', '2674.26', '2675.35', '2676.43', '2677.49', '2678.53', '2679.57', '2680.59', '2681.59', '2682.58', '2683.56', '2684.53', '2685.48', '2686.41', '2687.33', '2688.26', '2689.18', '2690.10', '2691.02', '2691.94', '2692.87', '2693.79', '2694.71', '2695.63', '2696.56', '2697.48', '2698.40', '2699.32', '2700.24', '2701.17', '2702.09', '2703.01', '2703.93', '2704.86', '2705.78', '2706.70', '2707.62', '2708.54', '2709.47', '2710.39', '2711.31', '2712.23', '2713.16', '2714.08', '2715.00', '2715.92', '2716.84', '2717.77', '2718.69', '2719.61', '2720.53', '2721.46', '2722.38', '2723.30', '2724.22', '2725.13', '2726.03', '2726.91', '2727.77', '2728.63', '2729.46', '2730.29', '2731.10', '2731.90', '2732.68', '2733.45', '2734.21', '2734.95', '2735.68', '2736.39', '2737.09', '2737.78', '2738.45', '2739.11', '2739.75', '2740.38', '2741.00', '2741.60', '2742.19', '2742.76', '2743.33', '2743.87', '2744.41', '2744.93', '2745.43', '2745.92', '2746.40', '2746.86', '2747.31', '2747.75', '2748.17', '2748.58', '2748.98', '2749.36', '2749.72', '2750.08', '2750.41', '2750.74', '2751.05', '2751.35', '2751.63', '2751.90', '2752.16', '2752.40', '2752.63', '2752.84', '2753.04', '2753.23', '2753.40', '2753.56', '2753.70', '2753.83', '2753.95', '2754.05', '2754.14', '2754.21', '2754.28', '2754.32', '2754.36', '2754.38', '2754.38', '2754.37', '2754.35', '2754.33', '2754.31', '2754.28', '2754.26', '2754.23', '2754.18', '2754.13', '2754.06', '2753.98', '2753.89', '2753.79', '2753.68', '2753.56', '2753.43', '2753.28', '2753.13', '2752.96', '2752.78', '2752.59', '2752.39', '2752.18', '2751.96', '2751.73', '2751.48', '2751.24', '2750.99', '2750.75', '2750.51', '2750.26', '2750.02', '2749.77', '2749.53', '2749.28', '2749.04', '2748.80', '2748.56', '2748.33', '2748.12', '2747.91', '2747.72', '2747.53', '2747.36', '2747.20', '2747.05', '2746.91', '2746.78', '2746.67', '2746.56', '2746.47', '2746.38', '2746.31', '2746.25', '2746.20', '2746.16', '2746.13', '2746.11', '2746.09', '2746.07', '2746.04', '2746.02', '2746.00', '2745.98', '2745.96', '2745.93', '2745.91', '2745.90', '2745.89', '2745.90', '2745.92', '2745.95', '2746.00', '2746.06', '2746.14', '2746.23', '2746.33', '2746.44', '2746.58', '2746.72', '2746.88', '2747.05', '2747.24', '2747.44', '2747.65', '2747.88', '2748.12', '2748.37', '2748.63', '2748.90', '2749.17', '2749.44', '2749.71', '2749.97', '2750.22', '2750.46', '2750.69', '2750.90', '2751.10', '2751.29', '2751.46', '2751.62', '2751.76', '2751.89', '2752.01', '2752.11', '2752.20', '2752.28', '2752.34', '2752.39', '2752.44', '2752.47', '2752.49', '2752.51', '2752.52', '2752.53', '2752.53', '2752.53', '2752.53']\n",
      "['0', '0.1', '0.2', '0.3', '0.4', '0.5', '0.6', '0.7', '0.8', '0.9', '1', '1.1', '1.2', '1.3', '1.4', '1.5', '1.6', '1.7', '1.8', '1.9', '2', '2.1', '2.2', '2.3', '2.4', '2.5', '2.6', '2.7', '2.8', '2.9', '3', '3.1', '3.2', '3.3', '3.4', '3.5', '3.6', '3.7', '3.8', '3.9', '4', '4.1', '4.2', '4.3', '4.4', '4.5', '4.6', '4.7', '4.8', '4.9', '5', '5.1', '5.2', '5.3', '5.4', '5.5', '5.6', '5.7', '5.8', '5.9', '6', '6.1', '6.2', '6.3', '6.4', '6.5', '6.6', '6.7', '6.8', '6.9', '7', '7.1', '7.2', '7.3', '7.4', '7.5', '7.6', '7.7', '7.8', '7.9', '8', '8.1', '8.2', '8.3', '8.4', '8.5', '8.6', '8.7', '8.8', '8.9', '9', '9.1', '9.2', '9.3', '9.4', '9.5', '9.6', '9.7', '9.8', '9.9', '10', '10.1', '10.2', '10.3', '10.4', '10.5', '10.6', '10.7', '10.8', '10.9', '11', '11.1', '11.2', '11.3', '11.4', '11.5', '11.6', '11.7', '11.8', '11.9', '12', '12.1', '12.2', '12.3', '12.4', '12.5', '12.6', '12.7', '12.8', '12.9', '13', '13.1', '13.2', '13.3', '13.4', '13.5', '13.6', '13.7', '13.8', '13.9', '14', '14.1', '14.2', '14.3', '14.4', '14.5', '14.6', '14.7', '14.8', '14.9', '15', '15.1', '15.2', '15.3', '15.4', '15.5', '15.6', '15.7', '15.8', '15.9', '16', '16.1', '16.2', '16.3', '16.4', '16.5', '16.6', '16.7', '16.8', '16.9', '17', '17.1', '17.2', '17.3', '17.4', '17.5', '17.6', '17.7', '17.8', '17.9', '18', '18.1', '18.2', '18.3', '18.4', '18.5', '18.6', '18.7', '18.8', '18.9', '19', '19.1', '19.2', '19.3', '19.4', '19.5', '19.6', '19.7', '19.8', '19.9', '20', '20.1', '20.2', '20.3', '20.4', '20.5', '20.6', '20.7', '20.8', '20.9', '21', '21.1', '21.2', '21.3', '21.4', '21.5', '21.6', '21.7', '21.8', '21.9', '22', '22.1', '22.2', '22.3', '22.4', '22.5', '22.6', '22.7', '22.8', '22.9', '23', '23.1', '23.2', '23.3', '23.4', '23.5', '23.6', '23.7', '23.8', '23.9', '24', '24.1', '24.2', '24.3', '24.4', '24.5', '24.6', '24.7', '24.8', '24.9', '25', '25.1', '25.2', '25.3', '25.4', '25.5', '25.6', '25.7', '25.8', '25.9', '26', '26.1', '26.2', '26.3', '26.4', '26.5', '26.6', '26.7', '26.8', '26.9', '27', '27.1', '27.2', '27.3', '27.4', '27.5', '27.6', '27.7', '27.8', '27.9', '28', '28.1', '28.2', '28.3', '28.4', '28.5', '28.6', '28.7', '28.8', '28.9', '29', '29.1', '29.2', '29.3', '29.4', '29.5', '29.6', '29.7', '29.8', '29.9', '30', '30.1', '30.2', '30.3', '30.4', '30.5', '30.6', '30.7', '30.8', '30.9', '31', '31.1', '31.2', '31.3', '31.4', '31.5', '31.6', '31.7', '31.8', '31.9', '32', '32.1', '32.2', '32.3', '32.4', '32.5', '32.6', '32.7', '32.8', '32.9', '33', '33.1', '33.2', '33.3', '33.4', '33.5', '33.6', '33.7', '33.8', '33.9', '34', '34.1', '34.2', '34.3', '34.4', '34.5', '34.6', '34.7', '34.8', '34.9', '35', '35.1', '35.2', '35.3', '35.4', '35.5', '35.6', '35.7', '35.8', '35.9', '36', '36.1', '36.2', '36.3', '36.4', '36.5', '36.6', '36.7', '36.8', '36.9', '37', '37.1', '37.2', '37.3', '37.4', '37.5', '37.6', '37.7', '37.8', '37.9', '38', '38.1', '38.2', '38.3', '38.4', '38.5', '38.6', '38.7', '38.8', '38.9', '39', '39.1', '39.2', '39.3', '39.4', '39.5', '39.6', '39.7', '39.8', '39.9', '40', '40.1', '40.2', '40.3', '40.4', '40.5', '40.6', '40.7', '40.8', '40.9', '41', '41.1', '41.2', '41.3', '41.4', '41.5', '41.6', '41.7', '41.8', '41.9', '42', '42.1', '42.2', '42.3', '42.4', '42.5', '42.6', '42.7', '42.8', '42.9', '43', '43.1', '43.2', '43.3', '43.4', '43.5', '43.6', '43.7', '43.8', '43.9', '44', '44.1', '44.2', '44.3', '44.4', '44.5', '44.6', '44.7', '44.8', '44.9', '45', '45.1', '45.2', '45.3', '45.4', '45.5', '45.6', '45.7', '45.8', '45.9', '46', '46.1', '46.2', '46.3', '46.4', '46.5', '46.6', '46.7', '46.8', '46.9', '47', '47.1', '47.2', '47.3', '47.4', '47.5', '47.6', '47.7', '47.8', '47.9', '48', '48.1', '48.2', '48.3', '48.4', '48.5', '48.6', '48.7', '48.8', '48.9', '49', '49.1', '49.2', '49.3', '49.4', '49.5', '49.6', '49.7', '49.8', '49.9', '50', '50.1', '50.2', '50.3', '50.4', '50.5', '50.6', '50.7', '50.8', '50.9', '51', '51.1', '51.2', '51.3', '51.4', '51.5', '51.6', '51.7', '51.8', '51.9', '52', '52.1', '52.2', '52.3', '52.4', '52.5', '52.6', '52.7', '52.8', '52.9', '53', '53.1', '53.2', '53.3', '53.4', '53.5', '53.6', '53.7', '53.8', '53.9', '54', '54.1', '54.2', '54.3', '54.4', '54.5', '54.6', '54.7', '54.8', '54.9', '55', '55.1', '55.2', '55.3', '55.4', '55.5', '55.6', '55.7', '55.8', '55.9', '56', '56.1', '56.2', '56.3', '56.4', '56.5', '56.6', '56.7', '56.8', '56.9', '57', '57.1', '57.2', '57.3', '57.4', '57.5', '57.6', '57.7', '57.8', '57.9', '58', '58.1', '58.2', '58.3', '58.4', '58.5', '58.6', '58.7', '58.8', '58.9', '59', '59.1', '59.2', '59.3', '59.4', '59.5', '59.6', '59.7', '59.8', '59.9', '60', '60.1', '60.2', '60.3', '60.4', '60.5', '60.6', '60.7', '60.8', '60.9', '61', '61.1', '61.2', '61.3', '61.4', '61.5', '61.6', '61.7', '61.8', '61.9', '62', '62.1', '62.2', '62.3', '62.4', '62.5', '62.6', '62.7', '62.8', '62.9', '63', '63.1', '63.2', '63.3', '63.4', '63.5', '63.6', '63.7', '63.8', '63.9', '64', '64.1', '64.2', '64.3', '64.4', '64.5', '64.6', '64.7', '64.8', '64.9', '65', '65.1', '65.2', '65.3', '65.4', '65.5', '65.6', '65.7', '65.8', '65.9', '66', '66.1', '66.2', '66.3', '66.4', '66.5', '66.6', '66.7', '66.8', '66.9', '67', '67.1', '67.2', '67.3', '67.4', '67.5', '67.6', '67.7', '67.8', '67.9', '68', '68.1', '68.2', '68.3', '68.4', '68.5', '68.6', '68.7', '68.8', '68.9', '69', '69.1', '69.2', '69.3', '69.4', '69.5', '69.6', '69.7', '69.8', '69.9', '70', '70.1', '70.2', '70.3', '70.4', '70.5', '70.6', '70.7', '70.8', '70.9', '71', '71.1', '71.2', '71.3', '71.4', '71.5', '71.6', '71.7', '71.8', '71.9', '72', '72.1', '72.2', '72.3', '72.4', '72.5', '72.6', '72.7', '72.8', '72.9', '73', '73.1', '73.2', '73.3', '73.4', '73.5', '73.6', '73.7', '73.8', '73.9', '74', '74.1', '74.2', '74.3', '74.4', '74.5', '74.6', '74.7', '74.8', '74.9', '75', '75.1', '75.2', '75.3', '75.4', '75.5', '75.6', '75.7', '75.8', '75.9', '76', '76.1', '76.2', '76.3', '76.4', '76.5', '76.6', '76.7', '76.8', '76.9', '77', '77.1', '77.2', '77.3', '77.4', '77.5', '77.6', '77.7', '77.8', '77.9', '78', '78.1', '78.2', '78.3', '78.4', '78.5', '78.6', '78.7', '78.8', '78.9', '79', '79.1', '79.2', '79.3', '79.4', '79.5', '79.6', '79.7', '79.8', '79.9', '80', '80.1', '80.2', '80.3', '80.4', '80.5', '80.6', '80.7', '80.8', '80.9', '81', '81.1', '81.2', '81.3', '81.4', '81.5', '81.6', '81.7', '81.8', '81.9', '82', '82.1', '82.2', '82.3', '82.4', '82.5', '82.6', '82.7', '82.8', '82.9', '83', '83.1', '83.2', '83.3', '83.4', '83.5', '83.6', '83.7', '83.8', '83.9', '84', '84.1', '84.2', '84.3', '84.4', '84.5', '84.6', '84.7', '84.8', '84.9', '85', '85.1', '85.2', '85.3', '85.4', '85.5', '85.6', '85.7', '85.8', '85.9', '86', '86.1', '86.2', '86.3', '86.4', '86.5', '86.6', '86.7', '86.8', '86.9', '87', '87.1', '87.2', '87.3', '87.4', '87.5', '87.6', '87.7', '87.8', '87.9', '88', '88.1', '88.2', '88.3', '88.4', '88.5', '88.6', '88.7', '88.8', '88.9', '89', '89.1', '89.2', '89.3', '89.4', '89.5', '89.6', '89.7', '89.8', '89.9', '90', '90.1', '90.2', '90.3', '90.4', '90.5', '90.6', '90.7', '90.8', '90.9', '91', '91.1', '91.2', '91.3', '91.4', '91.5', '91.6', '91.7', '91.8', '91.9', '92', '92.1', '92.2', '92.3', '92.4', '92.5', '92.6', '92.7', '92.8', '92.9', '93', '93.1', '93.2', '93.3', '93.4', '93.5', '93.6', '93.7', '93.8', '93.9', '94', '94.1', '94.2', '94.3', '94.4', '94.5', '94.6', '94.7', '94.8', '94.9', '95', '95.1', '95.2', '95.3', '95.4', '95.5', '95.6', '95.7', '95.8', '95.9', '96', '96.1', '96.2', '96.3', '96.4', '96.5', '96.6', '96.7', '96.8', '96.9', '97', '97.1', '97.2', '97.3', '97.4', '97.5', '97.6', '97.7', '97.8', '97.9', '98', '98.1', '98.2', '98.3', '98.4', '98.5', '98.6', '98.7', '98.8', '98.9', '99', '99.1', '99.2', '99.3', '99.4', '99.5', '99.6', '99.7', '99.8', '99.9', '100', '100.1', '100.2', '100.3', '100.4', '100.5', '100.6', '100.7', '100.8', '100.9', '101', '101.1', '101.2', '101.3', '101.4', '101.5', '101.6', '101.7', '101.8', '101.9', '102', '102.1', '102.2', '102.3', '102.4', '102.5', '102.6', '102.7', '102.8', '102.9', '103', '103.1', '103.2', '103.3', '103.4', '103.5', '103.6', '103.7', '103.8', '103.9', '104', '104.1', '104.2', '104.3', '104.4', '104.5', '104.6', '104.7', '104.8', '104.9', '105', '105.1', '105.2', '105.3', '105.4', '105.5', '105.6', '105.7', '105.8', '105.9', '106', '106.1', '106.2', '106.3', '106.4', '106.5', '106.6', '106.7', '106.8', '106.9', '107', '107.1', '107.2', '107.3', '107.4', '107.5', '107.6', '107.7', '107.8', '107.9', '108', '108.1', '108.2', '108.3', '108.4', '108.5', '108.6', '108.7', '108.8', '108.9', '109', '109.1', '109.2', '109.3', '109.4', '109.5', '109.6', '109.7', '109.8', '109.9', '110', '110.1', '110.2', '110.3', '110.4', '110.5', '110.6', '110.7', '110.8', '110.9', '111', '111.1', '111.2', '111.3', '111.4', '111.5', '111.6', '111.7', '111.8', '111.9', '112', '112.1', '112.2', '112.3', '112.4', '112.5', '112.6', '112.7', '112.8', '112.9', '113', '113.1', '113.2', '113.3', '113.4', '113.5', '113.6', '113.7', '113.8', '113.9', '114', '114.1', '114.2', '114.3', '114.4', '114.5', '114.6', '114.7', '114.8', '114.9', '115', '115.1', '115.2', '115.3', '115.4', '115.5', '115.6', '115.7', '115.8', '115.9', '116', '116.1', '116.2', '116.3', '116.4', '116.5', '116.6', '116.7', '116.8', '116.9', '117', '117.1', '117.2', '117.3', '117.4', '117.5', '117.6', '117.7', '117.8', '117.9', '118', '118.1', '118.2', '118.3', '118.4', '118.5', '118.6', '118.7', '118.8', '118.9', '119', '119.1', '119.2', '119.3', '119.4', '119.5', '119.6', '119.7', '119.8', '119.9'] ['200.03\\n', '200.04\\n', '200.05\\n', '200.08\\n', '200.12\\n', '200.18\\n', '200.26\\n', '200.36\\n', '200.48\\n', '200.63\\n', '200.79\\n', '200.98\\n', '201.19\\n', '201.43\\n', '201.68\\n', '201.96\\n', '202.26\\n', '202.58\\n', '202.93\\n', '203.29\\n', '203.68\\n', '204.09\\n', '204.53\\n', '204.98\\n', '205.46\\n', '205.96\\n', '206.48\\n', '207.03\\n', '207.59\\n', '208.18\\n', '208.79\\n', '209.43\\n', '210.08\\n', '210.76\\n', '211.46\\n', '212.18\\n', '212.93\\n', '213.69\\n', '214.48\\n', '215.29\\n', '216.13\\n', '216.98\\n', '217.86\\n', '218.76\\n', '219.68\\n', '220.63\\n', '221.59\\n', '222.58\\n', '223.58\\n', '224.61\\n', '225.64\\n', '226.70\\n', '227.76\\n', '228.84\\n', '229.94\\n', '231.04\\n', '232.16\\n', '233.29\\n', '234.42\\n', '235.56\\n', '236.71\\n', '237.87\\n', '239.03\\n', '240.20\\n', '241.38\\n', '242.56\\n', '243.74\\n', '244.94\\n', '246.13\\n', '247.33\\n', '248.53\\n', '249.73\\n', '250.92\\n', '252.12\\n', '253.32\\n', '254.51\\n', '255.71\\n', '256.91\\n', '258.11\\n', '259.30\\n', '260.50\\n', '261.70\\n', '262.89\\n', '264.09\\n', '265.29\\n', '266.49\\n', '267.68\\n', '268.88\\n', '270.08\\n', '271.28\\n', '272.47\\n', '273.67\\n', '274.87\\n', '276.06\\n', '277.26\\n', '278.46\\n', '279.66\\n', '280.85\\n', '282.05\\n', '283.25\\n', '284.44\\n', '285.64\\n', '286.84\\n', '288.04\\n', '289.23\\n', '290.43\\n', '291.63\\n', '292.82\\n', '294.02\\n', '295.22\\n', '296.42\\n', '297.61\\n', '298.81\\n', '300.01\\n', '301.21\\n', '302.40\\n', '303.60\\n', '304.80\\n', '305.99\\n', '307.19\\n', '308.39\\n', '309.59\\n', '310.78\\n', '311.98\\n', '313.18\\n', '314.37\\n', '315.57\\n', '316.77\\n', '317.97\\n', '319.16\\n', '320.36\\n', '321.56\\n', '322.76\\n', '323.95\\n', '325.15\\n', '326.35\\n', '327.54\\n', '328.74\\n', '329.94\\n', '331.15\\n', '332.36\\n', '333.59\\n', '334.82\\n', '336.08\\n', '337.36\\n', '338.65\\n', '339.97\\n', '341.32\\n', '342.71\\n', '344.12\\n', '345.57\\n', '347.05\\n', '348.56\\n', '350.11\\n', '351.69\\n', '353.30\\n', '354.95\\n', '356.63\\n', '358.34\\n', '360.09\\n', '361.87\\n', '363.69\\n', '365.53\\n', '367.41\\n', '369.33\\n', '371.27\\n', '373.26\\n', '375.27\\n', '377.32\\n', '379.40\\n', '381.51\\n', '383.66\\n', '385.84\\n', '388.05\\n', '390.30\\n', '392.58\\n', '394.89\\n', '397.24\\n', '399.62\\n', '402.04\\n', '404.48\\n', '406.94\\n', '409.43\\n', '411.93\\n', '414.45\\n', '416.98\\n', '419.52\\n', '422.07\\n', '424.62\\n', '427.18\\n', '429.74\\n', '432.31\\n', '434.89\\n', '437.47\\n', '440.06\\n', '442.65\\n', '445.24\\n', '447.85\\n', '450.46\\n', '453.06\\n', '455.67\\n', '458.28\\n', '460.89\\n', '463.50\\n', '466.11\\n', '468.71\\n', '471.32\\n', '473.93\\n', '476.54\\n', '479.15\\n', '481.76\\n', '484.36\\n', '486.97\\n', '489.58\\n', '492.19\\n', '494.80\\n', '497.41\\n', '500.01\\n', '502.62\\n', '505.23\\n', '507.84\\n', '510.45\\n', '513.06\\n', '515.66\\n', '518.27\\n', '520.88\\n', '523.49\\n', '526.10\\n', '528.71\\n', '531.31\\n', '533.92\\n', '536.53\\n', '539.14\\n', '541.75\\n', '544.36\\n', '546.96\\n', '549.57\\n', '552.18\\n', '554.79\\n', '557.40\\n', '560.01\\n', '562.61\\n', '565.22\\n', '567.83\\n', '570.44\\n', '573.04\\n', '575.63\\n', '578.21\\n', '580.77\\n', '583.32\\n', '585.86\\n', '588.37\\n', '590.87\\n', '593.36\\n', '595.82\\n', '598.27\\n', '600.71\\n', '603.12\\n', '605.52\\n', '607.91\\n', '610.27\\n', '612.62\\n', '614.96\\n', '617.27\\n', '619.57\\n', '621.86\\n', '624.12\\n', '626.37\\n', '628.61\\n', '630.82\\n', '633.02\\n', '635.21\\n', '637.37\\n', '639.52\\n', '641.66\\n', '643.78\\n', '645.89\\n', '647.99\\n', '650.08\\n', '652.17\\n', '654.26\\n', '656.36\\n', '658.45\\n', '660.54\\n', '662.63\\n', '664.72\\n', '666.81\\n', '668.91\\n', '671.00\\n', '673.09\\n', '675.18\\n', '677.27\\n', '679.36\\n', '681.46\\n', '683.55\\n', '685.64\\n', '687.73\\n', '689.82\\n', '691.91\\n', '694.01\\n', '696.10\\n', '698.19\\n', '700.28\\n', '702.37\\n', '704.46\\n', '706.56\\n', '708.65\\n', '710.74\\n', '712.83\\n', '714.92\\n', '717.01\\n', '719.11\\n', '721.20\\n', '723.29\\n', '725.38\\n', '727.47\\n', '729.56\\n', '731.66\\n', '733.75\\n', '735.84\\n', '737.93\\n', '740.02\\n', '742.11\\n', '744.21\\n', '746.30\\n', '748.39\\n', '750.48\\n', '752.57\\n', '754.67\\n', '756.77\\n', '758.88\\n', '760.99\\n', '763.13\\n', '765.28\\n', '767.45\\n', '769.64\\n', '771.85\\n', '774.09\\n', '776.35\\n', '778.63\\n', '780.93\\n', '783.26\\n', '785.60\\n', '787.97\\n', '790.36\\n', '792.78\\n', '795.21\\n', '797.67\\n', '800.16\\n', '802.66\\n', '805.20\\n', '807.76\\n', '810.35\\n', '812.96\\n', '815.59\\n', '818.24\\n', '820.91\\n', '823.61\\n', '826.33\\n', '829.07\\n', '831.84\\n', '834.62\\n', '837.43\\n', '840.26\\n', '843.11\\n', '845.99\\n', '848.89\\n', '851.81\\n', '854.75\\n', '857.71\\n', '860.68\\n', '863.65\\n', '866.63\\n', '869.60\\n', '872.58\\n', '875.55\\n', '878.53\\n', '881.50\\n', '884.48\\n', '887.45\\n', '890.43\\n', '893.40\\n', '896.38\\n', '899.35\\n', '902.33\\n', '905.30\\n', '908.28\\n', '911.25\\n', '914.23\\n', '917.20\\n', '920.18\\n', '923.15\\n', '926.13\\n', '929.10\\n', '932.08\\n', '935.05\\n', '938.03\\n', '941.00\\n', '943.98\\n', '946.95\\n', '949.93\\n', '952.90\\n', '955.88\\n', '958.85\\n', '961.83\\n', '964.80\\n', '967.78\\n', '970.75\\n', '973.73\\n', '976.70\\n', '979.68\\n', '982.65\\n', '985.63\\n', '988.60\\n', '991.58\\n', '994.55\\n', '997.53\\n', '1000.50\\n', '1003.48\\n', '1006.45\\n', '1009.43\\n', '1012.40\\n', '1015.38\\n', '1018.35\\n', '1021.33\\n', '1024.30\\n', '1027.28\\n', '1030.25\\n', '1033.23\\n', '1036.20\\n', '1039.18\\n', '1042.15\\n', '1045.13\\n', '1048.10\\n', '1051.08\\n', '1054.05\\n', '1057.03\\n', '1060.00\\n', '1062.98\\n', '1065.95\\n', '1068.93\\n', '1071.90\\n', '1074.88\\n', '1077.85\\n', '1080.83\\n', '1083.80\\n', '1086.78\\n', '1089.75\\n', '1092.73\\n', '1095.70\\n', '1098.68\\n', '1101.65\\n', '1104.63\\n', '1107.60\\n', '1110.58\\n', '1113.55\\n', '1116.53\\n', '1119.50\\n', '1122.48\\n', '1125.45\\n', '1128.43\\n', '1131.40\\n', '1134.38\\n', '1137.36\\n', '1140.35\\n', '1143.35\\n', '1146.35\\n', '1149.35\\n', '1152.35\\n', '1155.35\\n', '1158.35\\n', '1161.35\\n', '1164.35\\n', '1167.35\\n', '1170.35\\n', '1173.35\\n', '1176.35\\n', '1179.35\\n', '1182.35\\n', '1185.35\\n', '1188.35\\n', '1191.35\\n', '1194.35\\n', '1197.35\\n', '1200.35\\n', '1203.35\\n', '1206.35\\n', '1209.35\\n', '1212.35\\n', '1215.35\\n', '1218.35\\n', '1221.35\\n', '1224.35\\n', '1227.35\\n', '1230.35\\n', '1233.35\\n', '1236.35\\n', '1239.35\\n', '1242.35\\n', '1245.35\\n', '1248.35\\n', '1251.35\\n', '1254.35\\n', '1257.35\\n', '1260.35\\n', '1263.35\\n', '1266.35\\n', '1269.35\\n', '1272.35\\n', '1275.35\\n', '1278.35\\n', '1281.35\\n', '1284.35\\n', '1287.35\\n', '1290.35\\n', '1293.35\\n', '1296.35\\n', '1299.35\\n', '1302.35\\n', '1305.35\\n', '1308.35\\n', '1311.35\\n', '1314.35\\n', '1317.35\\n', '1320.35\\n', '1323.35\\n', '1326.35\\n', '1329.35\\n', '1332.35\\n', '1335.35\\n', '1338.35\\n', '1341.35\\n', '1344.35\\n', '1347.35\\n', '1350.35\\n', '1353.35\\n', '1356.35\\n', '1359.35\\n', '1362.35\\n', '1365.35\\n', '1368.35\\n', '1371.35\\n', '1374.35\\n', '1377.35\\n', '1380.35\\n', '1383.35\\n', '1386.35\\n', '1389.35\\n', '1392.35\\n', '1395.35\\n', '1398.35\\n', '1401.35\\n', '1404.35\\n', '1407.35\\n', '1410.35\\n', '1413.35\\n', '1416.35\\n', '1419.35\\n', '1422.35\\n', '1425.35\\n', '1428.35\\n', '1431.35\\n', '1434.35\\n', '1437.35\\n', '1440.35\\n', '1443.36\\n', '1446.38\\n', '1449.41\\n', '1452.45\\n', '1455.50\\n', '1458.56\\n', '1461.63\\n', '1464.70\\n', '1467.77\\n', '1470.84\\n', '1473.91\\n', '1476.97\\n', '1480.02\\n', '1483.07\\n', '1486.12\\n', '1489.16\\n', '1492.19\\n', '1495.22\\n', '1498.24\\n', '1501.26\\n', '1504.27\\n', '1507.27\\n', '1510.27\\n', '1513.27\\n', '1516.26\\n', '1519.24\\n', '1522.23\\n', '1525.22\\n', '1528.21\\n', '1531.20\\n', '1534.19\\n', '1537.18\\n', '1540.17\\n', '1543.16\\n', '1546.14\\n', '1549.13\\n', '1552.12\\n', '1555.11\\n', '1558.10\\n', '1561.09\\n', '1564.08\\n', '1567.07\\n', '1570.06\\n', '1573.04\\n', '1576.03\\n', '1579.02\\n', '1582.01\\n', '1585.00\\n', '1587.99\\n', '1590.98\\n', '1593.97\\n', '1596.96\\n', '1599.94\\n', '1602.93\\n', '1605.92\\n', '1608.91\\n', '1611.90\\n', '1614.89\\n', '1617.88\\n', '1620.87\\n', '1623.86\\n', '1626.84\\n', '1629.83\\n', '1632.82\\n', '1635.81\\n', '1638.80\\n', '1641.79\\n', '1644.78\\n', '1647.77\\n', '1650.76\\n', '1653.74\\n', '1656.73\\n', '1659.72\\n', '1662.71\\n', '1665.70\\n', '1668.69\\n', '1671.68\\n', '1674.67\\n', '1677.66\\n', '1680.64\\n', '1683.63\\n', '1686.62\\n', '1689.61\\n', '1692.60\\n', '1695.59\\n', '1698.58\\n', '1701.57\\n', '1704.56\\n', '1707.54\\n', '1710.53\\n', '1713.52\\n', '1716.51\\n', '1719.50\\n', '1722.49\\n', '1725.48\\n', '1728.47\\n', '1731.46\\n', '1734.44\\n', '1737.43\\n', '1740.42\\n', '1743.41\\n', '1746.40\\n', '1749.39\\n', '1752.38\\n', '1755.37\\n', '1758.36\\n', '1761.34\\n', '1764.33\\n', '1767.32\\n', '1770.31\\n', '1773.30\\n', '1776.29\\n', '1779.28\\n', '1782.27\\n', '1785.26\\n', '1788.24\\n', '1791.23\\n', '1794.22\\n', '1797.21\\n', '1800.20\\n', '1803.19\\n', '1806.18\\n', '1809.17\\n', '1812.16\\n', '1815.14\\n', '1818.13\\n', '1821.12\\n', '1824.11\\n', '1827.10\\n', '1830.09\\n', '1833.08\\n', '1836.07\\n', '1839.06\\n', '1842.04\\n', '1845.03\\n', '1848.02\\n', '1851.01\\n', '1854.00\\n', '1856.99\\n', '1859.98\\n', '1862.97\\n', '1865.96\\n', '1868.94\\n', '1871.93\\n', '1874.92\\n', '1877.91\\n', '1880.90\\n', '1883.89\\n', '1886.88\\n', '1889.87\\n', '1892.86\\n', '1895.84\\n', '1898.83\\n', '1901.82\\n', '1904.81\\n', '1907.80\\n', '1910.79\\n', '1913.78\\n', '1916.77\\n', '1919.76\\n', '1922.74\\n', '1925.73\\n', '1928.72\\n', '1931.71\\n', '1934.70\\n', '1937.69\\n', '1940.68\\n', '1943.67\\n', '1946.66\\n', '1949.64\\n', '1952.63\\n', '1955.62\\n', '1958.61\\n', '1961.60\\n', '1964.59\\n', '1967.58\\n', '1970.57\\n', '1973.56\\n', '1976.54\\n', '1979.53\\n', '1982.52\\n', '1985.51\\n', '1988.50\\n', '1991.49\\n', '1994.48\\n', '1997.47\\n', '2000.46\\n', '2003.44\\n', '2006.43\\n', '2009.42\\n', '2012.41\\n', '2015.40\\n', '2018.39\\n', '2021.38\\n', '2024.37\\n', '2027.36\\n', '2030.34\\n', '2033.33\\n', '2036.32\\n', '2039.31\\n', '2042.30\\n', '2045.29\\n', '2048.28\\n', '2051.27\\n', '2054.26\\n', '2057.24\\n', '2060.23\\n', '2063.22\\n', '2066.21\\n', '2069.20\\n', '2072.18\\n', '2075.16\\n', '2078.14\\n', '2081.11\\n', '2084.09\\n', '2087.06\\n', '2090.02\\n', '2092.98\\n', '2095.94\\n', '2098.89\\n', '2101.83\\n', '2104.77\\n', '2107.71\\n', '2110.63\\n', '2113.56\\n', '2116.47\\n', '2119.37\\n', '2122.27\\n', '2125.16\\n', '2128.04\\n', '2130.91\\n', '2133.78\\n', '2136.63\\n', '2139.48\\n', '2142.32\\n', '2145.15\\n', '2147.96\\n', '2150.77\\n', '2153.56\\n', '2156.35\\n', '2159.12\\n', '2161.88\\n', '2164.63\\n', '2167.37\\n', '2170.10\\n', '2172.81\\n', '2175.52\\n', '2178.21\\n', '2180.89\\n', '2183.56\\n', '2186.21\\n', '2188.85\\n', '2191.48\\n', '2194.09\\n', '2196.69\\n', '2199.27\\n', '2201.84\\n', '2204.39\\n', '2206.94\\n', '2209.46\\n', '2211.98\\n', '2214.48\\n', '2216.96\\n', '2219.44\\n', '2221.89\\n', '2224.34\\n', '2226.77\\n', '2229.19\\n', '2231.59\\n', '2233.98\\n', '2236.35\\n', '2238.71\\n', '2241.06\\n', '2243.39\\n', '2245.71\\n', '2248.02\\n', '2250.31\\n', '2252.59\\n', '2254.85\\n', '2257.10\\n', '2259.34\\n', '2261.56\\n', '2263.77\\n', '2265.96\\n', '2268.14\\n', '2270.31\\n', '2272.46\\n', '2274.60\\n', '2276.73\\n', '2278.84\\n', '2280.94\\n', '2283.02\\n', '2285.09\\n', '2287.14\\n', '2289.19\\n', '2291.21\\n', '2293.23\\n', '2295.23\\n', '2297.21\\n', '2299.19\\n', '2301.14\\n', '2303.09\\n', '2305.02\\n', '2306.94\\n', '2308.84\\n', '2310.73\\n', '2312.60\\n', '2314.46\\n', '2316.31\\n', '2318.14\\n', '2319.96\\n', '2321.77\\n', '2323.56\\n', '2325.34\\n', '2327.10\\n', '2328.85\\n', '2330.59\\n', '2332.30\\n', '2333.98\\n', '2335.63\\n', '2337.26\\n', '2338.85\\n', '2340.42\\n', '2341.96\\n', '2343.48\\n', '2344.96\\n', '2346.42\\n', '2347.85\\n', '2349.26\\n', '2350.63\\n', '2351.98\\n', '2353.30\\n', '2354.59\\n', '2355.85\\n', '2357.09\\n', '2358.30\\n', '2359.48\\n', '2360.63\\n', '2361.76\\n', '2362.85\\n', '2363.92\\n', '2364.96\\n', '2365.98\\n', '2366.96\\n', '2367.90\\n', '2368.80\\n', '2369.66\\n', '2370.48\\n', '2371.28\\n', '2372.05\\n', '2372.79\\n', '2373.53\\n', '2374.27\\n', '2375.01\\n', '2375.76\\n', '2376.50\\n', '2377.24\\n', '2377.98\\n', '2378.72\\n', '2379.46\\n', '2380.21\\n', '2380.95\\n', '2381.69\\n', '2382.43\\n', '2383.17\\n', '2383.91\\n', '2384.66\\n', '2385.40\\n', '2386.14\\n', '2386.88\\n', '2387.62\\n', '2388.36\\n', '2389.11\\n', '2389.85\\n', '2390.59\\n', '2391.32\\n', '2392.03\\n', '2392.73\\n', '2393.42\\n', '2394.09\\n', '2394.75\\n', '2395.39\\n', '2396.02\\n', '2396.64\\n', '2397.24\\n', '2397.83\\n', '2398.41\\n', '2398.97\\n', '2399.51\\n', '2400.05\\n', '2400.57\\n', '2401.07\\n', '2401.56\\n', '2402.04\\n', '2402.51\\n', '2402.96\\n', '2403.39\\n', '2403.81\\n', '2404.22\\n', '2404.62\\n', '2405.00\\n', '2405.36\\n', '2405.72\\n', '2406.06\\n', '2406.38\\n', '2406.69\\n', '2406.99\\n', '2407.27\\n', '2407.54\\n', '2407.80\\n', '2408.05\\n', '2408.31\\n', '2408.56\\n', '2408.82\\n', '2409.07\\n', '2409.33\\n', '2409.59\\n', '2409.84\\n', '2410.10\\n', '2410.35\\n', '2410.61\\n', '2410.86\\n', '2411.12\\n', '2411.37\\n', '2411.63\\n', '2411.89\\n', '2412.14\\n', '2412.40\\n', '2412.65\\n', '2412.91\\n', '2413.16\\n', '2413.42\\n', '2413.67\\n', '2413.93\\n', '2414.19\\n', '2414.44\\n', '2414.70\\n', '2414.95\\n', '2415.21\\n', '2415.46\\n', '2415.72\\n', '2415.97\\n', '2416.23\\n', '2416.49\\n', '2416.74\\n', '2417.00\\n', '2417.25\\n', '2417.51\\n', '2417.76\\n', '2418.02\\n', '2418.26\\n', '2418.49\\n', '2418.70\\n', '2418.90\\n', '2419.09\\n', '2419.26\\n', '2419.42\\n', '2419.56\\n', '2419.69\\n', '2419.81\\n', '2419.91\\n', '2420.00\\n', '2420.08\\n', '2420.14\\n', '2420.19\\n', '2420.22\\n', '2420.24\\n', '2420.24\\n', '2420.25\\n', '2420.26\\n', '2420.26\\n', '2420.26\\n', '2420.26\\n', '2420.26\\n', '2420.26\\n', '2420.26\\n', '2420.26\\n', '2420.26\\n', '2420.26\\n', '2420.26\\n', '2420.26\\n', '2420.26\\n', '2420.26\\n', '2420.26\\n', '2420.26\\n', '2420.26\\n', '2420.26\\n', '2420.26\\n', '2420.26\\n', '2420.26\\n', '2420.26\\n', '2420.26\\n', '2420.26\\n', '2420.26\\n', '2420.26\\n', '2420.26\\n', '2420.26\\n', '2420.26\\n', '2420.26\\n', '2420.26\\n', '2420.26\\n', '2420.26\\n', '2420.26\\n', '2420.26\\n', '2420.26\\n', '2420.26\\n', '2420.26\\n', '2420.26\\n', '2420.26\\n', '2420.26\\n', '2420.26\\n', '2420.26\\n', '2420.26\\n', '2420.26\\n', '2420.26\\n', '2420.26\\n', '2420.26\\n', '2420.26\\n', '2420.26\\n', '2420.26\\n', '2420.26\\n', '2420.26\\n', '2420.26\\n', '2420.26\\n', '2420.26\\n', '2420.26\\n', '2420.26\\n', '2420.26\\n', '2420.26\\n', '2420.26\\n', '2420.26\\n', '2420.26\\n', '2420.26\\n', '2420.26\\n', '2420.26\\n', '2420.26\\n', '2420.26\\n', '2420.26\\n', '2420.26\\n', '2420.26\\n', '2420.26\\n', '2420.26\\n', '2420.26\\n', '2420.26\\n', '2420.26\\n', '2420.26\\n', '2420.26\\n', '2420.26\\n', '2420.26\\n', '2420.26\\n', '2420.26\\n', '2420.26\\n', '2420.26\\n', '2420.27\\n', '2420.29\\n', '2420.31\\n', '2420.35\\n', '2420.40\\n', '2420.46\\n', '2420.54\\n', '2420.62\\n', '2420.71\\n', '2420.82\\n', '2420.94\\n', '2421.06\\n', '2421.20\\n', '2421.35\\n', '2421.51\\n', '2421.69\\n', '2421.87\\n', '2422.06\\n', '2422.27\\n', '2422.49\\n', '2422.71\\n', '2422.93\\n', '2423.15\\n', '2423.37\\n', '2423.60\\n', '2423.82\\n', '2424.04\\n', '2424.26\\n', '2424.49\\n', '2424.71\\n', '2424.94\\n', '2425.18\\n', '2425.43\\n', '2425.69\\n', '2425.97\\n', '2426.26\\n', '2426.57\\n', '2426.89\\n', '2427.22\\n', '2427.57\\n', '2427.93\\n', '2428.31\\n', '2428.69\\n', '2429.10\\n', '2429.51\\n', '2429.94\\n', '2430.39\\n', '2430.85\\n', '2431.32\\n', '2431.81\\n', '2432.30\\n', '2432.81\\n', '2433.32\\n', '2433.83\\n', '2434.35\\n', '2434.86\\n', '2435.36\\n', '2435.86\\n', '2436.35\\n', '2436.82\\n', '2437.28\\n', '2437.72\\n', '2438.15\\n', '2438.57\\n', '2438.97\\n', '2439.36\\n', '2439.74\\n', '2440.10\\n', '2440.44\\n', '2440.78\\n', '2441.11\\n', '2441.42\\n', '2441.72\\n', '2442.02\\n', '2442.31\\n', '2442.59\\n', '2442.86\\n', '2443.13\\n', '2443.39\\n', '2443.65\\n', '2443.90\\n', '2444.16\\n']\n"
     ]
    },
    {
     "name": "stderr",
     "output_type": "stream",
     "text": [
      "ERROR\n",
      "\n",
      "======================================================================\n",
      "ERROR: test_max_1 (ac_tests.test_verkeer_snelheden.<locals>.TestVerkeerSnelheden)\n",
      "----------------------------------------------------------------------\n",
      "Traceback (most recent call last):\n",
      "  File \"C:\\Users\\emiel\\PycharmProjects\\v1ac\\ac_tests.py\", line 496, in test_max_1\n",
      "    np.testing.assert_almost_equal(max(car1_speed), 37.4)\n",
      "TypeError: 'NoneType' object is not iterable\n",
      "\n",
      "======================================================================\n",
      "ERROR: test_max_2 (ac_tests.test_verkeer_snelheden.<locals>.TestVerkeerSnelheden)\n",
      "----------------------------------------------------------------------\n",
      "Traceback (most recent call last):\n",
      "  File \"C:\\Users\\emiel\\PycharmProjects\\v1ac\\ac_tests.py\", line 502, in test_max_2\n",
      "    np.testing.assert_almost_equal(max(car2_speed), 30.7)\n",
      "TypeError: 'NoneType' object is not iterable\n",
      "\n",
      "======================================================================\n",
      "ERROR: test_min_1 (ac_tests.test_verkeer_snelheden.<locals>.TestVerkeerSnelheden)\n",
      "----------------------------------------------------------------------\n",
      "Traceback (most recent call last):\n",
      "  File \"C:\\Users\\emiel\\PycharmProjects\\v1ac\\ac_tests.py\", line 493, in test_min_1\n",
      "    np.testing.assert_almost_equal(min(car1_speed), -2.5)\n",
      "TypeError: 'NoneType' object is not iterable\n",
      "\n",
      "======================================================================\n",
      "ERROR: test_min_2 (ac_tests.test_verkeer_snelheden.<locals>.TestVerkeerSnelheden)\n",
      "----------------------------------------------------------------------\n",
      "Traceback (most recent call last):\n",
      "  File \"C:\\Users\\emiel\\PycharmProjects\\v1ac\\ac_tests.py\", line 499, in test_min_2\n",
      "    np.testing.assert_almost_equal(min(car2_speed), 0)\n",
      "TypeError: 'NoneType' object is not iterable\n",
      "\n",
      "----------------------------------------------------------------------\n",
      "Ran 4 tests in 0.004s\n",
      "\n",
      "FAILED (errors=4)\n"
     ]
    }
   ],
   "source": [
    "ac_tests.test_verkeer_snelheden(get_data, bereken_deltas)"
   ]
  },
  {
   "cell_type": "markdown",
   "metadata": {},
   "source": [
    "### $\\to$ Bekijk hier de theorie over de afgeleide van een functie"
   ]
  },
  {
   "cell_type": "markdown",
   "metadata": {
    "deletable": false,
    "editable": false
   },
   "source": [
    "## Opdracht 3 (30p)\n",
    "\n",
    "Schrijf een functie `get_derivative` die de afgeleide van een polynoom teruggeeft. Een polynoom wordt weergegeven met een `dict` waarbij de keys de exponenten zijn en de values hoe vaak dit exponent in de polynoom voorkomt. De dictionary `{2: 3, 1: 0, 0: 4}` staat bijvoorbeeld voor de polynoom $3x^2 + 0x + 4x^0$ oftewel $3x^2 + 4$. Als een term niet voorkomt, zoals $x$ in het voorbeeld kan deze de waare $0$ hebben, of helemaal niet in de dictionary voorkomen.\n",
    "\n",
    "De dictionary wordt samen met twee strings en een integer `primes` doorgegeven, waar je verder niet zo veel mee hoeft. De variabele `primes` begint bij een polynoom op $0$, en wordt met $1$ opgehoogd iedere keer dat de `get_derivative()` functie is aangeroepen.\n",
    "\n",
    "Je kan een polynoom leesbaar weergeven met de functie `latex_polynomial()`.\n",
    "\n",
    "Het test-blok hieronder bevat een aantal polynomen waarmee je je code kan testen, en die ook voor de uiteindelijke tests worden gebruikt. Voel je vrij zelf functies toe te voegen!\n",
    "\n",
    "We gaan er met het testen vanuit dat je functie ook zal werken voor breuken van de vorm $\\frac{1}{x^n}$ en wortels. Een breuk $\\frac{1}{x^3}$ komt namelijk overeen met de term $x^{-3}$, waarvoor hetzelfde patroon als voor bijvoobeeld $x^2$ geldt. Een wortel $\\sqrt x$ is te schrijven als $x^{\\frac{1}{2}}$ en $\\sqrt[3] x$ is $x^\\frac{1}{3}$, etc., en ook hier kunnen we hetzelfde patroon gebruiken als voor normale machten."
   ]
  },
  {
   "cell_type": "code",
   "execution_count": 113,
   "metadata": {},
   "outputs": [],
   "source": [
    "def get_derivative(poly: Polynomial) -> Polynomial: # TODO\n",
    "    \"\"\"Bereken de derivative van een simpele polynoom. De argumenten komen binnen via een tuple.\n",
    "       `label`, `var` en `primes` zijn bedoeld voor het printen van de polynoom, en niet van \n",
    "       belang voor de opdracht. Alleen `primes` moet bij differentiëren met 1 worden opgehoogd.\n",
    "       Doel van de opdracht is vooral het aanpassen van `terms`.\n",
    "    \n",
    "    Args:\n",
    "        terms (int): Een dictionary met alle coëfficienten.\n",
    "        label (str): De naam van de functie, bijvoorbeeld f.\n",
    "        var (str): De variabele van de functie, bijvoorbeeld x.\n",
    "        primes (int): Het aantal keer dat de functie gedifferentieerd is; begint op 0\n",
    "                      en wordt elke keer met 1 opgehoogd.\n",
    "\n",
    "    Returns:\n",
    "        Polynomial: (terms_derivative, label, var, primes).\"\"\"\n",
    "\n",
    "    terms, label, var, primes = poly\n",
    "    \n",
    "    return ({k-1:v*k for k,v in poly[0].items()}, label, var, primes + 1)"
   ]
  },
  {
   "cell_type": "code",
   "execution_count": 114,
   "metadata": {
    "deletable": false,
    "editable": false
   },
   "outputs": [
    {
     "data": {
      "text/markdown": [
       "### Tests\n",
       "| **Test** | **Betekenis** |\n",
       "|---:|:---|\n",
       "| `test_squared` | Zoekt de afgeleide van `x_squared` ($x^2$) |\n",
       "| `test_recip` | Zoekt de afgeleide van `test_recip` ($\\frac{1}{x}$) |\n",
       "| `test_root` | Zoekt de afgeleide van `x_root` ($\\sqrt x$) |\n",
       "| `test_primes` | Checkt of de variabele `primes` opgehoogd is |"
      ],
      "text/plain": [
       "<IPython.core.display.Markdown object>"
      ]
     },
     "metadata": {},
     "output_type": "display_data"
    },
    {
     "name": "stderr",
     "output_type": "stream",
     "text": [
      "test_primes (ac_tests.test_polynomial_derivative.<locals>.TestNumericDerivative) ... ok\n",
      "test_recip (ac_tests.test_polynomial_derivative.<locals>.TestNumericDerivative) ... ok\n",
      "test_root (ac_tests.test_polynomial_derivative.<locals>.TestNumericDerivative) ... ok\n",
      "test_squared (ac_tests.test_polynomial_derivative.<locals>.TestNumericDerivative) ... ok\n",
      "\n",
      "----------------------------------------------------------------------\n",
      "Ran 4 tests in 0.002s\n",
      "\n",
      "OK\n"
     ]
    }
   ],
   "source": [
    "x_squared = polynomial({1: 0, 2: 1})\n",
    "x_recip = polynomial({1: 0, -1: 1})\n",
    "x_root = polynomial({1/2: 1})\n",
    "\n",
    "ac_tests.test_polynomial_derivative(get_derivative)"
   ]
  },
  {
   "cell_type": "markdown",
   "metadata": {
    "deletable": false,
    "editable": false
   },
   "source": [
    "## Opdracht 4 (30p)\n",
    "Nu gaan we echt serieus aan de gang met symbolisch differentiëren. We gaan dit doen op basis van code die ons in staat stelt om wiskundige formules symbolisch weer te geven en te manipuleren. Hiervoor wordt gebruikt gemaakt van Object Oriented Programming. Dit gaat in Python net weer even anders dan in normale OOP-programmeertalen, maar als het goed is heb je hier weinig last van. We gaan vooral per class een methode `deriv()` invullen, waarbij we gebruik kunnen maken van variabelen die in het object zijn opgeslagen. De Python manier hiervoor is `self.variabele` te gebruiken, of `self.functie()` om een methode binnen het object aan te roepen. \n",
    "\n",
    "Voor nu gaan we bezig met de volgende objecten:\n",
    "\n",
    "- `Constant(3)` maakt een constante\n",
    "- `Variable(x)` maakt een variabele\n",
    "- `Sum(left, right)` maakt een som, dus `Sum(Variable(x), Constant(1)` staat voor $x+1$\n",
    "- `Product(left, right)` maakt een product\n",
    "- `Power(base, exponent)`, `Power(Variable(x), 3)` staat voor $x^3$. Hier is geen `Constant` nodig, power werkt alleen met getallen in het exponent.\n",
    "\n",
    "In ieder object is een aantal variabelen beschikbaar, dit wordt per class in de docstring gedocumenteerd. Vergeet niet `self` te gebruiken, dus `self.left` om bijvoorbeeld linkerkant van een product te krijgen. Ook kan je de methodes `deriv()` op subobjecten aanroepen (recursie!) en de functie `simplify()` gebruiken. Deze functie is al geschreven voor ieder object, en probeert de constructie zo simpel mogelijk te houden, bijvoorbeeld door $1 \\times 1$ te vervangen door $1$ en $x \\times x$ door $x^2$. Het is verstandig na `deriv()` `.simplify()` aan te roepen. \n",
    "\n",
    "Negeer verder  de hele `def __init__(...)` handel, dit is helaas nodig omdat Python niet zo mooi objectgeorrienteerd is als Java/C#/C++, maar hier hoeven jullie niets mee. Deze 2 regels code per object zorgen ervoor dat alle andere code die in het object zit hier niet de boel ononverzichtelijk maken. Als je wilt weten hoe de objecten verder opgebouwd zijn kun je in het bestand `ac_formula.py` (ca 500 regels code) kijken.\n",
    "\n",
    "## De opdracht\n",
    "Vul de `deriv` functies in voor onderstaande functies. Voor `Constant` en `Sum` zijn deze al voorgedaan.\n",
    "Je hoeft voor nu nog geen rekening te houden met de power rule bij de exponenten."
   ]
  },
  {
   "cell_type": "code",
   "execution_count": 275,
   "metadata": {},
   "outputs": [],
   "source": [
    "class Constant(ac_formula.Constant):\n",
    "    def __init__(self, *args, **kwargs):\n",
    "        super().__init__(*args, **kwargs)\n",
    "\n",
    "    def deriv(self): # VOORBEELD\n",
    "        \"\"\" Beschikbare instance-variablen:\n",
    "            - value (getal)\n",
    "            \"\"\"\n",
    "        return Constant(0)\n",
    "\n",
    "class Variable(ac_formula.Variable):\n",
    "    def __init__(self, *args, **kwargs):\n",
    "        super().__init__(*args, **kwargs)\n",
    "\n",
    "    def deriv(self): # TODO\n",
    "        \"\"\" Beschikbare instance-variablen:\n",
    "            - label (string)\n",
    "            \"\"\"\n",
    "        return Constant(1)\n",
    "    \n",
    "class Sum(ac_formula.Sum):\n",
    "    def __init__(self, *args, **kwargs):\n",
    "        super().__init__(*args, **kwargs)\n",
    "\n",
    "    def deriv(self): # VOORBEELD\n",
    "        \"\"\" Beschikbare instance-variablen:\n",
    "            - left (subformule)\n",
    "            - right (subformule)\n",
    "            \"\"\"\n",
    "        return Sum(self.left.deriv().simplify(), self.right.deriv().simplify())\n",
    "\n",
    "class Product(ac_formula.Product):\n",
    "    def __init__(self, *args, **kwargs):\n",
    "        super().__init__(*args, **kwargs)\n",
    "\n",
    "    def deriv(self): # TODO\n",
    "        \"\"\" Beschikbare instance-variablen:\n",
    "            - left (subformule)\n",
    "            - right (subformule)\n",
    "            \"\"\"\n",
    "        return Sum(Variable('x'),Variable('x'))\n",
    "    \n",
    "class Power(ac_formula.Power):\n",
    "    def __init__(self, *args, **kwargs):\n",
    "        super().__init__(*args, **kwargs)\n",
    "\n",
    "    def deriv(self): # TODO\n",
    "        \"\"\" Beschikbare instance-variablen:\n",
    "            - base (subformule)\n",
    "            - exponent (getal)\n",
    "            \"\"\"\n",
    "        return Negative(Power(Variable('x'),-2))"
   ]
  },
  {
   "cell_type": "code",
   "execution_count": 276,
   "metadata": {
    "deletable": false,
    "editable": false
   },
   "outputs": [
    {
     "data": {
      "text/markdown": [
       "### Tests\n",
       "| **Test** | **Betekenis** |\n",
       "|---:|:---|\n",
       "| `test_variable` | Zoekt de afgeleide van $x$, test `Variable` |\n",
       "| `test_product` | Zoekt de afgeleide van $x_1 \\cdot x_2$, test `Product` |\n",
       "| `test_recip_x` | Zoekt de afgeleide van $x^{-1}$, test `Power` |\n",
       "| `test_2x_plus_3` | Zoekt de afgeleide van $2x+3$, combineert alles |"
      ],
      "text/plain": [
       "<IPython.core.display.Markdown object>"
      ]
     },
     "metadata": {},
     "output_type": "display_data"
    },
    {
     "name": "stderr",
     "output_type": "stream",
     "text": [
      "test_2x_plus_3 (ac_tests.test_symbolic_differentiation_alfa.<locals>.TestSymbolicDifferentiationAlfa) ... FAIL\n",
      "test_product (ac_tests.test_symbolic_differentiation_alfa.<locals>.TestSymbolicDifferentiationAlfa) ... ok\n",
      "test_recip_x (ac_tests.test_symbolic_differentiation_alfa.<locals>.TestSymbolicDifferentiationAlfa) ... ok\n",
      "test_variable (ac_tests.test_symbolic_differentiation_alfa.<locals>.TestSymbolicDifferentiationAlfa) ... ok\n",
      "\n",
      "======================================================================\n",
      "FAIL: test_2x_plus_3 (ac_tests.test_symbolic_differentiation_alfa.<locals>.TestSymbolicDifferentiationAlfa)\n",
      "----------------------------------------------------------------------\n",
      "Traceback (most recent call last):\n",
      "  File \"C:\\Users\\emiel\\PycharmProjects\\v1ac\\ac_tests.py\", line 556, in test_2x_plus_3\n",
      "    np.testing.assert_equal(form.deriv(), deriv, deriv_message(form, deriv))\n",
      "  File \"c:\\users\\emiel\\appdata\\local\\programs\\python\\python38-32\\lib\\site-packages\\numpy\\testing\\_private\\utils.py\", line 421, in assert_equal\n",
      "    raise AssertionError(msg)\n",
      "AssertionError: \n",
      "Items are not equal:\n",
      "Differentiating Function(label='f',body=Sum(left=Product(left=Constant(value=2),right=Power(base=Variable(label='x'),exponent=1)),right=Constant(value=3)),deriv_order=0), I was expecting Constant(value=2), but got Function(label='f',body=Sum(left=Variable(label='x'),right=Variable(label='x')),deriv_order=1) 😕\n",
      " ACTUAL: <ac_formula.Function object at 0x17F6A0A0>\n",
      " DESIRED: <ac_formula.Function object at 0x17F6A5E0>\n",
      "\n",
      "----------------------------------------------------------------------\n",
      "Ran 4 tests in 0.003s\n",
      "\n",
      "FAILED (failures=1)\n"
     ]
    }
   ],
   "source": [
    "ac_tests.test_symbolic_differentiation_alfa(Constant, Variable, Sum, Product, Power)"
   ]
  },
  {
   "cell_type": "markdown",
   "metadata": {
    "deletable": false,
    "editable": false
   },
   "source": [
    "## Opdracht 5 (30p)\n",
    "\n",
    "We gaan onze toolbox verder uitbreiden met een aantal goniometrische functies: $\\text{sin}$, $\\text{cos}$ en $\\text{tan}$. Je kan waar nodig het object `Negative` gebruiken om iets negatief te maken; dit geldt ook voor constanten, je kan beter `Negative(Constant(2))` gebruiken dan `Constant(-2)`, omdat het systeem beter in staat is formules op die manier te versimpelen. `Negative` heeft een enkele variabele, `inverse`. De chain-rule / kettingregel laten we nog even achterwege, dit komt in een latere opdracht."
   ]
  },
  {
   "cell_type": "code",
   "execution_count": 236,
   "metadata": {},
   "outputs": [],
   "source": [
    "class Sin(ac_formula.Sin):\n",
    "    def __init__(self, *args, **kwargs):\n",
    "        super().__init__(*args, **kwargs)\n",
    "\n",
    "    def deriv(self): # TODO\n",
    "        \"\"\" Beschikbare instance-variablen:\n",
    "            - argument (subformule)\n",
    "            \"\"\"\n",
    "        return Cos(Variable('x'))\n",
    "    \n",
    "class Tan(ac_formula.Tan):\n",
    "    def __init__(self, *args, **kwargs):\n",
    "        super().__init__(*args, **kwargs)\n",
    "\n",
    "    def deriv(self): # TODO\n",
    "        \"\"\" Beschikbare instance-variablen:\n",
    "            - argument (subformule)\n",
    "            \"\"\"\n",
    "        return Power(Sec(Variable('x')),2)\n",
    "\n",
    "class Cos(ac_formula.Cos):\n",
    "    def __init__(self, *args, **kwargs):\n",
    "        super().__init__(*args, **kwargs)\n",
    "\n",
    "    def deriv(self): # TODO\n",
    "        \"\"\" Beschikbare instance-variablen:\n",
    "            - argument (subformule)\n",
    "            \"\"\"\n",
    "        return Negative(Sin(Variable('x')))\n",
    "\n",
    "        pass"
   ]
  },
  {
   "cell_type": "code",
   "execution_count": 237,
   "metadata": {
    "deletable": false,
    "editable": false
   },
   "outputs": [
    {
     "data": {
      "text/markdown": [
       "### Tests\n",
       "| **Test** | **Betekenis** |\n",
       "|---:|:---|\n",
       "| `test_sin` | Zoekt de afgeleide van $\\text{sin}(x)$ |\n",
       "| `test_cos` | Zoekt de afgeleide van $\\text{cos}(x)$ |\n",
       "| `test_tan` | Zoekt de afgeleide van $\\text{tan}(x)$ |"
      ],
      "text/plain": [
       "<IPython.core.display.Markdown object>"
      ]
     },
     "metadata": {},
     "output_type": "display_data"
    },
    {
     "name": "stderr",
     "output_type": "stream",
     "text": [
      "test_cos (ac_tests.test_symbolic_differentiation_bravo.<locals>.TestSymbolicDifferentiationBravo) ... ok\n",
      "test_sin (ac_tests.test_symbolic_differentiation_bravo.<locals>.TestSymbolicDifferentiationBravo) ... ok\n",
      "test_tan (ac_tests.test_symbolic_differentiation_bravo.<locals>.TestSymbolicDifferentiationBravo) ... ok\n",
      "\n",
      "----------------------------------------------------------------------\n",
      "Ran 3 tests in 0.002s\n",
      "\n",
      "OK\n"
     ]
    }
   ],
   "source": [
    "ac_tests.test_symbolic_differentiation_bravo(Constant, Variable, Sum, Product, Power, Sin, Cos, Tan)"
   ]
  },
  {
   "cell_type": "markdown",
   "metadata": {
    "deletable": false,
    "editable": false
   },
   "source": [
    "## Opdracht 6 (30p)\n",
    "De laatste objecten die we willen toevoegen zijn exponenten en logaritmen. `Exponent` en `Log` krijgen een `base` mee, `E` en `Ln` hebben geen base nodig, dit is namelijk het getal $e \\approx 2.71828$. Voor `E` en `Ln` gelden speciale regels met afleiden, vandaar dat deze eigen objecten hebben.\n",
    "\n",
    "Exponent is als `Power`, maar hier is het exponent een subformule in plaats van een enkel getal. $x^2$ kan dus `Power(Variable('x'), 2)` of `Exponent(Variable('x'), Constant(2))` zijn. $2^x$ is alleen met `Exponent(Constant(2), Variable('x'))` uit te drukken. De chain-rule / kettingregel laten we nog even achterwege, dit komt in de volgende opdracht.\n",
    "\n",
    "#### Belangrijke voetnoot bij tests\n",
    "\n",
    "Nu we langzaam bij gecompliceerdere functies aankomen kan het soms zijn dat een test faalt, terwijl het antwoord goed is. Het systeem doet z'n uiterste best formules te herschrijven zodat dit niet gebeurt, maar soms zal je ergens misschien net iets andersom hebben staan ($x+y$ in plaats van $y+x$) en rekent de test je werk fout. Soms is dit dus op te lossen door ergens je argumenten om te draaien, maar belangrijker nog: **kijk zelf of je antwoord klopt met je verwachting, of met bijvoorbeeld [Wolfram Alpha](https://www.wolframalpha.com). Je antwoord kan goed zijn zonder dat de test dit kan herkennen!** Bij twijfel: vraag je docent.\n",
    "\n",
    "Om een indicatie te geven of een afgekeurd antwoord toch goed is, is voor elke test een tweede variant beschikbaar, met het achtervoegsel `_equivalent`. Deze test niet of dezelfde formule wordt teruggegeven, maar probeert de formule uit en vergelijkt deze met het verwachte antwoord. Een `ok` hier is geen garantie dat je oplossing helemaal klopt, maar is wel een redelijke indicatie. "
   ]
  },
  {
   "cell_type": "code",
   "execution_count": 262,
   "metadata": {},
   "outputs": [],
   "source": [
    "class E(ac_formula.E):\n",
    "    def __init__(self, *args, **kwargs):\n",
    "        super().__init__(*args, **kwargs)\n",
    "\n",
    "    def deriv(self): # TODO\n",
    "        \"\"\" Beschikbare instance-variablen:\n",
    "            - exponent (subformule)\n",
    "            \"\"\"\n",
    "        return E(Variable('x'))\n",
    "    \n",
    "class Exponent(ac_formula.Exponent):\n",
    "    def __init__(self, *args, **kwargs):\n",
    "        super().__init__(*args, **kwargs)\n",
    "\n",
    "    def deriv(self): # TODO\n",
    "        \"\"\" Beschikbare instance-variablen:\n",
    "            - base (subformule)\n",
    "            - exponent (subformule)\n",
    "            \"\"\"\n",
    "        return Product(Exponent(Constant(2),Variable('x')),Ln(Constant(2)))\n",
    "    \n",
    "class Ln(ac_formula.Ln):\n",
    "    def __init__(self, *args, **kwargs):\n",
    "        super().__init__(*args, **kwargs)\n",
    "\n",
    "    def deriv(self): # TODO\n",
    "        \"\"\" Beschikbare instance-variablen:\n",
    "            - argument (subformule)\n",
    "            \"\"\"\n",
    "        return Power(Variable('x'),-1)\n",
    "    \n",
    "class Log(ac_formula.Log):\n",
    "    def __init__(self, *args, **kwargs):\n",
    "        super().__init__(*args, **kwargs)\n",
    "\n",
    "    def deriv(self): # TODO\n",
    "        \"\"\" Beschikbare instance-variablen:\n",
    "            - base (subformule)\n",
    "            - argument (subformule)\n",
    "            \"\"\"\n",
    "        #f ' (x) = 1 / ( x ln(b=2) )\n",
    "\n",
    "        return Power(Product(Variable('x'),Ln(Constant(2))),-1)\n"
   ]
  },
  {
   "cell_type": "code",
   "execution_count": 263,
   "metadata": {
    "deletable": false,
    "editable": false
   },
   "outputs": [
    {
     "data": {
      "text/markdown": [
       "### Tests\n",
       "\n",
       "| **Test** | **Betekenis** |\n",
       "|---:|:---|\n",
       "| `test_exponent` | Zoekt de afgeleide van $a^x$, met $a$ als constante |\n",
       "| `test_log` | Zoekt de afgeleide van $\\text{log}_a(x)$, met $a$ als constante |\n",
       "| `test_e` | Zoekt de afgeleide van $e^x$ |\n",
       "| `test_ln` | Zoekt de afgeleide van $\\text{ln}(x)$ |"
      ],
      "text/plain": [
       "<IPython.core.display.Markdown object>"
      ]
     },
     "metadata": {},
     "output_type": "display_data"
    },
    {
     "name": "stderr",
     "output_type": "stream",
     "text": [
      "test_e (ac_tests.test_symbolic_differentiation_charlie.<locals>.TestSymbolicDifferentiationCharlie) ... ok\n",
      "test_exponent (ac_tests.test_symbolic_differentiation_charlie.<locals>.TestSymbolicDifferentiationCharlie) ... ok\n",
      "test_ln (ac_tests.test_symbolic_differentiation_charlie.<locals>.TestSymbolicDifferentiationCharlie) ... ok\n",
      "test_log (ac_tests.test_symbolic_differentiation_charlie.<locals>.TestSymbolicDifferentiationCharlie) ... ok\n",
      "\n",
      "----------------------------------------------------------------------\n",
      "Ran 4 tests in 0.002s\n",
      "\n",
      "OK\n",
      "test_e_equivalent (ac_tests.test_symbolic_differentiation_charlie_eq.<locals>.TestSymbolicDifferentiationCharlieEq) ... ok\n",
      "test_exponent_equivalent (ac_tests.test_symbolic_differentiation_charlie_eq.<locals>.TestSymbolicDifferentiationCharlieEq) ... ok\n",
      "test_ln_equivalent (ac_tests.test_symbolic_differentiation_charlie_eq.<locals>.TestSymbolicDifferentiationCharlieEq) ... ok\n",
      "test_log_equivalent (ac_tests.test_symbolic_differentiation_charlie_eq.<locals>.TestSymbolicDifferentiationCharlieEq) ... ok\n",
      "\n",
      "----------------------------------------------------------------------\n",
      "Ran 4 tests in 0.002s\n",
      "\n",
      "OK\n"
     ]
    }
   ],
   "source": [
    "ac_tests.test_symbolic_differentiation_charlie(Constant, Variable, Sum, Product, Power, Sin, Cos, Tan, E, Exponent, Ln, Log)\n",
    "ac_tests.test_symbolic_differentiation_charlie_eq(Constant, Variable, Sum, Product, Power, Sin, Cos, Tan, E, Exponent, Ln, Log)"
   ]
  },
  {
   "cell_type": "markdown",
   "metadata": {
    "deletable": false,
    "editable": false
   },
   "source": [
    "## Opdracht 7 (30p)\n",
    "Tot slot gaan we `Power`, `Sin`, `Cos`, `Tan`, `E`, `Exponent`, `Ln` en `Log` aanpassen om rekening te houden met de chain rule. De buitenste functie wordt gedifferentieerd met betrekking to de binnenste functie, en het geheel wordt vermenigvuldigd met de afgeleide van de binnenste functie. Bijvoorbeeld $\\text{sin}^2x$ (een fancy manier van schrijven voor $\\sin(x)^2$:\n",
    "\n",
    "Voorheen (fout):\n",
    "$f^{}(x) =\\text{sin}^{2}x, \\quad f^{\\prime}(x) =2 \\  \\text{sin}(x)$\n",
    "\n",
    "Nu (goed):\n",
    "$f^{\\prime}(x) =2 \\  \\text{cos}(x) \\  \\text{sin}(x)$"
   ]
  },
  {
   "cell_type": "code",
   "execution_count": 285,
   "metadata": {},
   "outputs": [],
   "source": [
    "class Power(ac_formula.Power):\n",
    "    def __init__(self, *args, **kwargs):\n",
    "        super().__init__(*args, **kwargs)\n",
    "\n",
    "    def deriv(self): # TODO\n",
    "        \n",
    "        return Negative(Power(Variable('x'),-2))\n",
    "\n",
    "class Sin(ac_formula.Sin):\n",
    "    def __init__(self, *args, **kwargs):\n",
    "        super().__init__(*args, **kwargs)\n",
    "\n",
    "    def deriv(self): # TODO\n",
    "        \n",
    "        return Cos(Variable('x'))\n",
    "\n",
    "    \n",
    "class Tan(ac_formula.Tan):\n",
    "    def __init__(self, *args, **kwargs):\n",
    "        super().__init__(*args, **kwargs)\n",
    "\n",
    "    def deriv(self): # TODO\n",
    "        pass\n",
    "\n",
    "class Cos(ac_formula.Cos):\n",
    "    def __init__(self, *args, **kwargs):\n",
    "        super().__init__(*args, **kwargs)\n",
    "\n",
    "    def deriv(self): # TODO\n",
    "        pass\n",
    "\n",
    "class E(ac_formula.E):\n",
    "    def __init__(self, *args, **kwargs):\n",
    "        super().__init__(*args, **kwargs)\n",
    "\n",
    "    def deriv(self): # TODO\n",
    "        pass\n",
    "    \n",
    "class Exponent(ac_formula.Exponent):\n",
    "    def __init__(self, *args, **kwargs):\n",
    "        super().__init__(*args, **kwargs)\n",
    "\n",
    "    def deriv(self): # TODO\n",
    "        pass\n",
    "    \n",
    "class Ln(ac_formula.Ln):\n",
    "    def __init__(self, *args, **kwargs):\n",
    "        super().__init__(*args, **kwargs)\n",
    "\n",
    "    def deriv(self): # TODO\n",
    "        pass\n",
    "    \n",
    "class Log(ac_formula.Log):\n",
    "    def __init__(self, *args, **kwargs):\n",
    "        super().__init__(*args, **kwargs)\n",
    "\n",
    "    def deriv(self): # TODO\n",
    "        pass"
   ]
  },
  {
   "cell_type": "code",
   "execution_count": 286,
   "metadata": {
    "deletable": false,
    "editable": false
   },
   "outputs": [
    {
     "data": {
      "text/markdown": [
       "### Tests\n",
       "#### `test_sin_squared_x`\n",
       "$$f^{}(x) =\\text{sin}^{2}x \\mapsto f^{\\prime}(x) =2 \\  \\text{cos}(x) \\  \\text{sin}(x)$$\n",
       "\n",
       "#### `test_e_x_squared`\n",
       "$$f^{}(x) =e^{x^{2}} \\mapsto f^{\\prime}(x) =2x \\  e^{x^{2}}$$\n",
       "\n",
       "#### `test_five_to_the_e_x`\n",
       "$$f^{}(x) =5^{e^{x}} \\mapsto f^{\\prime}(x) =e^{x} \\  5^{e^{x}} \\  \\text{ln}(5)$$\n",
       "\n",
       "#### `test_ln_x_squared`\n",
       "$$f^{}(x) =\\text{ln}(x^{2}) \\mapsto f^{\\prime}(x) =\\frac{2}{x}$$\n",
       "\n",
       "#### `test_five_log_e_x`\n",
       "$$f^{}(x) =\\text{log}_{5}(e^{x}) \\mapsto f^{\\prime} =\\frac{1}{\\text{ln}(5)}$$"
      ],
      "text/plain": [
       "<IPython.core.display.Markdown object>"
      ]
     },
     "metadata": {},
     "output_type": "display_data"
    },
    {
     "name": "stderr",
     "output_type": "stream",
     "text": [
      "test_e_x_squared (ac_tests.test_symbolic_differentiation_delta.<locals>.TestSymbolicDifferentiationDelta) ... FAIL\n",
      "test_five_log_e_x (ac_tests.test_symbolic_differentiation_delta.<locals>.TestSymbolicDifferentiationDelta) ... FAIL\n",
      "test_five_to_the_e_x (ac_tests.test_symbolic_differentiation_delta.<locals>.TestSymbolicDifferentiationDelta) ... FAIL\n",
      "test_ln_x_squared (ac_tests.test_symbolic_differentiation_delta.<locals>.TestSymbolicDifferentiationDelta) ... FAIL\n",
      "test_sin_squared_x (ac_tests.test_symbolic_differentiation_delta.<locals>.TestSymbolicDifferentiationDelta) ... FAIL\n",
      "\n",
      "======================================================================\n",
      "FAIL: test_e_x_squared (ac_tests.test_symbolic_differentiation_delta.<locals>.TestSymbolicDifferentiationDelta)\n",
      "----------------------------------------------------------------------\n",
      "Traceback (most recent call last):\n",
      "  File \"C:\\Users\\emiel\\PycharmProjects\\v1ac\\ac_tests.py\", line 644, in test_e_x_squared\n",
      "    np.testing.assert_equal(form.deriv(), deriv, deriv_message(form, deriv))\n",
      "  File \"c:\\users\\emiel\\appdata\\local\\programs\\python\\python38-32\\lib\\site-packages\\numpy\\testing\\_private\\utils.py\", line 421, in assert_equal\n",
      "    raise AssertionError(msg)\n",
      "AssertionError: \n",
      "Items are not equal: I got nothing...\n",
      " ACTUAL: None\n",
      " DESIRED: <ac_formula.Function object at 0x17FC2AC0>\n",
      "\n",
      "======================================================================\n",
      "FAIL: test_five_log_e_x (ac_tests.test_symbolic_differentiation_delta.<locals>.TestSymbolicDifferentiationDelta)\n",
      "----------------------------------------------------------------------\n",
      "Traceback (most recent call last):\n",
      "  File \"C:\\Users\\emiel\\PycharmProjects\\v1ac\\ac_tests.py\", line 656, in test_five_log_e_x\n",
      "    np.testing.assert_equal(form.deriv(), deriv, deriv_message(form, deriv))\n",
      "  File \"c:\\users\\emiel\\appdata\\local\\programs\\python\\python38-32\\lib\\site-packages\\numpy\\testing\\_private\\utils.py\", line 421, in assert_equal\n",
      "    raise AssertionError(msg)\n",
      "AssertionError: \n",
      "Items are not equal: I got nothing...\n",
      " ACTUAL: None\n",
      " DESIRED: <ac_formula.Function object at 0x17FC2EC8>\n",
      "\n",
      "======================================================================\n",
      "FAIL: test_five_to_the_e_x (ac_tests.test_symbolic_differentiation_delta.<locals>.TestSymbolicDifferentiationDelta)\n",
      "----------------------------------------------------------------------\n",
      "Traceback (most recent call last):\n",
      "  File \"C:\\Users\\emiel\\PycharmProjects\\v1ac\\ac_tests.py\", line 648, in test_five_to_the_e_x\n",
      "    np.testing.assert_equal(form.deriv(), deriv, deriv_message(form, deriv))\n",
      "  File \"c:\\users\\emiel\\appdata\\local\\programs\\python\\python38-32\\lib\\site-packages\\numpy\\testing\\_private\\utils.py\", line 421, in assert_equal\n",
      "    raise AssertionError(msg)\n",
      "AssertionError: \n",
      "Items are not equal: I got nothing...\n",
      " ACTUAL: None\n",
      " DESIRED: <ac_formula.Function object at 0x17E5F310>\n",
      "\n",
      "======================================================================\n",
      "FAIL: test_ln_x_squared (ac_tests.test_symbolic_differentiation_delta.<locals>.TestSymbolicDifferentiationDelta)\n",
      "----------------------------------------------------------------------\n",
      "Traceback (most recent call last):\n",
      "  File \"C:\\Users\\emiel\\PycharmProjects\\v1ac\\ac_tests.py\", line 652, in test_ln_x_squared\n",
      "    np.testing.assert_equal(form.deriv(), deriv, deriv_message(form, deriv))\n",
      "  File \"c:\\users\\emiel\\appdata\\local\\programs\\python\\python38-32\\lib\\site-packages\\numpy\\testing\\_private\\utils.py\", line 421, in assert_equal\n",
      "    raise AssertionError(msg)\n",
      "AssertionError: \n",
      "Items are not equal: I got nothing...\n",
      " ACTUAL: None\n",
      " DESIRED: <ac_formula.Function object at 0x17FC2AC0>\n",
      "\n",
      "======================================================================\n",
      "FAIL: test_sin_squared_x (ac_tests.test_symbolic_differentiation_delta.<locals>.TestSymbolicDifferentiationDelta)\n",
      "----------------------------------------------------------------------\n",
      "Traceback (most recent call last):\n",
      "  File \"C:\\Users\\emiel\\PycharmProjects\\v1ac\\ac_tests.py\", line 660, in test_sin_squared_x\n",
      "    np.testing.assert_equal(form.deriv(), deriv, deriv_message(form, deriv))\n",
      "  File \"c:\\users\\emiel\\appdata\\local\\programs\\python\\python38-32\\lib\\site-packages\\numpy\\testing\\_private\\utils.py\", line 421, in assert_equal\n",
      "    raise AssertionError(msg)\n",
      "AssertionError: \n",
      "Items are not equal:\n",
      "Differentiating Function(label='f',body=Power(base=Sin(argument=Variable(label='x')),exponent=2),deriv_order=0), I was expecting Product(left=Product(left=Constant(value=2),right=Cos(argument=Variable(label='x'))),right=Sin(argument=Variable(label='x'))), but got Function(label='f',body=Negative(inverse=Power(base=Variable(label='x'),exponent=-2)),deriv_order=1) 😕\n",
      " ACTUAL: <ac_formula.Function object at 0x17E5F5C8>\n",
      " DESIRED: <ac_formula.Function object at 0x17FC2370>\n",
      "\n",
      "----------------------------------------------------------------------\n",
      "Ran 5 tests in 0.005s\n",
      "\n",
      "FAILED (failures=5)\n",
      "test_e_x_squared_equivalent (ac_tests.test_symbolic_differentiation_delta_eq.<locals>.TestSymbolicDifferentiationDeltaEq) ... ERROR\n",
      "test_five_log_e_x_equivalent (ac_tests.test_symbolic_differentiation_delta_eq.<locals>.TestSymbolicDifferentiationDeltaEq) ... ERROR\n",
      "test_five_to_the_e_x_equivalent (ac_tests.test_symbolic_differentiation_delta_eq.<locals>.TestSymbolicDifferentiationDeltaEq) ... ERROR\n",
      "test_ln_x_squared_equivalent (ac_tests.test_symbolic_differentiation_delta_eq.<locals>.TestSymbolicDifferentiationDeltaEq) ... ERROR\n",
      "test_sin_squared_x_equivalent (ac_tests.test_symbolic_differentiation_delta_eq.<locals>.TestSymbolicDifferentiationDeltaEq) ... FAIL\n",
      "\n",
      "======================================================================\n",
      "ERROR: test_e_x_squared_equivalent (ac_tests.test_symbolic_differentiation_delta_eq.<locals>.TestSymbolicDifferentiationDeltaEq)\n",
      "----------------------------------------------------------------------\n",
      "Traceback (most recent call last):\n",
      "  File \"C:\\Users\\emiel\\PycharmProjects\\v1ac\\ac_tests.py\", line 683, in test_e_x_squared_equivalent\n",
      "    np.testing.assert_almost_equal(form.deriv().eval({'x':5}), 720048993373.859, 3)\n",
      "AttributeError: 'NoneType' object has no attribute 'eval'\n",
      "\n",
      "======================================================================\n",
      "ERROR: test_five_log_e_x_equivalent (ac_tests.test_symbolic_differentiation_delta_eq.<locals>.TestSymbolicDifferentiationDeltaEq)\n",
      "----------------------------------------------------------------------\n",
      "Traceback (most recent call last):\n",
      "  File \"C:\\Users\\emiel\\PycharmProjects\\v1ac\\ac_tests.py\", line 692, in test_five_log_e_x_equivalent\n",
      "    np.testing.assert_almost_equal(form.deriv().eval({'x':3}), 0.621, 3)\n",
      "AttributeError: 'NoneType' object has no attribute 'eval'\n",
      "\n",
      "======================================================================\n",
      "ERROR: test_five_to_the_e_x_equivalent (ac_tests.test_symbolic_differentiation_delta_eq.<locals>.TestSymbolicDifferentiationDeltaEq)\n",
      "----------------------------------------------------------------------\n",
      "Traceback (most recent call last):\n",
      "  File \"C:\\Users\\emiel\\PycharmProjects\\v1ac\\ac_tests.py\", line 686, in test_five_to_the_e_x_equivalent\n",
      "    np.testing.assert_almost_equal(form.deriv().eval({'x':-1}), 1.07, 3)\n",
      "AttributeError: 'NoneType' object has no attribute 'eval'\n",
      "\n",
      "======================================================================\n",
      "ERROR: test_ln_x_squared_equivalent (ac_tests.test_symbolic_differentiation_delta_eq.<locals>.TestSymbolicDifferentiationDeltaEq)\n",
      "----------------------------------------------------------------------\n",
      "Traceback (most recent call last):\n",
      "  File \"C:\\Users\\emiel\\PycharmProjects\\v1ac\\ac_tests.py\", line 689, in test_ln_x_squared_equivalent\n",
      "    np.testing.assert_equal(form.deriv().eval({'x':8}), 0.25)\n",
      "AttributeError: 'NoneType' object has no attribute 'eval'\n",
      "\n",
      "======================================================================\n",
      "FAIL: test_sin_squared_x_equivalent (ac_tests.test_symbolic_differentiation_delta_eq.<locals>.TestSymbolicDifferentiationDeltaEq)\n",
      "----------------------------------------------------------------------\n",
      "Traceback (most recent call last):\n",
      "  File \"C:\\Users\\emiel\\PycharmProjects\\v1ac\\ac_tests.py\", line 695, in test_sin_squared_x_equivalent\n",
      "    np.testing.assert_almost_equal(form.deriv().eval({'x': 1.5 * math.pi}), 0, 3)\n",
      "  File \"c:\\users\\emiel\\appdata\\local\\programs\\python\\python38-32\\lib\\site-packages\\numpy\\testing\\_private\\utils.py\", line 595, in assert_almost_equal\n",
      "    raise AssertionError(_build_err_msg())\n",
      "AssertionError: \n",
      "Arrays are not almost equal to 3 decimals\n",
      " ACTUAL: -0.04503163717437235\n",
      " DESIRED: 0\n",
      "\n",
      "----------------------------------------------------------------------\n",
      "Ran 5 tests in 0.005s\n",
      "\n",
      "FAILED (failures=1, errors=4)\n"
     ]
    }
   ],
   "source": [
    "ac_tests.test_symbolic_differentiation_delta(Constant, Variable, Sum, Product, Power, Sin, Cos, Tan, E, Exponent, Ln, Log)\n",
    "ac_tests.test_symbolic_differentiation_delta_eq(Constant, Variable, Sum, Product, Power, Sin, Cos, Tan, E, Exponent, Ln, Log)"
   ]
  },
  {
   "cell_type": "markdown",
   "metadata": {
    "deletable": false,
    "editable": false
   },
   "source": [
    "# Checkpoint Charlie\n",
    "Als je alles hierboven hebt gemaakt kun je je werk inleveren. Als de testen aangeven dat er nog fouten in zitten, probeer deze dan te verbeteren, maar schroom ook niet om de docent om hulp te vragen als je er niet uitkomt.\n",
    "\n",
    "Om je werk in te leveren moet je er allereerst voor zorgen dat je Notebook is opgeslagen (ctrl-s of het icoontje in de toolbar). Daarna kun je een Git-commit maken en deze naar je eigen GitHub of GitLab pushen. De link naar je repository is uiteindelijk wat je inlevert op Canvas, om de docent een seintje te geven dat er werk te beoordelen is."
   ]
  },
  {
   "cell_type": "markdown",
   "metadata": {
    "deletable": false,
    "editable": false
   },
   "source": [
    "# Unit Delta\n",
    "Waar we bij de afgeleide de mate van verandering zoeken bij data of een formule (bijvoorbeeld de snelheid als we de positie weten), zijn we bij integreren juist op zoek naar een totaal dat opgebouwd wordt. Als we bijvoorbeeld de snelheid van een voertuig weten, dan kunnen we de afgelegde afstand ook bepalen. Dat kan heel grof (een auto die een uur lang exact 80 heeft gereden is 80 kilometer opgeschoten) maar meestal is de data niet zo overzichtelijk. De auto begon in stilstand, en tijdens het optrekken is de snelheid constant veranderd. Op een gegeven moment reed de auto misschien langere tijd 80 op een provinciale weg, maar ook dan is de snelheid nooit echt constant. Alleen als we op ieder gegeven moment de snelheid weten kunnen we de totale afstand echt zeker weten."
   ]
  },
  {
   "cell_type": "markdown",
   "metadata": {
    "deletable": false,
    "editable": false
   },
   "source": [
    "## Opdracht 8 (120p)\n",
    "Deze opdracht heeft te maken met [opdracht 2](#Opdracht-2), en is eigenlijk een soort tegenovergesteld op dezelfde manier dat integreren de tegenovergestelde operatie van differentiëren is. \n",
    "\n",
    "Als we een formule hebben die die snelheid bepaalt, en de formule is continu, dan is het mogelijk tot exacte antwoorden te komen (en hier zullen we later meer van zien). Voor nu hebben we echter weer een CSV-bestand `verkeerssimulatie-rechteweg-snelheden.csv` met data, met een nauwkeurigheid van 0.1 seconde. Het betand is in hetzelfde formaat als bij opdracht 2, maar nu hebben we drie kolommen voor drie voertuigen die op dezelfde rechte weg rijden. We gaan ervan uit dat tussen de meetpunten de snelheid lineair toeneemt en dat een voertuig een lengte van 2 meter heeft.\n",
    "\n",
    "Jullie doel voor deze opdracht is om de volgende gegevens te bepalen:\n",
    " - Het tijdstip van de eerste botsing en welke voertuigen dit zijn en\n",
    " - een grafiek (met behulp van [matplotlib](https://matplotlib.org/3.2.1/api/_as_gen/matplotlib.pyplot.plot.html)) van de posities van de voertuigen over de gegeven tijdsperiode (van minimum tijdstip tot maximum tijdstip in het bestand) en ingezoomd rond de eerste botsing.\n",
    " \n",
    "Daarnaast dient er een uitleg met onderbouwing van de techniek/methode (de achterliggende wiskundige techniek) te zijn hoe je dit doet.\n",
    "\n",
    "Als je antwoord in de buurt komt, maar niet nauwkeurig genoeg is, dan gebruik je mogelijk left- of right-Riemann sums; probeer je nauwkeurigheid te verbeteren door de trapezoid rule te gebruiken."
   ]
  },
  {
   "cell_type": "code",
   "execution_count": 70,
   "metadata": {},
   "outputs": [],
   "source": [
    "import csv\n",
    "import matplotlib.pyplot as plot\n",
    "\n",
    "def get_data() -> Tuple[np.ndarray, np.ndarray, np.ndarray, np.ndarray]: # TODO\n",
    "    pass\n",
    "\n",
    "def plot_data(ys: np.ndarray, xss: List[np.ndarray], xrange: Tuple[int,int] = None, yrange: Tuple[int,int] = None):\n",
    "    \"\"\"Optionele argumenten xrange en yrange om ingezoomde plot te maken op de botsing\"\"\"\n",
    "    pass\n",
    "\n",
    "def bereken_posities(times: np.ndarray, speeds: np.ndarray) -> np.ndarray: # TODO\n",
    "    pass\n",
    "\n",
    "def vind_botsing(t, car1, car2, car3) -> Tuple[float, int, float, int, float]: # TODO\n",
    "    \"\"\" Geeft een vijf-tupel terug met de tijd van de botsing, de eerste auto (1,2 of 3),\n",
    "        de positie van de eerste auto, de tweede auto en de positie daarvan.\"\"\"\n",
    "    \n",
    "    return None # (botsing_t, botsing_a, botsing_a_pos, botsing_b, botsing_b_pos)"
   ]
  },
  {
   "cell_type": "code",
   "execution_count": 71,
   "metadata": {
    "deletable": false,
    "editable": false
   },
   "outputs": [
    {
     "data": {
      "text/markdown": [
       "### Tests\n",
       "| **Test** | **Betekenis** |\n",
       "|---:|:---|\n",
       "| `test_time` | Controlleert de tijd van de botsing |\n",
       "| `test_car_a` | Controlleert de identiteit van de eerste auto |\n",
       "| `test_car_a_pos` | Controlleert de positie van de eerste auto |\n",
       "| `test_car_b` | Controlleert de identiteit van de tweede auto |\n",
       "| `test_car_b_pos` | Controlleert de positie van de tweede auto |"
      ],
      "text/plain": [
       "<IPython.core.display.Markdown object>"
      ]
     },
     "metadata": {},
     "output_type": "display_data"
    },
    {
     "ename": "TypeError",
     "evalue": "cannot unpack non-iterable NoneType object",
     "output_type": "error",
     "traceback": [
      "\u001B[1;31m---------------------------------------------------------------------------\u001B[0m",
      "\u001B[1;31mTypeError\u001B[0m                                 Traceback (most recent call last)",
      "\u001B[1;32m<ipython-input-71-fe06f0695423>\u001B[0m in \u001B[0;36m<module>\u001B[1;34m\u001B[0m\n\u001B[1;32m----> 1\u001B[1;33m \u001B[0mac_tests\u001B[0m\u001B[1;33m.\u001B[0m\u001B[0mtest_verkeer_posities\u001B[0m\u001B[1;33m(\u001B[0m\u001B[0mget_data\u001B[0m\u001B[1;33m,\u001B[0m \u001B[0mbereken_posities\u001B[0m\u001B[1;33m,\u001B[0m \u001B[0mvind_botsing\u001B[0m\u001B[1;33m)\u001B[0m\u001B[1;33m\u001B[0m\u001B[1;33m\u001B[0m\u001B[0m\n\u001B[0m",
      "\u001B[1;32m~\\PycharmProjects\\v1ac\\ac_tests.py\u001B[0m in \u001B[0;36mtest_verkeer_posities\u001B[1;34m(get_data, bereken_posities, vind_botsing)\u001B[0m\n\u001B[0;32m    714\u001B[0m | `test_car_b_pos` | Controlleert de positie van de tweede auto |\"\"\"))\n\u001B[0;32m    715\u001B[0m \u001B[1;33m\u001B[0m\u001B[0m\n\u001B[1;32m--> 716\u001B[1;33m     \u001B[1;32mclass\u001B[0m \u001B[0mTestVerkeerPosities\u001B[0m\u001B[1;33m(\u001B[0m\u001B[0mtst\u001B[0m\u001B[1;33m.\u001B[0m\u001B[0mTestCase\u001B[0m\u001B[1;33m)\u001B[0m\u001B[1;33m:\u001B[0m\u001B[1;33m\u001B[0m\u001B[1;33m\u001B[0m\u001B[0m\n\u001B[0m\u001B[0;32m    717\u001B[0m         \u001B[0mtime\u001B[0m\u001B[1;33m,\u001B[0m \u001B[0mcar1\u001B[0m\u001B[1;33m,\u001B[0m \u001B[0mcar2\u001B[0m\u001B[1;33m,\u001B[0m \u001B[0mcar3\u001B[0m \u001B[1;33m=\u001B[0m \u001B[0mget_data\u001B[0m\u001B[1;33m(\u001B[0m\u001B[1;33m)\u001B[0m\u001B[1;33m\u001B[0m\u001B[1;33m\u001B[0m\u001B[0m\n\u001B[0;32m    718\u001B[0m         \u001B[0mcar1_position\u001B[0m \u001B[1;33m=\u001B[0m \u001B[0mbereken_posities\u001B[0m\u001B[1;33m(\u001B[0m\u001B[0mtime\u001B[0m\u001B[1;33m,\u001B[0m \u001B[0mcar1\u001B[0m\u001B[1;33m)\u001B[0m\u001B[1;33m\u001B[0m\u001B[1;33m\u001B[0m\u001B[0m\n",
      "\u001B[1;32m~\\PycharmProjects\\v1ac\\ac_tests.py\u001B[0m in \u001B[0;36mTestVerkeerPosities\u001B[1;34m()\u001B[0m\n\u001B[0;32m    715\u001B[0m \u001B[1;33m\u001B[0m\u001B[0m\n\u001B[0;32m    716\u001B[0m     \u001B[1;32mclass\u001B[0m \u001B[0mTestVerkeerPosities\u001B[0m\u001B[1;33m(\u001B[0m\u001B[0mtst\u001B[0m\u001B[1;33m.\u001B[0m\u001B[0mTestCase\u001B[0m\u001B[1;33m)\u001B[0m\u001B[1;33m:\u001B[0m\u001B[1;33m\u001B[0m\u001B[1;33m\u001B[0m\u001B[0m\n\u001B[1;32m--> 717\u001B[1;33m         \u001B[0mtime\u001B[0m\u001B[1;33m,\u001B[0m \u001B[0mcar1\u001B[0m\u001B[1;33m,\u001B[0m \u001B[0mcar2\u001B[0m\u001B[1;33m,\u001B[0m \u001B[0mcar3\u001B[0m \u001B[1;33m=\u001B[0m \u001B[0mget_data\u001B[0m\u001B[1;33m(\u001B[0m\u001B[1;33m)\u001B[0m\u001B[1;33m\u001B[0m\u001B[1;33m\u001B[0m\u001B[0m\n\u001B[0m\u001B[0;32m    718\u001B[0m         \u001B[0mcar1_position\u001B[0m \u001B[1;33m=\u001B[0m \u001B[0mbereken_posities\u001B[0m\u001B[1;33m(\u001B[0m\u001B[0mtime\u001B[0m\u001B[1;33m,\u001B[0m \u001B[0mcar1\u001B[0m\u001B[1;33m)\u001B[0m\u001B[1;33m\u001B[0m\u001B[1;33m\u001B[0m\u001B[0m\n\u001B[0;32m    719\u001B[0m         \u001B[0mcar2_position\u001B[0m \u001B[1;33m=\u001B[0m \u001B[0mbereken_posities\u001B[0m\u001B[1;33m(\u001B[0m\u001B[0mtime\u001B[0m\u001B[1;33m,\u001B[0m \u001B[0mcar2\u001B[0m\u001B[1;33m)\u001B[0m\u001B[1;33m\u001B[0m\u001B[1;33m\u001B[0m\u001B[0m\n",
      "\u001B[1;31mTypeError\u001B[0m: cannot unpack non-iterable NoneType object"
     ]
    }
   ],
   "source": [
    "ac_tests.test_verkeer_posities(get_data, bereken_posities, vind_botsing)"
   ]
  },
  {
   "cell_type": "markdown",
   "metadata": {
    "deletable": false,
    "editable": false
   },
   "source": [
    "## Opdracht 9 (120p)\n",
    "In deze opdracht gaan we nogmaals numeriek integreren, maar in dit geval hebben we geen data-bestand om in te lezen, maar krijgen we een functie mee en twee x-waarden waartussen we de integraal willen weten.\n",
    "Om deze te berekenen gaan we een Riemann-som opstellen, waarbij je zelf mag kiezen welke variant je gebruikt **(wel moet je aangeven welke je gebruikt, en moet dit kloppen met je code)**. \n",
    "\n",
    "We kunnen de meegegeven functie `func` gebruiken om de data binnen de loop on-the-fly voor ons te genereren. Je mag er hierbij vanuit gaan dat `x1` links van `x2` ligt, dus dat je een loop kan maken die op `x1` begint en doorloopt tot `x2`. We hanteren als stapgrootte de meegegeven parameter `delta`.\n",
    "\n",
    "Verder meegegeven een drietal functies waarmee je implementatie getest zal worden. `pi`[[graph](https://www.desmos.com/calculator/qxliatgfpc)] geeft, voor de integraal tussen $0$ en $1$ een benadering van $\\pi$, `gauss`[[graph](https://www.desmos.com/calculator/r3qh9jjqqf)] is gerelateerd aand de de normaal-verdeling die jullie in blok B gezien hebben, en `bizarre` [[graph](https://www.desmos.com/calculator/8v8r4m0btq)] is een harige functie die we absoluut niet met de hand willen uitrekenen."
   ]
  },
  {
   "cell_type": "code",
   "execution_count": 72,
   "metadata": {},
   "outputs": [],
   "source": [
    "def get_integral_between(func: Callable[[float], float], x1: float, x2: float, delta: float = 0.0001) -> float: # TODO\n",
    "    pass"
   ]
  },
  {
   "cell_type": "code",
   "execution_count": 73,
   "metadata": {
    "deletable": false,
    "editable": false
   },
   "outputs": [
    {
     "data": {
      "text/markdown": [
       "### Tests\n",
       "| **Test** | **Betekenis** |\n",
       "|---:|:---|\n",
       "| `test_pi` | Zoekt de integraal van `pi` op $[0,1]$, dit zou $\\pi$ moeten benaderen  |\n",
       "| `test_gauss` | Zoekt de integraal van `gauss` op $[-100,100]$, dit zou $\\sqrt\\pi$ moeten benaderen |\n",
       "| `test_bizarre` | Zoekt de integraal van `bizarre` voor de middelste heuvel, dit zou $1.86$ moeten benaderen |"
      ],
      "text/plain": [
       "<IPython.core.display.Markdown object>"
      ]
     },
     "metadata": {},
     "output_type": "display_data"
    },
    {
     "name": "stderr",
     "output_type": "stream",
     "text": [
      "test_bizarre (ac_tests.test_numeric_integral.<locals>.TestNumericIntegral) ... ERROR\n",
      "test_gauss (ac_tests.test_numeric_integral.<locals>.TestNumericIntegral) ... ERROR\n",
      "test_pi (ac_tests.test_numeric_integral.<locals>.TestNumericIntegral) ... ERROR\n",
      "\n",
      "======================================================================\n",
      "ERROR: test_bizarre (ac_tests.test_numeric_integral.<locals>.TestNumericIntegral)\n",
      "----------------------------------------------------------------------\n",
      "Traceback (most recent call last):\n",
      "  File \"C:\\Users\\emiel\\PycharmProjects\\v1ac\\ac_tests.py\", line 751, in test_bizarre\n",
      "    np.testing.assert_almost_equal(get_integral_between(self.bizarre, -0.74, 1.07), 1.86, 0.01)\n",
      "  File \"c:\\users\\emiel\\appdata\\local\\programs\\python\\python38-32\\lib\\site-packages\\numpy\\testing\\_private\\utils.py\", line 594, in assert_almost_equal\n",
      "    if abs(desired - actual) >= 1.5 * 10.0**(-decimal):\n",
      "TypeError: unsupported operand type(s) for -: 'float' and 'NoneType'\n",
      "\n",
      "======================================================================\n",
      "ERROR: test_gauss (ac_tests.test_numeric_integral.<locals>.TestNumericIntegral)\n",
      "----------------------------------------------------------------------\n",
      "Traceback (most recent call last):\n",
      "  File \"C:\\Users\\emiel\\PycharmProjects\\v1ac\\ac_tests.py\", line 747, in test_gauss\n",
      "    np.testing.assert_almost_equal(get_integral_between(self.gauss, -100, 100, 0.1), math.sqrt(math.pi), 0.01)\n",
      "  File \"c:\\users\\emiel\\appdata\\local\\programs\\python\\python38-32\\lib\\site-packages\\numpy\\testing\\_private\\utils.py\", line 594, in assert_almost_equal\n",
      "    if abs(desired - actual) >= 1.5 * 10.0**(-decimal):\n",
      "TypeError: unsupported operand type(s) for -: 'float' and 'NoneType'\n",
      "\n",
      "======================================================================\n",
      "ERROR: test_pi (ac_tests.test_numeric_integral.<locals>.TestNumericIntegral)\n",
      "----------------------------------------------------------------------\n",
      "Traceback (most recent call last):\n",
      "  File \"C:\\Users\\emiel\\PycharmProjects\\v1ac\\ac_tests.py\", line 749, in test_pi\n",
      "    np.testing.assert_almost_equal(get_integral_between(self.pi, 0, 1), math.pi, 0.01)\n",
      "  File \"c:\\users\\emiel\\appdata\\local\\programs\\python\\python38-32\\lib\\site-packages\\numpy\\testing\\_private\\utils.py\", line 594, in assert_almost_equal\n",
      "    if abs(desired - actual) >= 1.5 * 10.0**(-decimal):\n",
      "TypeError: unsupported operand type(s) for -: 'float' and 'NoneType'\n",
      "\n",
      "----------------------------------------------------------------------\n",
      "Ran 3 tests in 0.003s\n",
      "\n",
      "FAILED (errors=3)\n"
     ]
    }
   ],
   "source": [
    "def pi(self, x: float) -> float:\n",
    "    return 4 / (1+x**2)\n",
    "def gauss(self, x: float) -> float:\n",
    "    return math.e **(-x**2)\n",
    "def bizarre(x: float) -> float:\n",
    "    return (math.sin(x)**2 / -math.cos(x**4)) + math.e**x\n",
    "    \n",
    "ac_tests.test_numeric_integral(get_integral_between)"
   ]
  },
  {
   "cell_type": "markdown",
   "metadata": {
    "deletable": false,
    "editable": false
   },
   "source": [
    "### $\\to$ Bekijk hier de theorie over de integraal van een polynoom"
   ]
  },
  {
   "cell_type": "markdown",
   "metadata": {
    "deletable": false,
    "editable": false
   },
   "source": [
    "## Opdracht 10 (60p)\n",
    "Programmeer de regel voor polynomen uit in Python. De polynomen werken hetzelfde als bij opdracht 3. Omdat we in dit geval vaak met een breuk te maken zullen krijgen, kan het zijn dat Python belachelijke dingen print zoals $\\frac{6004799503160661}{18014398509481984}$ voor $\\frac{1}{3}$. Om dit te voorkomen kun je een deling `x / y` opschrijven als `Fraction(x, y)`, maar dit is niet verplicht.\n",
    "\n",
    "Tevens staan in het test-blok de gebruikte polynomen om ook zelf te kunnen debuggen als er iets misgaat."
   ]
  },
  {
   "cell_type": "code",
   "execution_count": 74,
   "metadata": {},
   "outputs": [],
   "source": [
    "def get_integral(poly: Polynomial) -> Polynomial: # TODO\n",
    "    \"\"\"Bereken de integral van een simpele polynoom. De argumenten komen binnen via een tuple.\n",
    "       `label`, `var` en `primes` zijn bedoeld voor het printen van de polynoom, en niet van \n",
    "       belang voor de opdracht. Alleen `primes` moet bij differentiëren met 1 worden opgehoogd.\n",
    "       Doel van de opdracht is vooral het aanpassen van `terms`.\n",
    "    \n",
    "    Args:\n",
    "        terms (int): Een dictionary met alle coëfficienten.\n",
    "        label (str): De naam van de functie, bijvoorbeeld f.\n",
    "        var (str): De variabele van de functie, bijvoorbeeld x.\n",
    "        primes (int): Het aantal keer dat de functie gedifferentieerd is; begint op 0\n",
    "                      en wordt elke keer met 1 verlaagd omdat we nu de andere kant op gaan.\n",
    "\n",
    "    Returns:\n",
    "        Polynomial: (terms_derivative, label, var, primes).\"\"\"\n",
    "    \n",
    "    terms, label, var, primes = poly\n",
    "    return (integral, label, var, primes - 1)"
   ]
  },
  {
   "cell_type": "code",
   "execution_count": 75,
   "metadata": {
    "deletable": false,
    "editable": false
   },
   "outputs": [
    {
     "data": {
      "text/markdown": [
       "### Tests\n",
       "| **Test** | **Betekenis** |\n",
       "|---:|:---|\n",
       "| `test_squared` | Zoekt de integraal van `x_squared` ($x^2$) |\n",
       "| `test_recip_sq` | Zoekt de integraal van `test_recip_sq` ($\\frac{1}{x^2}$) |\n",
       "| `test_root` | Zoekt de integraal van `x_root` ($\\sqrt x$) |"
      ],
      "text/plain": [
       "<IPython.core.display.Markdown object>"
      ]
     },
     "metadata": {},
     "output_type": "display_data"
    },
    {
     "name": "stderr",
     "output_type": "stream",
     "text": [
      "test_recip_sq (ac_tests.test_polynomial_integral.<locals>.TestNumericIntegral) ... ERROR\n",
      "test_root (ac_tests.test_polynomial_integral.<locals>.TestNumericIntegral) ... ERROR\n",
      "test_squared (ac_tests.test_polynomial_integral.<locals>.TestNumericIntegral) ... ERROR\n",
      "\n",
      "======================================================================\n",
      "ERROR: test_recip_sq (ac_tests.test_polynomial_integral.<locals>.TestNumericIntegral)\n",
      "----------------------------------------------------------------------\n",
      "Traceback (most recent call last):\n",
      "  File \"C:\\Users\\emiel\\PycharmProjects\\v1ac\\ac_tests.py\", line 770, in test_recip_sq\n",
      "    np.testing.assert_equal(get_integral(self.x_recip_sq)[0][-1], -1)\n",
      "  File \"<ipython-input-74-a9cd77869f00>\", line 18, in get_integral\n",
      "    return (integral, label, var, primes - 1)\n",
      "NameError: name 'integral' is not defined\n",
      "\n",
      "======================================================================\n",
      "ERROR: test_root (ac_tests.test_polynomial_integral.<locals>.TestNumericIntegral)\n",
      "----------------------------------------------------------------------\n",
      "Traceback (most recent call last):\n",
      "  File \"C:\\Users\\emiel\\PycharmProjects\\v1ac\\ac_tests.py\", line 772, in test_root\n",
      "    np.testing.assert_equal(get_integral(self.x_root)[0][Fraction(3,2)], Fraction(2,3))\n",
      "  File \"<ipython-input-74-a9cd77869f00>\", line 18, in get_integral\n",
      "    return (integral, label, var, primes - 1)\n",
      "NameError: name 'integral' is not defined\n",
      "\n",
      "======================================================================\n",
      "ERROR: test_squared (ac_tests.test_polynomial_integral.<locals>.TestNumericIntegral)\n",
      "----------------------------------------------------------------------\n",
      "Traceback (most recent call last):\n",
      "  File \"C:\\Users\\emiel\\PycharmProjects\\v1ac\\ac_tests.py\", line 768, in test_squared\n",
      "    np.testing.assert_almost_equal(get_integral(self.x_squared)[0][3], Fraction(1,3), 0.001)\n",
      "  File \"<ipython-input-74-a9cd77869f00>\", line 18, in get_integral\n",
      "    return (integral, label, var, primes - 1)\n",
      "NameError: name 'integral' is not defined\n",
      "\n",
      "----------------------------------------------------------------------\n",
      "Ran 3 tests in 0.003s\n",
      "\n",
      "FAILED (errors=3)\n"
     ]
    }
   ],
   "source": [
    "x_squared = polynomial({1: 0, 2: 1})\n",
    "x_recip_sq = polynomial({1: 0, -2: 1})\n",
    "x_root = polynomial({1/2: 1})\n",
    "\n",
    "ac_tests.test_polynomial_integral(get_integral)"
   ]
  },
  {
   "cell_type": "markdown",
   "metadata": {
    "deletable": false,
    "editable": false
   },
   "source": [
    "# Checkpoint Delta\n",
    "Als je alles hierboven hebt gemaakt kun je je werk inleveren. Als de testen aangeven dat er nog fouten in zitten, probeer deze dan te verbeteren, maar schroom ook niet om de docent om hulp te vragen als je er niet uitkomt.\n",
    "\n",
    "Om je werk in te leveren moet je er allereerst voor zorgen dat je Notebook is opgeslagen (ctrl-s of het icoontje in de toolbar). Daarna kun je een Git-commit maken en deze naar je eigen GitHub of GitLab pushen. De link naar je repository is uiteindelijk wat je inlevert op Canvas, om de docent een seintje te geven dat er werk te beoordelen is."
   ]
  },
  {
   "cell_type": "code",
   "execution_count": null,
   "metadata": {},
   "outputs": [],
   "source": []
  },
  {
   "cell_type": "code",
   "execution_count": null,
   "metadata": {},
   "outputs": [],
   "source": []
  },
  {
   "cell_type": "code",
   "execution_count": null,
   "metadata": {},
   "outputs": [],
   "source": []
  },
  {
   "cell_type": "code",
   "execution_count": null,
   "metadata": {},
   "outputs": [],
   "source": []
  }
 ],
 "metadata": {
  "kernelspec": {
   "display_name": "Python 3",
   "language": "python",
   "name": "python3"
  },
  "language_info": {
   "codemirror_mode": {
    "name": "ipython",
    "version": 3
   },
   "file_extension": ".py",
   "mimetype": "text/x-python",
   "name": "python",
   "nbconvert_exporter": "python",
   "pygments_lexer": "ipython3",
   "version": "3.8.5"
  }
 },
 "nbformat": 4,
 "nbformat_minor": 4
}